{
 "cells": [
  {
   "cell_type": "markdown",
   "metadata": {},
   "source": [
    "https://icasas101.github.io/FinalDSTutorial/ <<<<< This is the link to our website!"
   ]
  },
  {
   "cell_type": "markdown",
   "metadata": {},
   "source": [
    "# Identifying Bias in the NOPD"
   ]
  },
  {
   "cell_type": "markdown",
   "metadata": {},
   "source": [
    "By Josh Kellner and Isabella Casas"
   ]
  },
  {
   "cell_type": "markdown",
   "metadata": {},
   "source": [
    "CMPS 3160 - Introduction to Data Science - Professor Mattei"
   ]
  },
  {
   "cell_type": "markdown",
   "metadata": {},
   "source": [
    "## Introduction"
   ]
  },
  {
   "cell_type": "markdown",
   "metadata": {},
   "source": [
    "### Background"
   ]
  },
  {
   "cell_type": "markdown",
   "metadata": {},
   "source": [
    "The issue of police brutality against black people in our country has, of course, been as widely discussed as ever over the last year because of the widespread abundance protests against it all over the country. This issue has by no means only been brought up around this time when many people are reckoning with it, but the ability of social media to spread information and set trends so quickly has given the issue a major spotlight. \n",
    "\n",
    "Some of the questions we would like to answer are as follows:\n",
    "1. Are police more likely to question, search, and/or take more severe actions against people of color?\n",
    "2. Could gender have an effect on how likely someone is to be questioned/searched?\n",
    "3. Could police be biased against people of certain classes?\n",
    "\n",
    "In an ideal situation, any unfair biases that are discovered by this project will be used to determine a change in or create policy that would correct these unethical discriminatory actions and prompt city officials to put that policy in place. At the moment, we are focusing on New Orleans but a possible expansion, given that the datasets would be accessible, could be to compare the conclusions that we draw to conclusions drawn from other cities’ data."
   ]
  },
  {
   "cell_type": "markdown",
   "metadata": {},
   "source": [
    "### About our dataset"
   ]
  },
  {
   "cell_type": "markdown",
   "metadata": {},
   "source": [
    "Link to dataset: https://data.nola.gov/Public-Safety-and-Preparedness/Stop-and-Search-Field-Interviews-/kitu-f4uy/data"
   ]
  },
  {
   "cell_type": "markdown",
   "metadata": {},
   "source": [
    "For our Final Tutorial, we have partnered up to analyze a dataset called “Stop and Search (Field Interviews).” It is filled with data regarding instances of people being questioned by the New Orleans Police Department. Some of the information about these interviews includes when and where it happened, the officer conducting the questioning and potential search, a description of the individual being searched including age, gender, race, height and weight, the reason the interview was conducted, actions taken, etc. We plan to analyze this information in such a way that one can use our analysis to learn about any biases that NOPD has, or a lack thereof, and how these biases manifest themselves. We expect to specifically look at relationships between frequencies of interviews and searches and descriptors of the subjects of these interviews and searches as well as the relationships between the severity of the actions taken by the police and the descriptors of the subjects. The dataset provides information about the car that the subject was driving, if they were driving one, which will be another variable that can shed light on biases."
   ]
  },
  {
   "cell_type": "markdown",
   "metadata": {},
   "source": [
    "### Collaboration plan"
   ]
  },
  {
   "cell_type": "markdown",
   "metadata": {},
   "source": [
    "In terms of a collaboration plan, we have a Github repository set up to keep track of our most up to date work as well as each update. Every two weeks we plan to meet on Zoom to divide specific chunks of work to be done. In these meetings we will review the work we have done since the last meeting and work through things that we couldn’t complete individually, together. "
   ]
  },
  {
   "cell_type": "markdown",
   "metadata": {},
   "source": [
    "## Data ETL"
   ]
  },
  {
   "cell_type": "markdown",
   "metadata": {},
   "source": [
    "### Extraction"
   ]
  },
  {
   "cell_type": "markdown",
   "metadata": {},
   "source": [
    "Our first step was to import our necessary libaries and then download the data files."
   ]
  },
  {
   "cell_type": "code",
   "execution_count": 1,
   "metadata": {},
   "outputs": [],
   "source": [
    "import pandas as pd\n",
    "import numpy as np"
   ]
  },
  {
   "cell_type": "code",
   "execution_count": 2,
   "metadata": {},
   "outputs": [
    {
     "name": "stderr",
     "output_type": "stream",
     "text": [
      "'head' is not recognized as an internal or external command,\n",
      "operable program or batch file.\n",
      "'head' is not recognized as an internal or external command,\n",
      "operable program or batch file.\n"
     ]
    }
   ],
   "source": [
    "!head ../FinalDSTutorial/Stop_and_Search__Field_Interviews_.csv\n",
    "!head ../FinalDSTutorial/Neighborhood profiles data tables.xlsx"
   ]
  },
  {
   "cell_type": "markdown",
   "metadata": {},
   "source": [
    "### Load"
   ]
  },
  {
   "cell_type": "markdown",
   "metadata": {},
   "source": [
    "This dataset will contain information regarding the genders of people living in New Orleans from 2000 and 2014-2018."
   ]
  },
  {
   "cell_type": "code",
   "execution_count": 3,
   "metadata": {
    "scrolled": true
   },
   "outputs": [
    {
     "data": {
      "text/html": [
       "<div>\n",
       "<style scoped>\n",
       "    .dataframe tbody tr th:only-of-type {\n",
       "        vertical-align: middle;\n",
       "    }\n",
       "\n",
       "    .dataframe tbody tr th {\n",
       "        vertical-align: top;\n",
       "    }\n",
       "\n",
       "    .dataframe thead th {\n",
       "        text-align: right;\n",
       "    }\n",
       "</style>\n",
       "<table border=\"1\" class=\"dataframe\">\n",
       "  <thead>\n",
       "    <tr style=\"text-align: right;\">\n",
       "      <th></th>\n",
       "      <th>Female2000</th>\n",
       "      <th>Female2014-2018</th>\n",
       "      <th>FemaleMOE</th>\n",
       "      <th>Blank</th>\n",
       "      <th>Male2000</th>\n",
       "      <th>Male2014-2018</th>\n",
       "      <th>MaleMOE</th>\n",
       "    </tr>\n",
       "    <tr>\n",
       "      <th>Location</th>\n",
       "      <th></th>\n",
       "      <th></th>\n",
       "      <th></th>\n",
       "      <th></th>\n",
       "      <th></th>\n",
       "      <th></th>\n",
       "      <th></th>\n",
       "    </tr>\n",
       "  </thead>\n",
       "  <tbody>\n",
       "    <tr>\n",
       "      <td>Algiers Point</td>\n",
       "      <td>0.520</td>\n",
       "      <td>0.503</td>\n",
       "      <td>0.049</td>\n",
       "      <td>NaN</td>\n",
       "      <td>0.480</td>\n",
       "      <td>0.497</td>\n",
       "      <td>0.033</td>\n",
       "    </tr>\n",
       "    <tr>\n",
       "      <td>Audubon</td>\n",
       "      <td>0.530</td>\n",
       "      <td>0.534</td>\n",
       "      <td>0.022</td>\n",
       "      <td>NaN</td>\n",
       "      <td>0.470</td>\n",
       "      <td>0.466</td>\n",
       "      <td>0.017</td>\n",
       "    </tr>\n",
       "    <tr>\n",
       "      <td>B.W. Cooper</td>\n",
       "      <td>0.604</td>\n",
       "      <td>0.515</td>\n",
       "      <td>0.048</td>\n",
       "      <td>NaN</td>\n",
       "      <td>0.396</td>\n",
       "      <td>0.485</td>\n",
       "      <td>0.063</td>\n",
       "    </tr>\n",
       "    <tr>\n",
       "      <td>Bayou St. John</td>\n",
       "      <td>0.532</td>\n",
       "      <td>0.525</td>\n",
       "      <td>0.030</td>\n",
       "      <td>NaN</td>\n",
       "      <td>0.468</td>\n",
       "      <td>0.475</td>\n",
       "      <td>0.041</td>\n",
       "    </tr>\n",
       "    <tr>\n",
       "      <td>Behrman</td>\n",
       "      <td>0.539</td>\n",
       "      <td>0.582</td>\n",
       "      <td>0.028</td>\n",
       "      <td>NaN</td>\n",
       "      <td>0.461</td>\n",
       "      <td>0.418</td>\n",
       "      <td>0.036</td>\n",
       "    </tr>\n",
       "    <tr>\n",
       "      <td>...</td>\n",
       "      <td>...</td>\n",
       "      <td>...</td>\n",
       "      <td>...</td>\n",
       "      <td>...</td>\n",
       "      <td>...</td>\n",
       "      <td>...</td>\n",
       "      <td>...</td>\n",
       "    </tr>\n",
       "    <tr>\n",
       "      <td>West Lake Forest</td>\n",
       "      <td>0.551</td>\n",
       "      <td>0.537</td>\n",
       "      <td>0.023</td>\n",
       "      <td>NaN</td>\n",
       "      <td>0.449</td>\n",
       "      <td>0.463</td>\n",
       "      <td>0.044</td>\n",
       "    </tr>\n",
       "    <tr>\n",
       "      <td>West Riverside</td>\n",
       "      <td>0.535</td>\n",
       "      <td>0.518</td>\n",
       "      <td>0.029</td>\n",
       "      <td>NaN</td>\n",
       "      <td>0.465</td>\n",
       "      <td>0.482</td>\n",
       "      <td>0.037</td>\n",
       "    </tr>\n",
       "    <tr>\n",
       "      <td>Whitney</td>\n",
       "      <td>0.545</td>\n",
       "      <td>0.518</td>\n",
       "      <td>0.034</td>\n",
       "      <td>NaN</td>\n",
       "      <td>0.455</td>\n",
       "      <td>0.482</td>\n",
       "      <td>0.128</td>\n",
       "    </tr>\n",
       "    <tr>\n",
       "      <td>New Orleans</td>\n",
       "      <td>0.531</td>\n",
       "      <td>0.524</td>\n",
       "      <td>0.000</td>\n",
       "      <td>NaN</td>\n",
       "      <td>0.469</td>\n",
       "      <td>0.476</td>\n",
       "      <td>0.000</td>\n",
       "    </tr>\n",
       "    <tr>\n",
       "      <td>United States</td>\n",
       "      <td>0.509</td>\n",
       "      <td>0.508</td>\n",
       "      <td>0.000</td>\n",
       "      <td>NaN</td>\n",
       "      <td>0.491</td>\n",
       "      <td>0.492</td>\n",
       "      <td>0.000</td>\n",
       "    </tr>\n",
       "  </tbody>\n",
       "</table>\n",
       "<p>74 rows × 7 columns</p>\n",
       "</div>"
      ],
      "text/plain": [
       "                  Female2000  Female2014-2018  FemaleMOE  Blank  Male2000  \\\n",
       "Location                                                                    \n",
       "Algiers Point          0.520            0.503      0.049    NaN     0.480   \n",
       "Audubon                0.530            0.534      0.022    NaN     0.470   \n",
       "B.W. Cooper            0.604            0.515      0.048    NaN     0.396   \n",
       "Bayou St. John         0.532            0.525      0.030    NaN     0.468   \n",
       "Behrman                0.539            0.582      0.028    NaN     0.461   \n",
       "...                      ...              ...        ...    ...       ...   \n",
       "West Lake Forest       0.551            0.537      0.023    NaN     0.449   \n",
       "West Riverside         0.535            0.518      0.029    NaN     0.465   \n",
       "Whitney                0.545            0.518      0.034    NaN     0.455   \n",
       "New Orleans            0.531            0.524      0.000    NaN     0.469   \n",
       "United States          0.509            0.508      0.000    NaN     0.491   \n",
       "\n",
       "                  Male2014-2018  MaleMOE  \n",
       "Location                                  \n",
       "Algiers Point             0.497    0.033  \n",
       "Audubon                   0.466    0.017  \n",
       "B.W. Cooper               0.485    0.063  \n",
       "Bayou St. John            0.475    0.041  \n",
       "Behrman                   0.418    0.036  \n",
       "...                         ...      ...  \n",
       "West Lake Forest          0.463    0.044  \n",
       "West Riverside            0.482    0.037  \n",
       "Whitney                   0.482    0.128  \n",
       "New Orleans               0.476    0.000  \n",
       "United States             0.492    0.000  \n",
       "\n",
       "[74 rows x 7 columns]"
      ]
     },
     "metadata": {},
     "output_type": "display_data"
    },
    {
     "data": {
      "text/plain": [
       "Female2000         float64\n",
       "Female2014-2018    float64\n",
       "FemaleMOE          float64\n",
       "Blank              float64\n",
       "Male2000           float64\n",
       "Male2014-2018      float64\n",
       "MaleMOE            float64\n",
       "dtype: object"
      ]
     },
     "metadata": {},
     "output_type": "display_data"
    }
   ],
   "source": [
    "gender_df = pd.read_excel(\"../FinalDSTutorial/Neighborhood profiles data tables.xlsx\",\n",
    "                          sheet_name='Table 2',\n",
    "                          names=['Location', 'Female2000', 'Female2014-2018', 'FemaleMOE', 'Blank', 'Male2000', 'Male2014-2018', 'MaleMOE'],\n",
    "                          header=None)\n",
    "gender_df = gender_df.dropna(how='all')\n",
    "gender_df = gender_df.drop([6, 8, 10, 11])\n",
    "gender_df = gender_df.set_index('Location')\n",
    "gender_df = gender_df.replace('NaN%', np.nan)\n",
    "gender_df = gender_df.astype({'Female2000': 'float64', 'Female2014-2018': 'float64', 'FemaleMOE': 'float64'})\n",
    "display(gender_df)\n",
    "display(gender_df.dtypes)"
   ]
  },
  {
   "cell_type": "markdown",
   "metadata": {},
   "source": [
    "This dataset contains information regarding the racial makeup of each neighborhood of New Orleans."
   ]
  },
  {
   "cell_type": "code",
   "execution_count": 39,
   "metadata": {},
   "outputs": [
    {
     "data": {
      "text/html": [
       "<div>\n",
       "<style scoped>\n",
       "    .dataframe tbody tr th:only-of-type {\n",
       "        vertical-align: middle;\n",
       "    }\n",
       "\n",
       "    .dataframe tbody tr th {\n",
       "        vertical-align: top;\n",
       "    }\n",
       "\n",
       "    .dataframe thead th {\n",
       "        text-align: right;\n",
       "    }\n",
       "</style>\n",
       "<table border=\"1\" class=\"dataframe\">\n",
       "  <thead>\n",
       "    <tr style=\"text-align: right;\">\n",
       "      <th></th>\n",
       "      <th>Black2000</th>\n",
       "      <th>Black2014-2018</th>\n",
       "      <th>BlackMOE</th>\n",
       "      <th>White2000</th>\n",
       "      <th>White2014-2018</th>\n",
       "      <th>WhiteMOE</th>\n",
       "      <th>Asian2000</th>\n",
       "      <th>Asian2014-2018</th>\n",
       "      <th>AsianMOE</th>\n",
       "      <th>AmerIndian2000</th>\n",
       "      <th>...</th>\n",
       "      <th>AmerIndianMOE</th>\n",
       "      <th>Biracial2000</th>\n",
       "      <th>Biracial2014-2018</th>\n",
       "      <th>BiracialMOE</th>\n",
       "      <th>Hispanic2000</th>\n",
       "      <th>Hispanic 2013-2017</th>\n",
       "      <th>HispanicMOE</th>\n",
       "      <th>Other2000</th>\n",
       "      <th>Other2013-2017</th>\n",
       "      <th>OtherMOE</th>\n",
       "    </tr>\n",
       "    <tr>\n",
       "      <th>Location</th>\n",
       "      <th></th>\n",
       "      <th></th>\n",
       "      <th></th>\n",
       "      <th></th>\n",
       "      <th></th>\n",
       "      <th></th>\n",
       "      <th></th>\n",
       "      <th></th>\n",
       "      <th></th>\n",
       "      <th></th>\n",
       "      <th></th>\n",
       "      <th></th>\n",
       "      <th></th>\n",
       "      <th></th>\n",
       "      <th></th>\n",
       "      <th></th>\n",
       "      <th></th>\n",
       "      <th></th>\n",
       "      <th></th>\n",
       "      <th></th>\n",
       "      <th></th>\n",
       "    </tr>\n",
       "  </thead>\n",
       "  <tbody>\n",
       "    <tr>\n",
       "      <td>Algiers Point</td>\n",
       "      <td>0.251</td>\n",
       "      <td>0.086</td>\n",
       "      <td>0.044</td>\n",
       "      <td>0.674</td>\n",
       "      <td>0.816</td>\n",
       "      <td>0.030</td>\n",
       "      <td>0.008</td>\n",
       "      <td>0.003</td>\n",
       "      <td>0.005</td>\n",
       "      <td>0.005</td>\n",
       "      <td>...</td>\n",
       "      <td>0.004</td>\n",
       "      <td>0.010</td>\n",
       "      <td>0.005</td>\n",
       "      <td>0.008</td>\n",
       "      <td>0.047</td>\n",
       "      <td>0.090</td>\n",
       "      <td>0.047</td>\n",
       "      <td>0.005</td>\n",
       "      <td>0.000</td>\n",
       "      <td>0.006</td>\n",
       "    </tr>\n",
       "    <tr>\n",
       "      <td>Audubon</td>\n",
       "      <td>0.051</td>\n",
       "      <td>0.071</td>\n",
       "      <td>0.015</td>\n",
       "      <td>0.861</td>\n",
       "      <td>0.736</td>\n",
       "      <td>0.013</td>\n",
       "      <td>0.024</td>\n",
       "      <td>0.055</td>\n",
       "      <td>0.011</td>\n",
       "      <td>0.002</td>\n",
       "      <td>...</td>\n",
       "      <td>0.002</td>\n",
       "      <td>0.015</td>\n",
       "      <td>0.035</td>\n",
       "      <td>0.011</td>\n",
       "      <td>0.044</td>\n",
       "      <td>0.100</td>\n",
       "      <td>0.026</td>\n",
       "      <td>0.003</td>\n",
       "      <td>0.003</td>\n",
       "      <td>0.003</td>\n",
       "    </tr>\n",
       "    <tr>\n",
       "      <td>B.W. Cooper</td>\n",
       "      <td>0.984</td>\n",
       "      <td>0.974</td>\n",
       "      <td>0.041</td>\n",
       "      <td>0.002</td>\n",
       "      <td>0.000</td>\n",
       "      <td>0.012</td>\n",
       "      <td>0.000</td>\n",
       "      <td>0.000</td>\n",
       "      <td>0.012</td>\n",
       "      <td>0.000</td>\n",
       "      <td>...</td>\n",
       "      <td>0.012</td>\n",
       "      <td>0.004</td>\n",
       "      <td>0.015</td>\n",
       "      <td>0.014</td>\n",
       "      <td>0.009</td>\n",
       "      <td>0.008</td>\n",
       "      <td>0.013</td>\n",
       "      <td>0.001</td>\n",
       "      <td>0.004</td>\n",
       "      <td>0.014</td>\n",
       "    </tr>\n",
       "    <tr>\n",
       "      <td>Bayou St. John</td>\n",
       "      <td>0.678</td>\n",
       "      <td>0.370</td>\n",
       "      <td>0.092</td>\n",
       "      <td>0.267</td>\n",
       "      <td>0.537</td>\n",
       "      <td>0.021</td>\n",
       "      <td>0.009</td>\n",
       "      <td>0.003</td>\n",
       "      <td>0.003</td>\n",
       "      <td>0.004</td>\n",
       "      <td>...</td>\n",
       "      <td>0.004</td>\n",
       "      <td>0.008</td>\n",
       "      <td>0.004</td>\n",
       "      <td>0.004</td>\n",
       "      <td>0.032</td>\n",
       "      <td>0.083</td>\n",
       "      <td>0.036</td>\n",
       "      <td>0.002</td>\n",
       "      <td>0.003</td>\n",
       "      <td>0.005</td>\n",
       "    </tr>\n",
       "    <tr>\n",
       "      <td>Behrman</td>\n",
       "      <td>0.774</td>\n",
       "      <td>0.783</td>\n",
       "      <td>0.051</td>\n",
       "      <td>0.128</td>\n",
       "      <td>0.114</td>\n",
       "      <td>0.041</td>\n",
       "      <td>0.016</td>\n",
       "      <td>0.003</td>\n",
       "      <td>0.003</td>\n",
       "      <td>0.002</td>\n",
       "      <td>...</td>\n",
       "      <td>0.003</td>\n",
       "      <td>0.012</td>\n",
       "      <td>0.012</td>\n",
       "      <td>0.013</td>\n",
       "      <td>0.066</td>\n",
       "      <td>0.087</td>\n",
       "      <td>0.039</td>\n",
       "      <td>0.002</td>\n",
       "      <td>0.000</td>\n",
       "      <td>0.004</td>\n",
       "    </tr>\n",
       "    <tr>\n",
       "      <td>...</td>\n",
       "      <td>...</td>\n",
       "      <td>...</td>\n",
       "      <td>...</td>\n",
       "      <td>...</td>\n",
       "      <td>...</td>\n",
       "      <td>...</td>\n",
       "      <td>...</td>\n",
       "      <td>...</td>\n",
       "      <td>...</td>\n",
       "      <td>...</td>\n",
       "      <td>...</td>\n",
       "      <td>...</td>\n",
       "      <td>...</td>\n",
       "      <td>...</td>\n",
       "      <td>...</td>\n",
       "      <td>...</td>\n",
       "      <td>...</td>\n",
       "      <td>...</td>\n",
       "      <td>...</td>\n",
       "      <td>...</td>\n",
       "      <td>...</td>\n",
       "    </tr>\n",
       "    <tr>\n",
       "      <td>West Lake Forest</td>\n",
       "      <td>0.954</td>\n",
       "      <td>0.921</td>\n",
       "      <td>0.017</td>\n",
       "      <td>0.020</td>\n",
       "      <td>0.003</td>\n",
       "      <td>0.003</td>\n",
       "      <td>0.004</td>\n",
       "      <td>0.000</td>\n",
       "      <td>0.004</td>\n",
       "      <td>0.002</td>\n",
       "      <td>...</td>\n",
       "      <td>0.004</td>\n",
       "      <td>0.007</td>\n",
       "      <td>0.014</td>\n",
       "      <td>0.009</td>\n",
       "      <td>0.013</td>\n",
       "      <td>0.053</td>\n",
       "      <td>0.029</td>\n",
       "      <td>0.001</td>\n",
       "      <td>0.009</td>\n",
       "      <td>0.013</td>\n",
       "    </tr>\n",
       "    <tr>\n",
       "      <td>West Riverside</td>\n",
       "      <td>0.361</td>\n",
       "      <td>0.204</td>\n",
       "      <td>0.052</td>\n",
       "      <td>0.569</td>\n",
       "      <td>0.730</td>\n",
       "      <td>0.024</td>\n",
       "      <td>0.007</td>\n",
       "      <td>0.011</td>\n",
       "      <td>0.007</td>\n",
       "      <td>0.004</td>\n",
       "      <td>...</td>\n",
       "      <td>0.004</td>\n",
       "      <td>0.014</td>\n",
       "      <td>0.010</td>\n",
       "      <td>0.005</td>\n",
       "      <td>0.042</td>\n",
       "      <td>0.039</td>\n",
       "      <td>0.015</td>\n",
       "      <td>0.003</td>\n",
       "      <td>0.004</td>\n",
       "      <td>0.008</td>\n",
       "    </tr>\n",
       "    <tr>\n",
       "      <td>Whitney</td>\n",
       "      <td>0.849</td>\n",
       "      <td>0.786</td>\n",
       "      <td>0.097</td>\n",
       "      <td>0.111</td>\n",
       "      <td>0.168</td>\n",
       "      <td>0.044</td>\n",
       "      <td>0.005</td>\n",
       "      <td>0.022</td>\n",
       "      <td>0.014</td>\n",
       "      <td>0.002</td>\n",
       "      <td>...</td>\n",
       "      <td>0.006</td>\n",
       "      <td>0.009</td>\n",
       "      <td>0.007</td>\n",
       "      <td>0.008</td>\n",
       "      <td>0.023</td>\n",
       "      <td>0.005</td>\n",
       "      <td>0.009</td>\n",
       "      <td>0.000</td>\n",
       "      <td>0.012</td>\n",
       "      <td>0.022</td>\n",
       "    </tr>\n",
       "    <tr>\n",
       "      <td>New Orleans</td>\n",
       "      <td>0.667</td>\n",
       "      <td>0.590</td>\n",
       "      <td>0.002</td>\n",
       "      <td>0.266</td>\n",
       "      <td>0.306</td>\n",
       "      <td>0.000</td>\n",
       "      <td>0.023</td>\n",
       "      <td>0.029</td>\n",
       "      <td>0.001</td>\n",
       "      <td>0.002</td>\n",
       "      <td>...</td>\n",
       "      <td>0.000</td>\n",
       "      <td>0.010</td>\n",
       "      <td>0.015</td>\n",
       "      <td>0.002</td>\n",
       "      <td>0.031</td>\n",
       "      <td>0.055</td>\n",
       "      <td>0.000</td>\n",
       "      <td>0.002</td>\n",
       "      <td>0.004</td>\n",
       "      <td>0.001</td>\n",
       "    </tr>\n",
       "    <tr>\n",
       "      <td>United States</td>\n",
       "      <td>0.121</td>\n",
       "      <td>0.123</td>\n",
       "      <td>0.000</td>\n",
       "      <td>0.691</td>\n",
       "      <td>0.611</td>\n",
       "      <td>0.000</td>\n",
       "      <td>0.036</td>\n",
       "      <td>0.054</td>\n",
       "      <td>0.000</td>\n",
       "      <td>0.007</td>\n",
       "      <td>...</td>\n",
       "      <td>0.000</td>\n",
       "      <td>0.016</td>\n",
       "      <td>0.024</td>\n",
       "      <td>0.000</td>\n",
       "      <td>0.125</td>\n",
       "      <td>0.178</td>\n",
       "      <td>0.000</td>\n",
       "      <td>0.003</td>\n",
       "      <td>0.004</td>\n",
       "      <td>0.000</td>\n",
       "    </tr>\n",
       "  </tbody>\n",
       "</table>\n",
       "<p>74 rows × 21 columns</p>\n",
       "</div>"
      ],
      "text/plain": [
       "                  Black2000  Black2014-2018  BlackMOE  White2000  \\\n",
       "Location                                                           \n",
       "Algiers Point         0.251           0.086     0.044      0.674   \n",
       "Audubon               0.051           0.071     0.015      0.861   \n",
       "B.W. Cooper           0.984           0.974     0.041      0.002   \n",
       "Bayou St. John        0.678           0.370     0.092      0.267   \n",
       "Behrman               0.774           0.783     0.051      0.128   \n",
       "...                     ...             ...       ...        ...   \n",
       "West Lake Forest      0.954           0.921     0.017      0.020   \n",
       "West Riverside        0.361           0.204     0.052      0.569   \n",
       "Whitney               0.849           0.786     0.097      0.111   \n",
       "New Orleans           0.667           0.590     0.002      0.266   \n",
       "United States         0.121           0.123     0.000      0.691   \n",
       "\n",
       "                  White2014-2018  WhiteMOE  Asian2000  Asian2014-2018  \\\n",
       "Location                                                                \n",
       "Algiers Point              0.816     0.030      0.008           0.003   \n",
       "Audubon                    0.736     0.013      0.024           0.055   \n",
       "B.W. Cooper                0.000     0.012      0.000           0.000   \n",
       "Bayou St. John             0.537     0.021      0.009           0.003   \n",
       "Behrman                    0.114     0.041      0.016           0.003   \n",
       "...                          ...       ...        ...             ...   \n",
       "West Lake Forest           0.003     0.003      0.004           0.000   \n",
       "West Riverside             0.730     0.024      0.007           0.011   \n",
       "Whitney                    0.168     0.044      0.005           0.022   \n",
       "New Orleans                0.306     0.000      0.023           0.029   \n",
       "United States              0.611     0.000      0.036           0.054   \n",
       "\n",
       "                  AsianMOE  AmerIndian2000  ...  AmerIndianMOE  Biracial2000  \\\n",
       "Location                                    ...                                \n",
       "Algiers Point        0.005           0.005  ...          0.004         0.010   \n",
       "Audubon              0.011           0.002  ...          0.002         0.015   \n",
       "B.W. Cooper          0.012           0.000  ...          0.012         0.004   \n",
       "Bayou St. John       0.003           0.004  ...          0.004         0.008   \n",
       "Behrman              0.003           0.002  ...          0.003         0.012   \n",
       "...                    ...             ...  ...            ...           ...   \n",
       "West Lake Forest     0.004           0.002  ...          0.004         0.007   \n",
       "West Riverside       0.007           0.004  ...          0.004         0.014   \n",
       "Whitney              0.014           0.002  ...          0.006         0.009   \n",
       "New Orleans          0.001           0.002  ...          0.000         0.010   \n",
       "United States        0.000           0.007  ...          0.000         0.016   \n",
       "\n",
       "                  Biracial2014-2018  BiracialMOE  Hispanic2000  \\\n",
       "Location                                                         \n",
       "Algiers Point                 0.005        0.008         0.047   \n",
       "Audubon                       0.035        0.011         0.044   \n",
       "B.W. Cooper                   0.015        0.014         0.009   \n",
       "Bayou St. John                0.004        0.004         0.032   \n",
       "Behrman                       0.012        0.013         0.066   \n",
       "...                             ...          ...           ...   \n",
       "West Lake Forest              0.014        0.009         0.013   \n",
       "West Riverside                0.010        0.005         0.042   \n",
       "Whitney                       0.007        0.008         0.023   \n",
       "New Orleans                   0.015        0.002         0.031   \n",
       "United States                 0.024        0.000         0.125   \n",
       "\n",
       "                  Hispanic 2013-2017  HispanicMOE  Other2000  Other2013-2017  \\\n",
       "Location                                                                       \n",
       "Algiers Point                  0.090        0.047      0.005           0.000   \n",
       "Audubon                        0.100        0.026      0.003           0.003   \n",
       "B.W. Cooper                    0.008        0.013      0.001           0.004   \n",
       "Bayou St. John                 0.083        0.036      0.002           0.003   \n",
       "Behrman                        0.087        0.039      0.002           0.000   \n",
       "...                              ...          ...        ...             ...   \n",
       "West Lake Forest               0.053        0.029      0.001           0.009   \n",
       "West Riverside                 0.039        0.015      0.003           0.004   \n",
       "Whitney                        0.005        0.009      0.000           0.012   \n",
       "New Orleans                    0.055        0.000      0.002           0.004   \n",
       "United States                  0.178        0.000      0.003           0.004   \n",
       "\n",
       "                  OtherMOE  \n",
       "Location                    \n",
       "Algiers Point        0.006  \n",
       "Audubon              0.003  \n",
       "B.W. Cooper          0.014  \n",
       "Bayou St. John       0.005  \n",
       "Behrman              0.004  \n",
       "...                    ...  \n",
       "West Lake Forest     0.013  \n",
       "West Riverside       0.008  \n",
       "Whitney              0.022  \n",
       "New Orleans          0.001  \n",
       "United States        0.000  \n",
       "\n",
       "[74 rows x 21 columns]"
      ]
     },
     "metadata": {},
     "output_type": "display_data"
    },
    {
     "data": {
      "text/plain": [
       "Black2000              float64\n",
       "Black2014-2018         float64\n",
       "BlackMOE               float64\n",
       "White2000              float64\n",
       "White2014-2018         float64\n",
       "WhiteMOE               float64\n",
       "Asian2000              float64\n",
       "Asian2014-2018         float64\n",
       "AsianMOE               float64\n",
       "AmerIndian2000         float64\n",
       "AmerIndian2014-2018    float64\n",
       "AmerIndianMOE          float64\n",
       "Biracial2000           float64\n",
       "Biracial2014-2018      float64\n",
       "BiracialMOE            float64\n",
       "Hispanic2000           float64\n",
       "Hispanic 2013-2017     float64\n",
       "HispanicMOE            float64\n",
       "Other2000              float64\n",
       "Other2013-2017         float64\n",
       "OtherMOE               float64\n",
       "dtype: object"
      ]
     },
     "metadata": {},
     "output_type": "display_data"
    }
   ],
   "source": [
    "race_df = pd.read_excel(\"../FinalDSTutorial/Neighborhood profiles data tables.xlsx\",\n",
    "                          sheet_name='Table 4',\n",
    "                          names=['Location', 'Black2000', 'Black2014-2018', 'BlackMOE', 'Blank1', 'White2000', 'White2014-2018', 'WhiteMOE', 'Blank2', 'Asian2000', 'Asian2014-2018', 'AsianMOE', 'Blank3', 'AmerIndian2000', 'AmerIndian2014-2018', 'AmerIndianMOE', 'Blank4', 'Biracial2000', 'Biracial2014-2018', 'BiracialMOE', 'Blank5', 'Hispanic2000', 'Hispanic 2013-2017', 'HispanicMOE', 'Blank6', 'Other2000', 'Other2013-2017', 'OtherMOE'],\n",
    "                          header=None)\n",
    "race_df = race_df.dropna(how='all')\n",
    "race_df = race_df.drop([6, 8, 10, 11])\n",
    "race_df = race_df.drop(columns=['Blank1', 'Blank2', 'Blank3', 'Blank4', 'Blank5', 'Blank6'])\n",
    "race_df = race_df.set_index('Location')\n",
    "race_df = race_df.replace('NaN%', np.nan)\n",
    "display(race_df)\n",
    "display(race_df.dtypes)"
   ]
  },
  {
   "cell_type": "markdown",
   "metadata": {},
   "source": [
    "This dataset includes information regarding individuals who were stopped by the NOPD. "
   ]
  },
  {
   "cell_type": "code",
   "execution_count": 4,
   "metadata": {},
   "outputs": [
    {
     "name": "stderr",
     "output_type": "stream",
     "text": [
      "C:\\Users\\Isabe\\Documents\\Anaconda3\\lib\\site-packages\\IPython\\core\\interactiveshell.py:3058: DtypeWarning: Columns (1,7,28) have mixed types. Specify dtype option on import or set low_memory=False.\n",
      "  interactivity=interactivity, compiler=compiler, result=result)\n"
     ]
    },
    {
     "data": {
      "text/plain": [
       "FieldInterviewID           int32\n",
       "NOPD_Item                 object\n",
       "EventDate                 object\n",
       "District                   int64\n",
       "Zone                      object\n",
       "OfficerAssignment         object\n",
       "StopDescription           object\n",
       "ActionsTaken              object\n",
       "VehicleYear              float64\n",
       "VehicleMake               object\n",
       "VehicleModel              object\n",
       "VehicleStyle              object\n",
       "VehicleColor              object\n",
       "SubjectID                float64\n",
       "SubjectRace               object\n",
       "SubjectGender             object\n",
       "SubjectAge               float64\n",
       "SubjectHasPhotoID         object\n",
       "SubjectHeight            float64\n",
       "SubjectWeight            float64\n",
       "SubjectEyeColor           object\n",
       "SubjectHairColor          object\n",
       "SubjectDriverLicState     object\n",
       "CreatedDateTime           object\n",
       "LastModifiedDateTime      object\n",
       "Longitude                float64\n",
       "Latitude                 float64\n",
       "Zip                      float64\n",
       "BlockAddress              object\n",
       "dtype: object"
      ]
     },
     "metadata": {},
     "output_type": "display_data"
    }
   ],
   "source": [
    "df = pd.read_csv(\"../FinalDSTutorial/Stop_and_Search__Field_Interviews_.csv\", dtype={'FieldInterviewID': int})\n",
    "df.head()\n",
    "display(df.dtypes)"
   ]
  },
  {
   "cell_type": "markdown",
   "metadata": {},
   "source": [
    "### Transform"
   ]
  },
  {
   "cell_type": "markdown",
   "metadata": {},
   "source": [
    "As you can see, our original dataframe had some messy information, so our next step was to clean it up. First, we dropped any columns that were not necessary for our analysis."
   ]
  },
  {
   "cell_type": "code",
   "execution_count": 5,
   "metadata": {},
   "outputs": [
    {
     "data": {
      "text/html": [
       "<div>\n",
       "<style scoped>\n",
       "    .dataframe tbody tr th:only-of-type {\n",
       "        vertical-align: middle;\n",
       "    }\n",
       "\n",
       "    .dataframe tbody tr th {\n",
       "        vertical-align: top;\n",
       "    }\n",
       "\n",
       "    .dataframe thead th {\n",
       "        text-align: right;\n",
       "    }\n",
       "</style>\n",
       "<table border=\"1\" class=\"dataframe\">\n",
       "  <thead>\n",
       "    <tr style=\"text-align: right;\">\n",
       "      <th></th>\n",
       "      <th>FieldInterviewID</th>\n",
       "      <th>EventDate</th>\n",
       "      <th>District</th>\n",
       "      <th>Zone</th>\n",
       "      <th>OfficerAssignment</th>\n",
       "      <th>StopDescription</th>\n",
       "      <th>ActionsTaken</th>\n",
       "      <th>SubjectID</th>\n",
       "      <th>SubjectRace</th>\n",
       "      <th>SubjectGender</th>\n",
       "      <th>SubjectAge</th>\n",
       "      <th>SubjectHasPhotoID</th>\n",
       "      <th>SubjectDriverLicState</th>\n",
       "      <th>CreatedDateTime</th>\n",
       "      <th>LastModifiedDateTime</th>\n",
       "      <th>Longitude</th>\n",
       "      <th>Latitude</th>\n",
       "      <th>Zip</th>\n",
       "      <th>BlockAddress</th>\n",
       "    </tr>\n",
       "  </thead>\n",
       "  <tbody>\n",
       "    <tr>\n",
       "      <td>0</td>\n",
       "      <td>17415</td>\n",
       "      <td>01/01/2010 01:11:00 AM</td>\n",
       "      <td>6</td>\n",
       "      <td>E</td>\n",
       "      <td>6th  District</td>\n",
       "      <td>TRAFFIC VIOLATION</td>\n",
       "      <td>NaN</td>\n",
       "      <td>20465.0</td>\n",
       "      <td>BLACK</td>\n",
       "      <td>FEMALE</td>\n",
       "      <td>26.0</td>\n",
       "      <td>Yes</td>\n",
       "      <td>LA</td>\n",
       "      <td>01/01/2010 01:26:26 AM</td>\n",
       "      <td>NaN</td>\n",
       "      <td>0.0</td>\n",
       "      <td>0.0</td>\n",
       "      <td>NaN</td>\n",
       "      <td>NaN</td>\n",
       "    </tr>\n",
       "    <tr>\n",
       "      <td>1</td>\n",
       "      <td>17416</td>\n",
       "      <td>01/01/2010 02:06:00 AM</td>\n",
       "      <td>5</td>\n",
       "      <td>D</td>\n",
       "      <td>5th  District</td>\n",
       "      <td>CALL FOR SERVICE</td>\n",
       "      <td>NaN</td>\n",
       "      <td>20466.0</td>\n",
       "      <td>BLACK</td>\n",
       "      <td>MALE</td>\n",
       "      <td>17.0</td>\n",
       "      <td>No</td>\n",
       "      <td>NaN</td>\n",
       "      <td>01/01/2010 02:27:38 AM</td>\n",
       "      <td>NaN</td>\n",
       "      <td>0.0</td>\n",
       "      <td>0.0</td>\n",
       "      <td>NaN</td>\n",
       "      <td>NaN</td>\n",
       "    </tr>\n",
       "    <tr>\n",
       "      <td>2</td>\n",
       "      <td>17416</td>\n",
       "      <td>01/01/2010 02:06:00 AM</td>\n",
       "      <td>5</td>\n",
       "      <td>D</td>\n",
       "      <td>5th  District</td>\n",
       "      <td>CALL FOR SERVICE</td>\n",
       "      <td>NaN</td>\n",
       "      <td>20467.0</td>\n",
       "      <td>BLACK</td>\n",
       "      <td>MALE</td>\n",
       "      <td>18.0</td>\n",
       "      <td>No</td>\n",
       "      <td>NaN</td>\n",
       "      <td>01/01/2010 02:27:38 AM</td>\n",
       "      <td>NaN</td>\n",
       "      <td>0.0</td>\n",
       "      <td>0.0</td>\n",
       "      <td>NaN</td>\n",
       "      <td>NaN</td>\n",
       "    </tr>\n",
       "    <tr>\n",
       "      <td>3</td>\n",
       "      <td>17416</td>\n",
       "      <td>01/01/2010 02:06:00 AM</td>\n",
       "      <td>5</td>\n",
       "      <td>D</td>\n",
       "      <td>5th  District</td>\n",
       "      <td>CALL FOR SERVICE</td>\n",
       "      <td>NaN</td>\n",
       "      <td>20468.0</td>\n",
       "      <td>BLACK</td>\n",
       "      <td>MALE</td>\n",
       "      <td>18.0</td>\n",
       "      <td>No</td>\n",
       "      <td>NaN</td>\n",
       "      <td>01/01/2010 02:27:38 AM</td>\n",
       "      <td>NaN</td>\n",
       "      <td>0.0</td>\n",
       "      <td>0.0</td>\n",
       "      <td>NaN</td>\n",
       "      <td>NaN</td>\n",
       "    </tr>\n",
       "    <tr>\n",
       "      <td>4</td>\n",
       "      <td>17416</td>\n",
       "      <td>01/01/2010 02:06:00 AM</td>\n",
       "      <td>5</td>\n",
       "      <td>D</td>\n",
       "      <td>5th  District</td>\n",
       "      <td>CALL FOR SERVICE</td>\n",
       "      <td>NaN</td>\n",
       "      <td>20469.0</td>\n",
       "      <td>BLACK</td>\n",
       "      <td>MALE</td>\n",
       "      <td>30.0</td>\n",
       "      <td>No</td>\n",
       "      <td>NaN</td>\n",
       "      <td>01/01/2010 02:27:38 AM</td>\n",
       "      <td>NaN</td>\n",
       "      <td>0.0</td>\n",
       "      <td>0.0</td>\n",
       "      <td>NaN</td>\n",
       "      <td>NaN</td>\n",
       "    </tr>\n",
       "  </tbody>\n",
       "</table>\n",
       "</div>"
      ],
      "text/plain": [
       "   FieldInterviewID               EventDate  District Zone OfficerAssignment  \\\n",
       "0             17415  01/01/2010 01:11:00 AM         6    E     6th  District   \n",
       "1             17416  01/01/2010 02:06:00 AM         5    D     5th  District   \n",
       "2             17416  01/01/2010 02:06:00 AM         5    D     5th  District   \n",
       "3             17416  01/01/2010 02:06:00 AM         5    D     5th  District   \n",
       "4             17416  01/01/2010 02:06:00 AM         5    D     5th  District   \n",
       "\n",
       "     StopDescription ActionsTaken  SubjectID SubjectRace SubjectGender  \\\n",
       "0  TRAFFIC VIOLATION          NaN    20465.0       BLACK        FEMALE   \n",
       "1   CALL FOR SERVICE          NaN    20466.0       BLACK          MALE   \n",
       "2   CALL FOR SERVICE          NaN    20467.0       BLACK          MALE   \n",
       "3   CALL FOR SERVICE          NaN    20468.0       BLACK          MALE   \n",
       "4   CALL FOR SERVICE          NaN    20469.0       BLACK          MALE   \n",
       "\n",
       "   SubjectAge SubjectHasPhotoID SubjectDriverLicState         CreatedDateTime  \\\n",
       "0        26.0               Yes                    LA  01/01/2010 01:26:26 AM   \n",
       "1        17.0                No                   NaN  01/01/2010 02:27:38 AM   \n",
       "2        18.0                No                   NaN  01/01/2010 02:27:38 AM   \n",
       "3        18.0                No                   NaN  01/01/2010 02:27:38 AM   \n",
       "4        30.0                No                   NaN  01/01/2010 02:27:38 AM   \n",
       "\n",
       "  LastModifiedDateTime  Longitude  Latitude  Zip BlockAddress  \n",
       "0                  NaN        0.0       0.0  NaN          NaN  \n",
       "1                  NaN        0.0       0.0  NaN          NaN  \n",
       "2                  NaN        0.0       0.0  NaN          NaN  \n",
       "3                  NaN        0.0       0.0  NaN          NaN  \n",
       "4                  NaN        0.0       0.0  NaN          NaN  "
      ]
     },
     "execution_count": 5,
     "metadata": {},
     "output_type": "execute_result"
    }
   ],
   "source": [
    "dropped_df = df.drop(columns=['NOPD_Item', 'VehicleYear', 'VehicleMake', 'VehicleModel', 'VehicleStyle', 'VehicleColor', 'SubjectWeight', 'SubjectHeight', 'SubjectEyeColor', 'SubjectHairColor'])\n",
    "dropped_df.head()"
   ]
  },
  {
   "cell_type": "markdown",
   "metadata": {},
   "source": [
    "Next, we changed our index to be both FieldInterviewID and SubjectID in order to not have multiple FieldInterview entries, but still be able to see how many individuals were involved in a single interview. We also made sure to replace certain values with NaN."
   ]
  },
  {
   "cell_type": "code",
   "execution_count": 6,
   "metadata": {},
   "outputs": [
    {
     "data": {
      "text/html": [
       "<div>\n",
       "<style scoped>\n",
       "    .dataframe tbody tr th:only-of-type {\n",
       "        vertical-align: middle;\n",
       "    }\n",
       "\n",
       "    .dataframe tbody tr th {\n",
       "        vertical-align: top;\n",
       "    }\n",
       "\n",
       "    .dataframe thead th {\n",
       "        text-align: right;\n",
       "    }\n",
       "</style>\n",
       "<table border=\"1\" class=\"dataframe\">\n",
       "  <thead>\n",
       "    <tr style=\"text-align: right;\">\n",
       "      <th></th>\n",
       "      <th></th>\n",
       "      <th>EventDate</th>\n",
       "      <th>District</th>\n",
       "      <th>Zone</th>\n",
       "      <th>OfficerAssignment</th>\n",
       "      <th>StopDescription</th>\n",
       "      <th>ActionsTaken</th>\n",
       "      <th>SubjectRace</th>\n",
       "      <th>SubjectGender</th>\n",
       "      <th>SubjectAge</th>\n",
       "      <th>SubjectHasPhotoID</th>\n",
       "      <th>SubjectDriverLicState</th>\n",
       "      <th>CreatedDateTime</th>\n",
       "      <th>LastModifiedDateTime</th>\n",
       "      <th>Longitude</th>\n",
       "      <th>Latitude</th>\n",
       "      <th>Zip</th>\n",
       "      <th>BlockAddress</th>\n",
       "    </tr>\n",
       "    <tr>\n",
       "      <th>FieldInterviewID</th>\n",
       "      <th>SubjectID</th>\n",
       "      <th></th>\n",
       "      <th></th>\n",
       "      <th></th>\n",
       "      <th></th>\n",
       "      <th></th>\n",
       "      <th></th>\n",
       "      <th></th>\n",
       "      <th></th>\n",
       "      <th></th>\n",
       "      <th></th>\n",
       "      <th></th>\n",
       "      <th></th>\n",
       "      <th></th>\n",
       "      <th></th>\n",
       "      <th></th>\n",
       "      <th></th>\n",
       "      <th></th>\n",
       "    </tr>\n",
       "  </thead>\n",
       "  <tbody>\n",
       "    <tr>\n",
       "      <td>17415</td>\n",
       "      <td>20465.0</td>\n",
       "      <td>01/01/2010 01:11:00 AM</td>\n",
       "      <td>6</td>\n",
       "      <td>E</td>\n",
       "      <td>6th  District</td>\n",
       "      <td>TRAFFIC VIOLATION</td>\n",
       "      <td>NaN</td>\n",
       "      <td>BLACK</td>\n",
       "      <td>FEMALE</td>\n",
       "      <td>26.0</td>\n",
       "      <td>Yes</td>\n",
       "      <td>LA</td>\n",
       "      <td>01/01/2010 01:26:26 AM</td>\n",
       "      <td>NaN</td>\n",
       "      <td>0.0</td>\n",
       "      <td>0.0</td>\n",
       "      <td>NaN</td>\n",
       "      <td>NaN</td>\n",
       "    </tr>\n",
       "    <tr>\n",
       "      <td rowspan=\"4\" valign=\"top\">17416</td>\n",
       "      <td>20466.0</td>\n",
       "      <td>01/01/2010 02:06:00 AM</td>\n",
       "      <td>5</td>\n",
       "      <td>D</td>\n",
       "      <td>5th  District</td>\n",
       "      <td>CALL FOR SERVICE</td>\n",
       "      <td>NaN</td>\n",
       "      <td>BLACK</td>\n",
       "      <td>MALE</td>\n",
       "      <td>17.0</td>\n",
       "      <td>No</td>\n",
       "      <td>NaN</td>\n",
       "      <td>01/01/2010 02:27:38 AM</td>\n",
       "      <td>NaN</td>\n",
       "      <td>0.0</td>\n",
       "      <td>0.0</td>\n",
       "      <td>NaN</td>\n",
       "      <td>NaN</td>\n",
       "    </tr>\n",
       "    <tr>\n",
       "      <td>20467.0</td>\n",
       "      <td>01/01/2010 02:06:00 AM</td>\n",
       "      <td>5</td>\n",
       "      <td>D</td>\n",
       "      <td>5th  District</td>\n",
       "      <td>CALL FOR SERVICE</td>\n",
       "      <td>NaN</td>\n",
       "      <td>BLACK</td>\n",
       "      <td>MALE</td>\n",
       "      <td>18.0</td>\n",
       "      <td>No</td>\n",
       "      <td>NaN</td>\n",
       "      <td>01/01/2010 02:27:38 AM</td>\n",
       "      <td>NaN</td>\n",
       "      <td>0.0</td>\n",
       "      <td>0.0</td>\n",
       "      <td>NaN</td>\n",
       "      <td>NaN</td>\n",
       "    </tr>\n",
       "    <tr>\n",
       "      <td>20468.0</td>\n",
       "      <td>01/01/2010 02:06:00 AM</td>\n",
       "      <td>5</td>\n",
       "      <td>D</td>\n",
       "      <td>5th  District</td>\n",
       "      <td>CALL FOR SERVICE</td>\n",
       "      <td>NaN</td>\n",
       "      <td>BLACK</td>\n",
       "      <td>MALE</td>\n",
       "      <td>18.0</td>\n",
       "      <td>No</td>\n",
       "      <td>NaN</td>\n",
       "      <td>01/01/2010 02:27:38 AM</td>\n",
       "      <td>NaN</td>\n",
       "      <td>0.0</td>\n",
       "      <td>0.0</td>\n",
       "      <td>NaN</td>\n",
       "      <td>NaN</td>\n",
       "    </tr>\n",
       "    <tr>\n",
       "      <td>20469.0</td>\n",
       "      <td>01/01/2010 02:06:00 AM</td>\n",
       "      <td>5</td>\n",
       "      <td>D</td>\n",
       "      <td>5th  District</td>\n",
       "      <td>CALL FOR SERVICE</td>\n",
       "      <td>NaN</td>\n",
       "      <td>BLACK</td>\n",
       "      <td>MALE</td>\n",
       "      <td>30.0</td>\n",
       "      <td>No</td>\n",
       "      <td>NaN</td>\n",
       "      <td>01/01/2010 02:27:38 AM</td>\n",
       "      <td>NaN</td>\n",
       "      <td>0.0</td>\n",
       "      <td>0.0</td>\n",
       "      <td>NaN</td>\n",
       "      <td>NaN</td>\n",
       "    </tr>\n",
       "  </tbody>\n",
       "</table>\n",
       "</div>"
      ],
      "text/plain": [
       "                                         EventDate  District Zone  \\\n",
       "FieldInterviewID SubjectID                                          \n",
       "17415            20465.0    01/01/2010 01:11:00 AM         6    E   \n",
       "17416            20466.0    01/01/2010 02:06:00 AM         5    D   \n",
       "                 20467.0    01/01/2010 02:06:00 AM         5    D   \n",
       "                 20468.0    01/01/2010 02:06:00 AM         5    D   \n",
       "                 20469.0    01/01/2010 02:06:00 AM         5    D   \n",
       "\n",
       "                           OfficerAssignment    StopDescription ActionsTaken  \\\n",
       "FieldInterviewID SubjectID                                                     \n",
       "17415            20465.0       6th  District  TRAFFIC VIOLATION          NaN   \n",
       "17416            20466.0       5th  District   CALL FOR SERVICE          NaN   \n",
       "                 20467.0       5th  District   CALL FOR SERVICE          NaN   \n",
       "                 20468.0       5th  District   CALL FOR SERVICE          NaN   \n",
       "                 20469.0       5th  District   CALL FOR SERVICE          NaN   \n",
       "\n",
       "                           SubjectRace SubjectGender  SubjectAge  \\\n",
       "FieldInterviewID SubjectID                                         \n",
       "17415            20465.0         BLACK        FEMALE        26.0   \n",
       "17416            20466.0         BLACK          MALE        17.0   \n",
       "                 20467.0         BLACK          MALE        18.0   \n",
       "                 20468.0         BLACK          MALE        18.0   \n",
       "                 20469.0         BLACK          MALE        30.0   \n",
       "\n",
       "                           SubjectHasPhotoID SubjectDriverLicState  \\\n",
       "FieldInterviewID SubjectID                                           \n",
       "17415            20465.0                 Yes                    LA   \n",
       "17416            20466.0                  No                   NaN   \n",
       "                 20467.0                  No                   NaN   \n",
       "                 20468.0                  No                   NaN   \n",
       "                 20469.0                  No                   NaN   \n",
       "\n",
       "                                   CreatedDateTime LastModifiedDateTime  \\\n",
       "FieldInterviewID SubjectID                                                \n",
       "17415            20465.0    01/01/2010 01:26:26 AM                  NaN   \n",
       "17416            20466.0    01/01/2010 02:27:38 AM                  NaN   \n",
       "                 20467.0    01/01/2010 02:27:38 AM                  NaN   \n",
       "                 20468.0    01/01/2010 02:27:38 AM                  NaN   \n",
       "                 20469.0    01/01/2010 02:27:38 AM                  NaN   \n",
       "\n",
       "                            Longitude  Latitude  Zip BlockAddress  \n",
       "FieldInterviewID SubjectID                                         \n",
       "17415            20465.0          0.0       0.0  NaN          NaN  \n",
       "17416            20466.0          0.0       0.0  NaN          NaN  \n",
       "                 20467.0          0.0       0.0  NaN          NaN  \n",
       "                 20468.0          0.0       0.0  NaN          NaN  \n",
       "                 20469.0          0.0       0.0  NaN          NaN  "
      ]
     },
     "execution_count": 6,
     "metadata": {},
     "output_type": "execute_result"
    }
   ],
   "source": [
    "df = dropped_df.set_index(['FieldInterviewID', 'SubjectID'])\n",
    "df = df.replace('-', np.nan)\n",
    "df.head()"
   ]
  },
  {
   "cell_type": "markdown",
   "metadata": {},
   "source": [
    "Now we begin some analysis. First, we are going to see what are the most common actions taken against people of a certain race. To begin, we count the occasions when no actions were taken against each race."
   ]
  },
  {
   "cell_type": "code",
   "execution_count": 7,
   "metadata": {},
   "outputs": [],
   "source": [
    "# create list of unique actions\n",
    "actionsLst = df.ActionsTaken.unique()"
   ]
  },
  {
   "cell_type": "code",
   "execution_count": 8,
   "metadata": {},
   "outputs": [],
   "source": [
    "df['SubjectGender'] = df['SubjectGender'].fillna('UNKNOWN')"
   ]
  },
  {
   "cell_type": "code",
   "execution_count": 9,
   "metadata": {},
   "outputs": [
    {
     "data": {
      "text/plain": [
       "array(['FEMALE', 'MALE', 'UNKNOWN'], dtype=object)"
      ]
     },
     "execution_count": 9,
     "metadata": {},
     "output_type": "execute_result"
    }
   ],
   "source": [
    "df.SubjectGender.unique()"
   ]
  },
  {
   "cell_type": "code",
   "execution_count": 12,
   "metadata": {},
   "outputs": [],
   "source": [
    "# making sure the terms they use are uniform throughout. It seems like they are.\n",
    "count1 = 0\n",
    "count2 = 0\n",
    "count3 = 0\n",
    "count4 = 0\n",
    "\n",
    "for i in actionsLst:\n",
    "    if (type(i) is str):\n",
    "        if ('Stop Results: No action taken' in i):\n",
    "            count1 += 1\n",
    "        elif ('Stop Results: no action taken' in i):\n",
    "            count2 += 1\n",
    "        elif ('Stop Results: No Action Taken' in i):\n",
    "            count3 += 1\n",
    "        elif ('Stop Results: No Action taken' in i):\n",
    "            count4 += 1\n",
    "    \n",
    "        \n",
    "\n",
    "amerCount = df['SubjectRace'].value_counts()[\"AMER. IND.\"]\n",
    "asianCount = df['SubjectRace'].value_counts()[\"ASIAN\"]\n",
    "blackCount = df['SubjectRace'].value_counts()[\"BLACK\"]\n",
    "hispanicCount = df['SubjectRace'].value_counts()[\"HISPANIC\"]\n",
    "whiteCount = df['SubjectRace'].value_counts()[\"WHITE\"]\n",
    "maleCount = df['SubjectGender'].value_counts()[\"MALE\"]\n",
    "femaleCount = df['SubjectGender'].value_counts()[\"FEMALE\"]\n",
    "unknownCount = df['SubjectGender'].value_counts()[\"UNKNOWN\"]\n",
    "\n",
    "noActionAmer = noActionAsian = noActionBlack = noActionHispanic = noActionWhite = 0\n",
    "\n",
    "nanActionAmer = nanActionAsian = nanActionBlack = nanActionHispanic = nanActionWhite = 0"
   ]
  },
  {
   "cell_type": "markdown",
   "metadata": {},
   "source": [
    "The following cells turn the ActionsTaken column into multiple columns that each represent a single action, so we can create visualizations easier. The visualizations also included actions taken per gender."
   ]
  },
  {
   "cell_type": "code",
   "execution_count": 13,
   "metadata": {},
   "outputs": [],
   "source": [
    "numRows = len(df.index)\n",
    "actionCategories = []\n",
    "temp = \"\"\n",
    "semiBool = True\n",
    "for i in actionsLst:\n",
    "    if (type(i) is str):\n",
    "        semiBool = True\n",
    "        for j in i:\n",
    "            \n",
    "            if (semiBool == True):\n",
    "                if(j != \":\"):\n",
    "                    temp += j\n",
    "                else:\n",
    "                    semiBool = False\n",
    "                    if (temp not in actionCategories):\n",
    "                        actionCategories.append(temp)\n",
    "                    temp = \"\"\n",
    "            elif (j == \";\"):\n",
    "                semiBool = True"
   ]
  },
  {
   "cell_type": "code",
   "execution_count": 14,
   "metadata": {},
   "outputs": [],
   "source": [
    "temp1 = []\n",
    "\n",
    "for i in range(numRows):\n",
    "    temp1.append(0)\n",
    "\n",
    "stopResultsLst = []\n",
    "subjectTypeLst = []\n",
    "searchOccurredLst = []\n",
    "searchTypesLst = []\n",
    "legalBasisesLst = []\n",
    "evidenceSeizedLst = []\n",
    "evidenceTypesLst = []\n",
    "consentToSearchLst = []\n",
    "exitVehicleLst = []\n",
    "searchTypePatDownLst = []\n",
    "consentFormCompletedLst = []\n",
    "consentGivenLst = []\n",
    "stripBodyCavitySearchLst = []\n",
    "typeOfSearchLst = []\n",
    "typeOfSearchSupervisorApprovalLst = []\n",
    "\n",
    "emptyLst = [\"-\", \"-\", \"-\", \"-\", \"-\", \"-\", \"-\", \"-\", \"-\", \"-\", \"-\", \"-\", \"-\", \"-\", \"-\"]\n",
    "\n",
    "for index, row in df.iterrows():\n",
    "    tempLst = emptyLst\n",
    "    if (type(row[\"ActionsTaken\"]) is str):\n",
    "        list1 = row[\"ActionsTaken\"].split(':')\n",
    "\n",
    "        list2 = []\n",
    "\n",
    "        for i in list1:\n",
    "            temp = i.split(';')\n",
    "            for j in temp:\n",
    "                if (j[0] == ' '):\n",
    "                    list2.append(j[1:])\n",
    "                else:\n",
    "                    list2.append(j)\n",
    "        for i in (range(len(list2))):\n",
    "            if (list2[i] in actionCategories):\n",
    "                if (list2[i] == 'Stop Results'):\n",
    "                    tempLst[0] = list2[i + 1]\n",
    "                elif (list2[i] == 'Subject Type'):\n",
    "                    tempLst[1] = list2[i + 1]\n",
    "                elif (list2[i] == 'Search Occurred'):\n",
    "                    tempLst[2] = list2[i + 1]\n",
    "                elif (list2[i] == 'Search Types'):\n",
    "                    tempLst[3] = list2[i + 1]\n",
    "                elif (list2[i] == 'Legal Basises'):\n",
    "                    tempLst[4] = list2[i + 1]\n",
    "                elif (list2[i] == 'Evidence Seized'):\n",
    "                    tempLst[5] = list2[i + 1]\n",
    "                elif (list2[i] == 'Evidence Types'):\n",
    "                    tempLst[6] = list2[i + 1]\n",
    "                elif (list2[i] == 'Consent To Search'):\n",
    "                    tempLst[7] = list2[i + 1]\n",
    "                elif (list2[i] == 'Exit Vehicle'):\n",
    "                    tempLst[8] = list2[i + 1]\n",
    "                elif (list2[i] == 'Search Type Pat Down'):\n",
    "                    tempLst[9] = list2[i + 1]\n",
    "                elif (list2[i] == 'Consent Form Completed'):\n",
    "                    tempLst[10] = list2[i + 1]\n",
    "                elif (list2[i] == 'StripBody Cavity Search'):\n",
    "                    tempLst[11] = list2[i + 1]\n",
    "                elif (list2[i] == 'Consent Given'):\n",
    "                    tempLst[12] = list2[i + 1]\n",
    "                elif (list2[i] == 'Type of Search'):\n",
    "                    tempLst[13] = list2[i + 1]\n",
    "                elif (list2[i] == 'Type of Search Supervisor Approval'):\n",
    "                    tempLst[14] = list2[i + 1]\n",
    "\n",
    "                    \n",
    "                    \n",
    "    stopResultsLst.append(tempLst[0])\n",
    "    subjectTypeLst.append(tempLst[1])\n",
    "    searchOccurredLst.append(tempLst[2])\n",
    "    searchTypesLst.append(tempLst[3])\n",
    "    legalBasisesLst.append(tempLst[4])\n",
    "    evidenceSeizedLst.append(tempLst[5])\n",
    "    evidenceTypesLst.append(tempLst[6])\n",
    "    consentToSearchLst.append(tempLst[7])\n",
    "    exitVehicleLst.append(tempLst[8])\n",
    "    searchTypePatDownLst.append(tempLst[9])\n",
    "    consentFormCompletedLst.append(tempLst[10])\n",
    "    stripBodyCavitySearchLst.append(tempLst[11])\n",
    "    consentGivenLst.append(tempLst[12])\n",
    "    typeOfSearchLst.append(tempLst[13])\n",
    "    typeOfSearchSupervisorApprovalLst.append(tempLst[14])\n",
    "\n",
    "                \n",
    "df['StopResults'] = stopResultsLst\n",
    "df['SubjectType'] = subjectTypeLst\n",
    "df['SearchOccurred'] = searchOccurredLst\n",
    "df['SearchTypes'] = searchTypesLst\n",
    "df['LegalBasises'] = legalBasisesLst\n",
    "df['EvidenceSeized'] = evidenceSeizedLst\n",
    "df['EvidenceTypes'] = evidenceTypesLst\n",
    "df['ConsentToSearch'] = consentToSearchLst\n",
    "df['ExitVehicle'] = exitVehicleLst\n",
    "df['SearchTypePatDown'] = searchTypePatDownLst\n",
    "df['ConsentFormCompleted'] = consentFormCompletedLst\n",
    "df['StripBodyCavitySearch'] = stripBodyCavitySearchLst\n",
    "df['ConsentGiven'] = consentGivenLst\n",
    "df['TypeOfSearch'] = typeOfSearchLst\n",
    "df['TypeOfSearchSupervisorApproval'] = typeOfSearchSupervisorApprovalLst"
   ]
  },
  {
   "cell_type": "markdown",
   "metadata": {},
   "source": [
    "The following bar graphs use a simple count to allow us to visualize how frequently each type of action occurs per race. Further analysis is required to determine whether some races unfairly face more severe punishments or not.\n",
    "\n",
    "Here we see no actions by race and gender."
   ]
  },
  {
   "cell_type": "code",
   "execution_count": 40,
   "metadata": {},
   "outputs": [
    {
     "data": {
      "text/plain": [
       "<matplotlib.axes._subplots.AxesSubplot at 0x1c887f86888>"
      ]
     },
     "execution_count": 40,
     "metadata": {},
     "output_type": "execute_result"
    },
    {
     "data": {
      "image/png": "[encoded data removed]",
      "text/plain": [
       "<Figure size 432x288 with 1 Axes>"
      ]
     },
     "metadata": {
      "needs_background": "light"
     },
     "output_type": "display_data"
    },
    {
     "data": {
      "image/png": "[encoded data removed]",
      "text/plain": [
       "<Figure size 432x288 with 1 Axes>"
      ]
     },
     "metadata": {
      "needs_background": "light"
     },
     "output_type": "display_data"
    }
   ],
   "source": [
    "noAmer = noAsian = noBlack = noHispanic = noWhite = noFemale = noMale = noUnknown = 0\n",
    "\n",
    "for index, row in df.iterrows():\n",
    "    if (row[\"StopResults\"] == \"No action taken\"):\n",
    "        if (row['SubjectRace'] == \"AMER. IND.\"):\n",
    "            noAmer += 1\n",
    "        elif (row['SubjectRace'] == \"ASIAN\"):\n",
    "            noAsian += 1\n",
    "        elif (row['SubjectRace'] == \"BLACK\"):\n",
    "            noBlack += 1\n",
    "        elif (row['SubjectRace'] == \"HISPANIC\"):\n",
    "            noHispanic += 1\n",
    "        elif (row['SubjectRace'] == \"WHITE\"):\n",
    "            noWhite += 1\n",
    "        if (row['SubjectGender'] == \"FEMALE\"):\n",
    "            noFemale += 1\n",
    "        if (row['SubjectGender'] == \"MALE\"):\n",
    "            noMale += 1\n",
    "        if ((row['SubjectGender'] == \"UNKNOWN\")):\n",
    "            noUnknown += 1\n",
    "            \n",
    "noAmerPer = (noAmer / amerCount) * 100\n",
    "noAsianPer = (noAsian / asianCount) * 100\n",
    "noBlackPer = (noBlack / blackCount) * 100\n",
    "noHispanicPer = (noHispanic / hispanicCount) * 100\n",
    "noWhitePer = (noWhite / whiteCount) * 100\n",
    "\n",
    "noFemalePer = (noFemale / femaleCount) * 100\n",
    "noMalePer = (noMale / maleCount) * 100\n",
    "noUnknownPer = (noUnknown / unknownCount) * 100\n",
    "\n",
    "noPerDict = {\"Race\": [\"Asian\", \"Black\", \"Hispanic\", \"Indigenous\", \"White\"], \"Percentage of Interactions Resulting in No action taken\": [noAsianPer, noBlackPer, noHispanicPer, noAmerPer, noWhitePer]}\n",
    "noPerDictGender = {\"Gender\": [\"Female\", \"Male\", \"Unknown\"], \"Percentage of Interactions Resulting in No action taken\": [noFemalePer, noMalePer, noUnknownPer]}\n",
    "\n",
    "noRaceDf = pd.DataFrame(noPerDict).set_index('Race')\n",
    "noGenderDf = pd.DataFrame(noPerDictGender).set_index('Gender')\n",
    "\n",
    "\n",
    "noRaceDf.plot.bar()\n",
    "noGenderDf.plot.bar()"
   ]
  },
  {
   "cell_type": "markdown",
   "metadata": {},
   "source": [
    "This graph shows the percentage of interactions that did not have a specified result."
   ]
  },
  {
   "cell_type": "code",
   "execution_count": 16,
   "metadata": {},
   "outputs": [
    {
     "data": {
      "text/plain": [
       "<matplotlib.axes._subplots.AxesSubplot at 0x1c89766ac08>"
      ]
     },
     "execution_count": 16,
     "metadata": {},
     "output_type": "execute_result"
    },
    {
     "data": {
      "image/png": "[encoded data removed]",
      "text/plain": [
       "<Figure size 432x288 with 1 Axes>"
      ]
     },
     "metadata": {
      "needs_background": "light"
     },
     "output_type": "display_data"
    },
    {
     "data": {
      "image/png": "[encoded data removed]",
      "text/plain": [
       "<Figure size 432x288 with 1 Axes>"
      ]
     },
     "metadata": {
      "needs_background": "light"
     },
     "output_type": "display_data"
    }
   ],
   "source": [
    "nanAmer = nanAsian = nanBlack = nanHispanic = nanWhite = nanFemale = nanMale = nanUnknown = 0\n",
    "\n",
    "for index, row in df.iterrows():\n",
    "    if ((row[\"StopResults\"] == \"-\")):\n",
    "        if (row['SubjectRace'] == \"AMER. IND.\"):\n",
    "            nanAmer += 1\n",
    "        elif (row['SubjectRace'] == \"ASIAN\"):\n",
    "            nanAsian += 1\n",
    "        elif (row['SubjectRace'] == \"BLACK\"):\n",
    "            nanBlack += 1\n",
    "        elif (row['SubjectRace'] == \"HISPANIC\"):\n",
    "            nanHispanic += 1\n",
    "        elif (row['SubjectRace'] == \"WHITE\"):\n",
    "            nanWhite += 1\n",
    "        if (row['SubjectGender'] == \"FEMALE\"):\n",
    "            nanFemale += 1\n",
    "        if (row['SubjectGender'] == \"MALE\"):\n",
    "            nanMale += 1\n",
    "        if ((row['SubjectGender'] == \"Unknown\")):\n",
    "            nanUnknown += 1\n",
    "            \n",
    "            \n",
    "nanAmerPer = (nanAmer / amerCount) * 100\n",
    "nanAsianPer = (nanAsian / asianCount) * 100\n",
    "nanBlackPer = (nanBlack / blackCount) * 100\n",
    "nanHispanicPer = (nanHispanic / hispanicCount) * 100\n",
    "nanWhitePer = (nanWhite / whiteCount) * 100\n",
    "\n",
    "nanFemalePer = (nanFemale / femaleCount) * 100\n",
    "nanMalePer = (nanMale / maleCount) * 100\n",
    "nanUnknownPer = (nanUnknown / unknownCount) * 100\n",
    "\n",
    "nanPerDict = {\"Race\": [\"Asian\", \"Black\", \"Hispanic\", \"Indigenous\", \"White\"], \"Percentage of Interactions with no specified result\": [nanAsianPer, nanBlackPer, nanHispanicPer, nanAmerPer, nanWhitePer]}\n",
    "nanPerDictGender = {\"Gender\": [\"Female\", \"Male\", \"Unknown\"], \"Percentage of Interactions Resulting with no specified result\": [nanFemalePer, nanMalePer, nanUnknownPer]}\n",
    "\n",
    "nanRaceDf = pd.DataFrame(nanPerDict).set_index('Race')\n",
    "nanGenderDf = pd.DataFrame(nanPerDictGender).set_index('Gender')\n",
    "\n",
    "\n",
    "nanRaceDf.plot.bar()\n",
    "nanGenderDf.plot.bar()"
   ]
  },
  {
   "cell_type": "markdown",
   "metadata": {},
   "source": [
    "Here we can see who received verbal warnings."
   ]
  },
  {
   "cell_type": "code",
   "execution_count": 18,
   "metadata": {},
   "outputs": [
    {
     "data": {
      "text/plain": [
       "<matplotlib.axes._subplots.AxesSubplot at 0x1c8810b0e48>"
      ]
     },
     "execution_count": 18,
     "metadata": {},
     "output_type": "execute_result"
    },
    {
     "data": {
      "image/png": "[encoded data removed]",
      "text/plain": [
       "<Figure size 432x288 with 1 Axes>"
      ]
     },
     "metadata": {
      "needs_background": "light"
     },
     "output_type": "display_data"
    },
    {
     "data": {
      "image/png": "[encoded data removed]",
      "text/plain": [
       "<Figure size 432x288 with 1 Axes>"
      ]
     },
     "metadata": {
      "needs_background": "light"
     },
     "output_type": "display_data"
    }
   ],
   "source": [
    "verbalWarningAmer = verbalWarningAsian = verbalWarningBlack = verbalWarningHispanic = verbalWarningWhite = verbalWarningFemale = verbalWarningMale = verbalWarningUnknown = 0\n",
    "\n",
    "for index, row in df.iterrows():\n",
    "    if (row[\"StopResults\"] == \"Verbal Warning\"):\n",
    "        if (row['SubjectRace'] == \"AMER. IND.\"):\n",
    "            verbalWarningAmer += 1\n",
    "        elif (row['SubjectRace'] == \"ASIAN\"):\n",
    "            verbalWarningAsian += 1\n",
    "        elif (row['SubjectRace'] == \"BLACK\"):\n",
    "            verbalWarningBlack += 1\n",
    "        elif (row['SubjectRace'] == \"HISPANIC\"):\n",
    "            verbalWarningHispanic += 1\n",
    "        elif (row['SubjectRace'] == \"WHITE\"):\n",
    "            verbalWarningWhite += 1\n",
    "        if (row['SubjectGender'] == \"FEMALE\"):\n",
    "            verbalWarningFemale += 1\n",
    "        if (row['SubjectGender'] == \"MALE\"):\n",
    "            verbalWarningMale += 1\n",
    "        if ((row['SubjectGender'] == \"Unknown\")):\n",
    "            verbalWarningUnknown += 1\n",
    "            \n",
    "verbalWarningAmerPer = (verbalWarningAmer / amerCount) * 100\n",
    "verbalWarningAsianPer = (verbalWarningAsian / asianCount) * 100\n",
    "verbalWarningBlackPer = (verbalWarningBlack / blackCount) * 100\n",
    "verbalWarningHispanicPer = (verbalWarningHispanic / hispanicCount) * 100\n",
    "verbalWarningWhitePer = (verbalWarningWhite / whiteCount) * 100\n",
    "\n",
    "verbalWarningFemalePer = (verbalWarningFemale / femaleCount) * 100\n",
    "verbalWarningMalePer = (verbalWarningMale / maleCount) * 100\n",
    "verbalWarningUnknownPer = (verbalWarningUnknown / unknownCount) * 100\n",
    "\n",
    "verbalWarningPerDict = {\"Race\": [\"Asian\", \"Black\", \"Hispanic\", \"Indigenous\", \"White\"], \"Percentage of Interactions Resulting in Verbal Warnings\": [verbalWarningAsianPer, verbalWarningBlackPer, verbalWarningHispanicPer, verbalWarningAmerPer, verbalWarningWhitePer]}\n",
    "verbalWarningPerDictGender = {\"Gender\": [\"Female\", \"Male\", \"Unknown\"], \"Percentage of Interactions Resulting in Verbal Warnings\": [verbalWarningFemalePer, verbalWarningMalePer, verbalWarningUnknownPer]}\n",
    "\n",
    "verbalWarningRaceDf = pd.DataFrame(verbalWarningPerDict).set_index('Race')\n",
    "verbalWarningGenderDf = pd.DataFrame(verbalWarningPerDictGender).set_index('Gender')\n",
    "\n",
    "\n",
    "verbalWarningRaceDf.plot.bar()\n",
    "verbalWarningGenderDf.plot.bar()"
   ]
  },
  {
   "cell_type": "markdown",
   "metadata": {},
   "source": [
    "This graph shows who received a citation."
   ]
  },
  {
   "cell_type": "code",
   "execution_count": 19,
   "metadata": {},
   "outputs": [
    {
     "data": {
      "text/plain": [
       "<matplotlib.axes._subplots.AxesSubplot at 0x1c88a497ac8>"
      ]
     },
     "execution_count": 19,
     "metadata": {},
     "output_type": "execute_result"
    },
    {
     "data": {
      "image/png": "[encoded data removed]",
      "text/plain": [
       "<Figure size 432x288 with 1 Axes>"
      ]
     },
     "metadata": {
      "needs_background": "light"
     },
     "output_type": "display_data"
    },
    {
     "data": {
      "image/png": "[encoded data removed]",
      "text/plain": [
       "<Figure size 432x288 with 1 Axes>"
      ]
     },
     "metadata": {
      "needs_background": "light"
     },
     "output_type": "display_data"
    }
   ],
   "source": [
    "citationAmer = citationAsian = citationBlack = citationHispanic = citationWhite = citationFemale = citationMale = citationUnknown = 0\n",
    "\n",
    "for index, row in df.iterrows():\n",
    "    if (row[\"StopResults\"] == \"Citation Issued\"):\n",
    "        if (row['SubjectRace'] == \"AMER. IND.\"):\n",
    "            citationAmer += 1\n",
    "        elif (row['SubjectRace'] == \"ASIAN\"):\n",
    "            citationAsian += 1\n",
    "        elif (row['SubjectRace'] == \"BLACK\"):\n",
    "            citationBlack += 1\n",
    "        elif (row['SubjectRace'] == \"HISPANIC\"):\n",
    "            citationHispanic += 1\n",
    "        elif (row['SubjectRace'] == \"WHITE\"):\n",
    "            citationWhite += 1\n",
    "        if (row['SubjectGender'] == \"FEMALE\"):\n",
    "            citationFemale += 1\n",
    "        if (row['SubjectGender'] == \"MALE\"):\n",
    "            citationMale += 1\n",
    "        if ((row['SubjectGender'] == \"Unknown\")):\n",
    "            citationUnknown += 1\n",
    "            \n",
    "citationAmerPer = (citationAmer / amerCount) * 100\n",
    "citationAsianPer = (citationAsian / asianCount) * 100\n",
    "citationBlackPer = (citationBlack / blackCount) * 100\n",
    "citationHispanicPer = (citationHispanic / hispanicCount) * 100\n",
    "citationWhitePer = (citationWhite / whiteCount) * 100\n",
    "\n",
    "citationFemalePer = (citationFemale / femaleCount) * 100\n",
    "citationMalePer = (citationMale / maleCount) * 100\n",
    "citationUnknownPer = (citationUnknown / unknownCount) * 100\n",
    "\n",
    "citationPerDict = {\"Race\": [\"Asian\", \"Black\", \"Hispanic\", \"Indigenous\", \"White\"], \"Percentage of Interactions Resulting in Citations Issued\": [citationAsianPer, citationBlackPer, citationHispanicPer, citationAmerPer, citationWhitePer]}\n",
    "citationPerDictGender = {\"Gender\": [\"Female\", \"Male\", \"Unknown\"], \"Percentage of Interactions Resulting in Citations Issued\": [citationFemalePer, citationMalePer, citationUnknownPer]}\n",
    "\n",
    "citationRaceDf = pd.DataFrame(citationPerDict).set_index('Race')\n",
    "citationGenderDf = pd.DataFrame(citationPerDictGender).set_index('Gender')\n",
    "\n",
    "\n",
    "citationRaceDf.plot.bar()\n",
    "citationGenderDf.plot.bar()"
   ]
  },
  {
   "cell_type": "markdown",
   "metadata": {},
   "source": [
    "This chart shows who received a summons."
   ]
  },
  {
   "cell_type": "code",
   "execution_count": 20,
   "metadata": {},
   "outputs": [
    {
     "data": {
      "text/plain": [
       "<matplotlib.axes._subplots.AxesSubplot at 0x1c88bb04a88>"
      ]
     },
     "execution_count": 20,
     "metadata": {},
     "output_type": "execute_result"
    },
    {
     "data": {
      "image/png": "[encoded data removed]",
      "text/plain": [
       "<Figure size 432x288 with 1 Axes>"
      ]
     },
     "metadata": {
      "needs_background": "light"
     },
     "output_type": "display_data"
    },
    {
     "data": {
      "image/png": "[encoded data removed]",
      "text/plain": [
       "<Figure size 432x288 with 1 Axes>"
      ]
     },
     "metadata": {
      "needs_background": "light"
     },
     "output_type": "display_data"
    }
   ],
   "source": [
    "summonsAmer = summonsAsian = summonsBlack = summonsHispanic = summonsWhite = summonsFemale = summonsMale = summonsUnknown = 0\n",
    "\n",
    "for index, row in df.iterrows():\n",
    "    if (row[\"StopResults\"] == \"Summons Issued\"):\n",
    "        if (row['SubjectRace'] == \"AMER. IND.\"):\n",
    "            summonsAmer += 1\n",
    "        elif (row['SubjectRace'] == \"ASIAN\"):\n",
    "            summonsAsian += 1\n",
    "        elif (row['SubjectRace'] == \"BLACK\"):\n",
    "            summonsBlack += 1\n",
    "        elif (row['SubjectRace'] == \"HISPANIC\"):\n",
    "            summonsHispanic += 1\n",
    "        elif (row['SubjectRace'] == \"WHITE\"):\n",
    "            summonsWhite += 1\n",
    "        if (row['SubjectGender'] == \"FEMALE\"):\n",
    "            summonsFemale += 1\n",
    "        if (row['SubjectGender'] == \"MALE\"):\n",
    "            summonsMale += 1\n",
    "        if ((row['SubjectGender'] == \"Unknown\")):\n",
    "            summonsUnknown += 1\n",
    "            \n",
    "summonsAmerPer = (summonsAmer / amerCount) * 100\n",
    "summonsAsianPer = (summonsAsian / asianCount) * 100\n",
    "summonsBlackPer = (summonsBlack / blackCount) * 100\n",
    "summonsHispanicPer = (summonsHispanic / hispanicCount) * 100\n",
    "summonsWhitePer = (summonsWhite / whiteCount) * 100\n",
    "\n",
    "summonsFemalePer = (summonsFemale / femaleCount) * 100\n",
    "summonsMalePer = (summonsMale / maleCount) * 100\n",
    "summonsUnknownPer = (summonsUnknown / unknownCount) * 100\n",
    "\n",
    "summonsPerDict = {\"Race\": [\"Asian\", \"Black\", \"Hispanic\", \"Indigenous\", \"White\"], \"Percentage of Interactions Resulting in Summons Issued\": [summonsAsianPer, summonsBlackPer, summonsHispanicPer, summonsAmerPer, summonsWhitePer]}\n",
    "summonsPerDictGender = {\"Gender\": [\"Female\", \"Male\", \"Unknown\"], \"Percentage of Interactions Resulting in Summons Issued\": [summonsFemalePer, summonsMalePer, summonsUnknownPer]}\n",
    "\n",
    "summonsRaceDf = pd.DataFrame(summonsPerDict).set_index('Race')\n",
    "summonsGenderDf = pd.DataFrame(summonsPerDictGender).set_index('Gender')\n",
    "\n",
    "\n",
    "summonsRaceDf.plot.bar()\n",
    "summonsGenderDf.plot.bar()"
   ]
  },
  {
   "cell_type": "markdown",
   "metadata": {},
   "source": [
    "This graph shows stops that resulted in L.E.A.D."
   ]
  },
  {
   "cell_type": "code",
   "execution_count": 21,
   "metadata": {},
   "outputs": [
    {
     "data": {
      "text/plain": [
       "<matplotlib.axes._subplots.AxesSubplot at 0x1c881040748>"
      ]
     },
     "execution_count": 21,
     "metadata": {},
     "output_type": "execute_result"
    },
    {
     "data": {
      "image/png": "[encoded data removed]",
      "text/plain": [
       "<Figure size 432x288 with 1 Axes>"
      ]
     },
     "metadata": {
      "needs_background": "light"
     },
     "output_type": "display_data"
    },
    {
     "data": {
      "image/png": "[encoded data removed]",
      "text/plain": [
       "<Figure size 432x288 with 1 Axes>"
      ]
     },
     "metadata": {
      "needs_background": "light"
     },
     "output_type": "display_data"
    }
   ],
   "source": [
    "leadAmer = leadAsian = leadBlack = leadHispanic = leadWhite = leadFemale = leadMale = leadUnknown = 0\n",
    "\n",
    "for index, row in df.iterrows():\n",
    "    if ((row[\"StopResults\"] == \"L.E.A.D.\")):\n",
    "        if (row['SubjectRace'] == \"AMER. IND.\"):\n",
    "            leadAmer += 1\n",
    "        elif (row['SubjectRace'] == \"ASIAN\"):\n",
    "            leadAsian += 1\n",
    "        elif (row['SubjectRace'] == \"BLACK\"):\n",
    "            leadBlack += 1\n",
    "        elif (row['SubjectRace'] == \"HISPANIC\"):\n",
    "            leadHispanic += 1\n",
    "        elif (row['SubjectRace'] == \"WHITE\"):\n",
    "            leadWhite += 1\n",
    "        if (row['SubjectGender'] == \"FEMALE\"):\n",
    "            leadFemale += 1\n",
    "        if (row['SubjectGender'] == \"MALE\"):\n",
    "            leadMale += 1\n",
    "        if ((row['SubjectGender'] == \"Unknown\")):\n",
    "            leadUnknown += 1\n",
    "            \n",
    "            \n",
    "leadAmerPer = (leadAmer / amerCount) * 100\n",
    "leadAsianPer = (leadAsian / asianCount) * 100\n",
    "leadBlackPer = (leadBlack / blackCount) * 100\n",
    "leadHispanicPer = (leadHispanic / hispanicCount) * 100\n",
    "leadWhitePer = (leadWhite / whiteCount) * 100\n",
    "\n",
    "leadFemalePer = (leadFemale / femaleCount) * 100\n",
    "leadMalePer = (leadMale / maleCount) * 100\n",
    "leadUnknownPer = (leadUnknown / unknownCount) * 100\n",
    "\n",
    "leadPerDict = {\"Race\": [\"Asian\", \"Black\", \"Hispanic\", \"Indigenous\", \"White\"], \"Percentage of Interactions resulting in L.E.A.D.\": [leadAsianPer, leadBlackPer, leadHispanicPer, leadAmerPer, leadWhitePer]}\n",
    "leadPerDictGender = {\"Gender\": [\"Female\", \"Male\", \"Unknown\"], \"Percentage of Interactions Resulting resulting in L.E.A.D.\": [leadFemalePer, leadMalePer, leadUnknownPer]}\n",
    "\n",
    "leadRaceDf = pd.DataFrame(leadPerDict).set_index('Race')\n",
    "leadGenderDf = pd.DataFrame(leadPerDictGender).set_index('Gender')\n",
    "\n",
    "\n",
    "leadRaceDf.plot.bar()\n",
    "leadGenderDf.plot.bar()"
   ]
  },
  {
   "cell_type": "markdown",
   "metadata": {},
   "source": [
    "This graph shows what stops resulted in searches."
   ]
  },
  {
   "cell_type": "code",
   "execution_count": 22,
   "metadata": {},
   "outputs": [
    {
     "data": {
      "text/plain": [
       "<matplotlib.axes._subplots.AxesSubplot at 0x1c897674208>"
      ]
     },
     "execution_count": 22,
     "metadata": {},
     "output_type": "execute_result"
    },
    {
     "data": {
      "image/png": "[encoded data removed]",
      "text/plain": [
       "<Figure size 432x288 with 1 Axes>"
      ]
     },
     "metadata": {
      "needs_background": "light"
     },
     "output_type": "display_data"
    },
    {
     "data": {
      "image/png": "[encoded data removed]",
      "text/plain": [
       "<Figure size 432x288 with 1 Axes>"
      ]
     },
     "metadata": {
      "needs_background": "light"
     },
     "output_type": "display_data"
    }
   ],
   "source": [
    "searchAmer = searchAsian = searchBlack = searchHispanic = searchWhite = searchFemale = searchMale = searchUnknown = 0\n",
    "\n",
    "for index, row in df.iterrows():\n",
    "    if ((row[\"SearchTypes\"] == \"-\")):\n",
    "        if (row['SubjectRace'] == \"AMER. IND.\"):\n",
    "            searchAmer += 1\n",
    "        elif (row['SubjectRace'] == \"ASIAN\"):\n",
    "            searchAsian += 1\n",
    "        elif (row['SubjectRace'] == \"BLACK\"):\n",
    "            searchBlack += 1\n",
    "        elif (row['SubjectRace'] == \"HISPANIC\"):\n",
    "            searchHispanic += 1\n",
    "        elif (row['SubjectRace'] == \"WHITE\"):\n",
    "            searchWhite += 1\n",
    "        if (row['SubjectGender'] == \"FEMALE\"):\n",
    "            searchFemale += 1\n",
    "        if (row['SubjectGender'] == \"MALE\"):\n",
    "            searchMale += 1\n",
    "        if ((row['SubjectGender'] == \"Unknown\")):\n",
    "            searchUnknown += 1\n",
    "            \n",
    "            \n",
    "searchAmerPer = ((searchAmer / amerCount) * 100)\n",
    "searchAsianPer = ((searchAsian / asianCount) * 100)\n",
    "searchBlackPer = ((searchBlack / blackCount) * 100)\n",
    "searchHispanicPer = ((searchHispanic / hispanicCount) * 100)\n",
    "searchWhitePer = ((searchWhite / whiteCount) * 100)\n",
    "\n",
    "searchFemalePer = (100 - (searchFemale / femaleCount) * 100)\n",
    "searchMalePer = (100 - (searchMale / maleCount) * 100)\n",
    "searchUnknownPer = (100 - (searchUnknown / unknownCount) * 100)\n",
    "\n",
    "searchPerDict = {\"Race\": [\"Asian\", \"Black\", \"Hispanic\", \"Indigenous\", \"White\"], \"Percentage of Interactions resulting in some type of search\": [searchAsianPer, searchBlackPer, searchHispanicPer, searchAmerPer, searchWhitePer]}\n",
    "searchPerDictGender = {\"Gender\": [\"Female\", \"Male\", \"Unknown\"], \"Percentage of Interactions Resulting resulting in some type of search\": [searchFemalePer, searchMalePer, searchUnknownPer]}\n",
    "\n",
    "searchRaceDf = pd.DataFrame(searchPerDict).set_index('Race')\n",
    "searchGenderDf = pd.DataFrame(searchPerDictGender).set_index('Gender')\n",
    "\n",
    "\n",
    "searchRaceDf.plot.bar()\n",
    "searchGenderDf.plot.bar()"
   ]
  },
  {
   "cell_type": "markdown",
   "metadata": {},
   "source": [
    "And finally, this chart shows who got arrested."
   ]
  },
  {
   "cell_type": "code",
   "execution_count": 31,
   "metadata": {},
   "outputs": [
    {
     "data": {
      "text/plain": [
       "<matplotlib.axes._subplots.AxesSubplot at 0x1c887e27848>"
      ]
     },
     "execution_count": 31,
     "metadata": {},
     "output_type": "execute_result"
    },
    {
     "data": {
      "image/png": "[encoded data removed]",
      "text/plain": [
       "<Figure size 432x288 with 1 Axes>"
      ]
     },
     "metadata": {
      "needs_background": "light"
     },
     "output_type": "display_data"
    },
    {
     "data": {
      "image/png": "[encoded data removed]",
      "text/plain": [
       "<Figure size 432x288 with 1 Axes>"
      ]
     },
     "metadata": {
      "needs_background": "light"
     },
     "output_type": "display_data"
    }
   ],
   "source": [
    "arrestAmer = arrestAsian = arrestBlack = arrestHispanic = arrestWhite = arrestFemale = arrestMale = arrestUnknown = 0\n",
    "\n",
    "for index, row in df.iterrows():\n",
    "    if (row[\"StopResults\"] == \"Physical Arrest\"):\n",
    "        if (row['SubjectRace'] == \"AMER. IND.\"):\n",
    "            arrestAmer += 1\n",
    "        elif (row['SubjectRace'] == \"ASIAN\"):\n",
    "            arrestAsian += 1\n",
    "        elif (row['SubjectRace'] == \"BLACK\"):\n",
    "            arrestBlack += 1\n",
    "        elif (row['SubjectRace'] == \"HISPANIC\"):\n",
    "            arrestHispanic += 1\n",
    "        elif (row['SubjectRace'] == \"WHITE\"):\n",
    "            arrestWhite += 1\n",
    "        if (row['SubjectGender'] == \"FEMALE\"):\n",
    "            arrestFemale += 1\n",
    "        if (row['SubjectGender'] == \"MALE\"):\n",
    "            arrestMale += 1\n",
    "        if ((row['SubjectGender'] == \"UNKNOWN\")):\n",
    "            arrestUnknown += 1\n",
    "            \n",
    "arrestAmerPer = (arrestAmer / amerCount) * 100\n",
    "arrestAsianPer = (arrestAsian / asianCount) * 100\n",
    "arrestBlackPer = (arrestBlack / blackCount) * 100\n",
    "arrestHispanicPer = (arrestHispanic / hispanicCount) * 100\n",
    "arrestWhitePer = (arrestWhite / whiteCount) * 100\n",
    "\n",
    "arrestFemalePer = (arrestFemale / femaleCount) * 100\n",
    "arrestMalePer = (arrestMale / maleCount) * 100\n",
    "arrestUnknownPer = (arrestUnknown / unknownCount) * 100\n",
    "\n",
    "arrestPerDict = {\"Race\": [\"Asian\", \"Black\", \"Hispanic\", \"Indigenous\", \"White\"], \"Percentage of Interactions Resulting in Physical Arrest\": [arrestAsianPer, arrestBlackPer, arrestHispanicPer, arrestAmerPer, arrestWhitePer]}\n",
    "arrestPerDictGender = {\"Gender\": [\"Female\", \"Male\", \"Unknown\"], \"Percentage of Interactions Resulting in Physical Arrest\": [arrestFemalePer, arrestMalePer, arrestUnknownPer]}\n",
    "\n",
    "arrestRaceDf = pd.DataFrame(arrestPerDict).set_index('Race')\n",
    "arrestGenderDf = pd.DataFrame(arrestPerDictGender).set_index('Gender')\n",
    "\n",
    "\n",
    "arrestRaceDf.plot.bar()\n",
    "arrestGenderDf.plot.bar()"
   ]
  },
  {
   "cell_type": "code",
   "execution_count": null,
   "metadata": {},
   "outputs": [],
   "source": [
    "df.head()"
   ]
  },
  {
   "cell_type": "code",
   "execution_count": null,
   "metadata": {},
   "outputs": [],
   "source": [
    "trafficDf = df\n",
    "for index, row in trafficDf.iterrows():\n",
    "    if (row[\"StopDescription\"] != \"TRAFFIC VIOLATION\"):\n",
    "        trafficDf = trafficDf.drop(index)\n",
    "    \n",
    "trafficDf.head()"
   ]
  },
  {
   "cell_type": "code",
   "execution_count": null,
   "metadata": {},
   "outputs": [],
   "source": [
    "trafficSearchAmer = trafficSearchAsian = trafficSearchBlack = trafficSearchHispanic = trafficSearchWhite = trafficSearchFemale = trafficSearchMale = trafficSearchUnknown = 0\n",
    "\n",
    "for index, row in df.iterrows():\n",
    "    if ((row[\"SearchTypes\"] == \"-\")):\n",
    "        if (row['SubjectRace'] == \"AMER. IND.\"):\n",
    "            trafficSearchAmer += 1\n",
    "        elif (row['SubjectRace'] == \"ASIAN\"):\n",
    "            trafficSearchAsian += 1\n",
    "        elif (row['SubjectRace'] == \"BLACK\"):\n",
    "            trafficSearchBlack += 1\n",
    "        elif (row['SubjectRace'] == \"HISPANIC\"):\n",
    "            trafficSearchHispanic += 1\n",
    "        elif (row['SubjectRace'] == \"WHITE\"):\n",
    "            trafficSearchWhite += 1\n",
    "        if (row['SubjectGender'] == \"FEMALE\"):\n",
    "            trafficSearchFemale += 1\n",
    "        if (row['SubjectGender'] == \"MALE\"):\n",
    "            trafficSearchMale += 1\n",
    "        if ((row['SubjectGender'] == \"Unknown\")):\n",
    "            trafficSearchUnknown += 1\n",
    "            \n",
    "            \n",
    "trafficSearchAmerPer = ((trafficSearchAmer / amerCount) * 100)\n",
    "trafficSearchAsianPer = ((trafficSearchAsian / asianCount) * 100)\n",
    "trafficSearchBlackPer = ((trafficSearchBlack / blackCount) * 100)\n",
    "trafficSearchHispanicPer = ((trafficSearchHispanic / hispanicCount) * 100)\n",
    "trafficSearchWhitePer = ((trafficSearchWhite / whiteCount) * 100)\n",
    "\n",
    "trafficSearchFemalePer = (100 - (trafficSearchFemale / femaleCount) * 100)\n",
    "trafficSearchMalePer = (100 - (trafficSearchMale / maleCount) * 100)\n",
    "trafficSearchUnknownPer = (100 - (trafficSearchUnknown / unknownCount) * 100)\n",
    "\n",
    "trafficSearchPerDict = {\"Race\": [\"Asian\", \"Black\", \"Hispanic\", \"Indigenous\", \"White\"], \"Percentage of Interactions resulting in some type of search\": [trafficSearchAsianPer, trafficSearchBlackPer, trafficSearchHispanicPer, trafficSearchAmerPer, trafficSearchWhitePer]}\n",
    "trafficSearchPerDictGender = {\"Gender\": [\"Female\", \"Male\", \"Unknown\"], \"Percentage of Interactions Resulting resulting in some type of search\": [trafficSearchFemalePer, trafficSearchMalePer, trafficSearchUnknownPer]}\n",
    "\n",
    "trafficSearchRaceDf = pd.DataFrame(trafficSearchPerDict).set_index('Race')\n",
    "trafficSearchGenderDf = pd.DataFrame(trafficSearchPerDictGender).set_index('Gender')\n",
    "\n",
    "\n",
    "trafficSearchRaceDf.plot.bar()\n",
    "trafficSearchGenderDf.plot.bar()"
   ]
  },
  {
   "cell_type": "markdown",
   "metadata": {},
   "source": [
    "Unfortunately for many of these analyses, we do not have great data regarding gender because there are high amounts of \"unknown\" genders recorded. We also cannot yet conclusively declare whether some races are targeted unfairly until we have demographic information for New Orleans which will tell us what proportions of races to expect to see in this city."
   ]
  },
  {
   "cell_type": "markdown",
   "metadata": {},
   "source": [
    "To prepare for our import and cleanup of demographic information, we first began work on the gender dataset. This included cleaning it up by dropping unnecessary columns and changing the dtype for some columns."
   ]
  },
  {
   "cell_type": "code",
   "execution_count": 32,
   "metadata": {},
   "outputs": [
    {
     "ename": "KeyError",
     "evalue": "\"['Blank'] not found in axis\"",
     "output_type": "error",
     "traceback": [
      "\u001b[1;31m---------------------------------------------------------------------------\u001b[0m",
      "\u001b[1;31mKeyError\u001b[0m                                  Traceback (most recent call last)",
      "\u001b[1;32m<ipython-input-32-4117114dda66>\u001b[0m in \u001b[0;36m<module>\u001b[1;34m\u001b[0m\n\u001b[0;32m      1\u001b[0m \u001b[0mgender_df\u001b[0m \u001b[1;33m=\u001b[0m \u001b[0mgender_df\u001b[0m\u001b[1;33m.\u001b[0m\u001b[0mdropna\u001b[0m\u001b[1;33m(\u001b[0m\u001b[0mhow\u001b[0m\u001b[1;33m=\u001b[0m\u001b[1;34m'all'\u001b[0m\u001b[1;33m)\u001b[0m\u001b[1;33m\u001b[0m\u001b[1;33m\u001b[0m\u001b[0m\n\u001b[1;32m----> 2\u001b[1;33m \u001b[0mgender_df\u001b[0m \u001b[1;33m=\u001b[0m \u001b[0mgender_df\u001b[0m\u001b[1;33m.\u001b[0m\u001b[0mdrop\u001b[0m\u001b[1;33m(\u001b[0m\u001b[0mcolumns\u001b[0m\u001b[1;33m=\u001b[0m\u001b[1;33m[\u001b[0m\u001b[1;34m'Blank'\u001b[0m\u001b[1;33m]\u001b[0m\u001b[1;33m)\u001b[0m\u001b[1;33m\u001b[0m\u001b[1;33m\u001b[0m\u001b[0m\n\u001b[0m",
      "\u001b[1;32m~\\Documents\\Anaconda3\\lib\\site-packages\\pandas\\core\\frame.py\u001b[0m in \u001b[0;36mdrop\u001b[1;34m(self, labels, axis, index, columns, level, inplace, errors)\u001b[0m\n\u001b[0;32m   4100\u001b[0m             \u001b[0mlevel\u001b[0m\u001b[1;33m=\u001b[0m\u001b[0mlevel\u001b[0m\u001b[1;33m,\u001b[0m\u001b[1;33m\u001b[0m\u001b[1;33m\u001b[0m\u001b[0m\n\u001b[0;32m   4101\u001b[0m             \u001b[0minplace\u001b[0m\u001b[1;33m=\u001b[0m\u001b[0minplace\u001b[0m\u001b[1;33m,\u001b[0m\u001b[1;33m\u001b[0m\u001b[1;33m\u001b[0m\u001b[0m\n\u001b[1;32m-> 4102\u001b[1;33m             \u001b[0merrors\u001b[0m\u001b[1;33m=\u001b[0m\u001b[0merrors\u001b[0m\u001b[1;33m,\u001b[0m\u001b[1;33m\u001b[0m\u001b[1;33m\u001b[0m\u001b[0m\n\u001b[0m\u001b[0;32m   4103\u001b[0m         )\n\u001b[0;32m   4104\u001b[0m \u001b[1;33m\u001b[0m\u001b[0m\n",
      "\u001b[1;32m~\\Documents\\Anaconda3\\lib\\site-packages\\pandas\\core\\generic.py\u001b[0m in \u001b[0;36mdrop\u001b[1;34m(self, labels, axis, index, columns, level, inplace, errors)\u001b[0m\n\u001b[0;32m   3912\u001b[0m         \u001b[1;32mfor\u001b[0m \u001b[0maxis\u001b[0m\u001b[1;33m,\u001b[0m \u001b[0mlabels\u001b[0m \u001b[1;32min\u001b[0m \u001b[0maxes\u001b[0m\u001b[1;33m.\u001b[0m\u001b[0mitems\u001b[0m\u001b[1;33m(\u001b[0m\u001b[1;33m)\u001b[0m\u001b[1;33m:\u001b[0m\u001b[1;33m\u001b[0m\u001b[1;33m\u001b[0m\u001b[0m\n\u001b[0;32m   3913\u001b[0m             \u001b[1;32mif\u001b[0m \u001b[0mlabels\u001b[0m \u001b[1;32mis\u001b[0m \u001b[1;32mnot\u001b[0m \u001b[1;32mNone\u001b[0m\u001b[1;33m:\u001b[0m\u001b[1;33m\u001b[0m\u001b[1;33m\u001b[0m\u001b[0m\n\u001b[1;32m-> 3914\u001b[1;33m                 \u001b[0mobj\u001b[0m \u001b[1;33m=\u001b[0m \u001b[0mobj\u001b[0m\u001b[1;33m.\u001b[0m\u001b[0m_drop_axis\u001b[0m\u001b[1;33m(\u001b[0m\u001b[0mlabels\u001b[0m\u001b[1;33m,\u001b[0m \u001b[0maxis\u001b[0m\u001b[1;33m,\u001b[0m \u001b[0mlevel\u001b[0m\u001b[1;33m=\u001b[0m\u001b[0mlevel\u001b[0m\u001b[1;33m,\u001b[0m \u001b[0merrors\u001b[0m\u001b[1;33m=\u001b[0m\u001b[0merrors\u001b[0m\u001b[1;33m)\u001b[0m\u001b[1;33m\u001b[0m\u001b[1;33m\u001b[0m\u001b[0m\n\u001b[0m\u001b[0;32m   3915\u001b[0m \u001b[1;33m\u001b[0m\u001b[0m\n\u001b[0;32m   3916\u001b[0m         \u001b[1;32mif\u001b[0m \u001b[0minplace\u001b[0m\u001b[1;33m:\u001b[0m\u001b[1;33m\u001b[0m\u001b[1;33m\u001b[0m\u001b[0m\n",
      "\u001b[1;32m~\\Documents\\Anaconda3\\lib\\site-packages\\pandas\\core\\generic.py\u001b[0m in \u001b[0;36m_drop_axis\u001b[1;34m(self, labels, axis, level, errors)\u001b[0m\n\u001b[0;32m   3944\u001b[0m                 \u001b[0mnew_axis\u001b[0m \u001b[1;33m=\u001b[0m \u001b[0maxis\u001b[0m\u001b[1;33m.\u001b[0m\u001b[0mdrop\u001b[0m\u001b[1;33m(\u001b[0m\u001b[0mlabels\u001b[0m\u001b[1;33m,\u001b[0m \u001b[0mlevel\u001b[0m\u001b[1;33m=\u001b[0m\u001b[0mlevel\u001b[0m\u001b[1;33m,\u001b[0m \u001b[0merrors\u001b[0m\u001b[1;33m=\u001b[0m\u001b[0merrors\u001b[0m\u001b[1;33m)\u001b[0m\u001b[1;33m\u001b[0m\u001b[1;33m\u001b[0m\u001b[0m\n\u001b[0;32m   3945\u001b[0m             \u001b[1;32melse\u001b[0m\u001b[1;33m:\u001b[0m\u001b[1;33m\u001b[0m\u001b[1;33m\u001b[0m\u001b[0m\n\u001b[1;32m-> 3946\u001b[1;33m                 \u001b[0mnew_axis\u001b[0m \u001b[1;33m=\u001b[0m \u001b[0maxis\u001b[0m\u001b[1;33m.\u001b[0m\u001b[0mdrop\u001b[0m\u001b[1;33m(\u001b[0m\u001b[0mlabels\u001b[0m\u001b[1;33m,\u001b[0m \u001b[0merrors\u001b[0m\u001b[1;33m=\u001b[0m\u001b[0merrors\u001b[0m\u001b[1;33m)\u001b[0m\u001b[1;33m\u001b[0m\u001b[1;33m\u001b[0m\u001b[0m\n\u001b[0m\u001b[0;32m   3947\u001b[0m             \u001b[0mresult\u001b[0m \u001b[1;33m=\u001b[0m \u001b[0mself\u001b[0m\u001b[1;33m.\u001b[0m\u001b[0mreindex\u001b[0m\u001b[1;33m(\u001b[0m\u001b[1;33m**\u001b[0m\u001b[1;33m{\u001b[0m\u001b[0maxis_name\u001b[0m\u001b[1;33m:\u001b[0m \u001b[0mnew_axis\u001b[0m\u001b[1;33m}\u001b[0m\u001b[1;33m)\u001b[0m\u001b[1;33m\u001b[0m\u001b[1;33m\u001b[0m\u001b[0m\n\u001b[0;32m   3948\u001b[0m \u001b[1;33m\u001b[0m\u001b[0m\n",
      "\u001b[1;32m~\\Documents\\Anaconda3\\lib\\site-packages\\pandas\\core\\indexes\\base.py\u001b[0m in \u001b[0;36mdrop\u001b[1;34m(self, labels, errors)\u001b[0m\n\u001b[0;32m   5338\u001b[0m         \u001b[1;32mif\u001b[0m \u001b[0mmask\u001b[0m\u001b[1;33m.\u001b[0m\u001b[0many\u001b[0m\u001b[1;33m(\u001b[0m\u001b[1;33m)\u001b[0m\u001b[1;33m:\u001b[0m\u001b[1;33m\u001b[0m\u001b[1;33m\u001b[0m\u001b[0m\n\u001b[0;32m   5339\u001b[0m             \u001b[1;32mif\u001b[0m \u001b[0merrors\u001b[0m \u001b[1;33m!=\u001b[0m \u001b[1;34m\"ignore\"\u001b[0m\u001b[1;33m:\u001b[0m\u001b[1;33m\u001b[0m\u001b[1;33m\u001b[0m\u001b[0m\n\u001b[1;32m-> 5340\u001b[1;33m                 \u001b[1;32mraise\u001b[0m \u001b[0mKeyError\u001b[0m\u001b[1;33m(\u001b[0m\u001b[1;34m\"{} not found in axis\"\u001b[0m\u001b[1;33m.\u001b[0m\u001b[0mformat\u001b[0m\u001b[1;33m(\u001b[0m\u001b[0mlabels\u001b[0m\u001b[1;33m[\u001b[0m\u001b[0mmask\u001b[0m\u001b[1;33m]\u001b[0m\u001b[1;33m)\u001b[0m\u001b[1;33m)\u001b[0m\u001b[1;33m\u001b[0m\u001b[1;33m\u001b[0m\u001b[0m\n\u001b[0m\u001b[0;32m   5341\u001b[0m             \u001b[0mindexer\u001b[0m \u001b[1;33m=\u001b[0m \u001b[0mindexer\u001b[0m\u001b[1;33m[\u001b[0m\u001b[1;33m~\u001b[0m\u001b[0mmask\u001b[0m\u001b[1;33m]\u001b[0m\u001b[1;33m\u001b[0m\u001b[1;33m\u001b[0m\u001b[0m\n\u001b[0;32m   5342\u001b[0m         \u001b[1;32mreturn\u001b[0m \u001b[0mself\u001b[0m\u001b[1;33m.\u001b[0m\u001b[0mdelete\u001b[0m\u001b[1;33m(\u001b[0m\u001b[0mindexer\u001b[0m\u001b[1;33m)\u001b[0m\u001b[1;33m\u001b[0m\u001b[1;33m\u001b[0m\u001b[0m\n",
      "\u001b[1;31mKeyError\u001b[0m: \"['Blank'] not found in axis\""
     ]
    }
   ],
   "source": [
    "gender_df = gender_df.dropna(how='all')\n",
    "gender_df = gender_df.drop(columns=['Blank'])"
   ]
  },
  {
   "cell_type": "code",
   "execution_count": 33,
   "metadata": {},
   "outputs": [
    {
     "data": {
      "text/html": [
       "<div>\n",
       "<style scoped>\n",
       "    .dataframe tbody tr th:only-of-type {\n",
       "        vertical-align: middle;\n",
       "    }\n",
       "\n",
       "    .dataframe tbody tr th {\n",
       "        vertical-align: top;\n",
       "    }\n",
       "\n",
       "    .dataframe thead th {\n",
       "        text-align: right;\n",
       "    }\n",
       "</style>\n",
       "<table border=\"1\" class=\"dataframe\">\n",
       "  <thead>\n",
       "    <tr style=\"text-align: right;\">\n",
       "      <th></th>\n",
       "      <th>Female2000</th>\n",
       "      <th>Female2014-2018</th>\n",
       "      <th>FemaleMOE</th>\n",
       "      <th>Male2000</th>\n",
       "      <th>Male2014-2018</th>\n",
       "      <th>MaleMOE</th>\n",
       "    </tr>\n",
       "    <tr>\n",
       "      <th>Location</th>\n",
       "      <th></th>\n",
       "      <th></th>\n",
       "      <th></th>\n",
       "      <th></th>\n",
       "      <th></th>\n",
       "      <th></th>\n",
       "    </tr>\n",
       "  </thead>\n",
       "  <tbody>\n",
       "    <tr>\n",
       "      <td>Algiers Point</td>\n",
       "      <td>0.520</td>\n",
       "      <td>0.503</td>\n",
       "      <td>0.049</td>\n",
       "      <td>0.480</td>\n",
       "      <td>0.497</td>\n",
       "      <td>0.033</td>\n",
       "    </tr>\n",
       "    <tr>\n",
       "      <td>Audubon</td>\n",
       "      <td>0.530</td>\n",
       "      <td>0.534</td>\n",
       "      <td>0.022</td>\n",
       "      <td>0.470</td>\n",
       "      <td>0.466</td>\n",
       "      <td>0.017</td>\n",
       "    </tr>\n",
       "    <tr>\n",
       "      <td>B.W. Cooper</td>\n",
       "      <td>0.604</td>\n",
       "      <td>0.515</td>\n",
       "      <td>0.048</td>\n",
       "      <td>0.396</td>\n",
       "      <td>0.485</td>\n",
       "      <td>0.063</td>\n",
       "    </tr>\n",
       "    <tr>\n",
       "      <td>Bayou St. John</td>\n",
       "      <td>0.532</td>\n",
       "      <td>0.525</td>\n",
       "      <td>0.030</td>\n",
       "      <td>0.468</td>\n",
       "      <td>0.475</td>\n",
       "      <td>0.041</td>\n",
       "    </tr>\n",
       "    <tr>\n",
       "      <td>Behrman</td>\n",
       "      <td>0.539</td>\n",
       "      <td>0.582</td>\n",
       "      <td>0.028</td>\n",
       "      <td>0.461</td>\n",
       "      <td>0.418</td>\n",
       "      <td>0.036</td>\n",
       "    </tr>\n",
       "    <tr>\n",
       "      <td>...</td>\n",
       "      <td>...</td>\n",
       "      <td>...</td>\n",
       "      <td>...</td>\n",
       "      <td>...</td>\n",
       "      <td>...</td>\n",
       "      <td>...</td>\n",
       "    </tr>\n",
       "    <tr>\n",
       "      <td>West Lake Forest</td>\n",
       "      <td>0.551</td>\n",
       "      <td>0.537</td>\n",
       "      <td>0.023</td>\n",
       "      <td>0.449</td>\n",
       "      <td>0.463</td>\n",
       "      <td>0.044</td>\n",
       "    </tr>\n",
       "    <tr>\n",
       "      <td>West Riverside</td>\n",
       "      <td>0.535</td>\n",
       "      <td>0.518</td>\n",
       "      <td>0.029</td>\n",
       "      <td>0.465</td>\n",
       "      <td>0.482</td>\n",
       "      <td>0.037</td>\n",
       "    </tr>\n",
       "    <tr>\n",
       "      <td>Whitney</td>\n",
       "      <td>0.545</td>\n",
       "      <td>0.518</td>\n",
       "      <td>0.034</td>\n",
       "      <td>0.455</td>\n",
       "      <td>0.482</td>\n",
       "      <td>0.128</td>\n",
       "    </tr>\n",
       "    <tr>\n",
       "      <td>New Orleans</td>\n",
       "      <td>0.531</td>\n",
       "      <td>0.524</td>\n",
       "      <td>0.000</td>\n",
       "      <td>0.469</td>\n",
       "      <td>0.476</td>\n",
       "      <td>0.000</td>\n",
       "    </tr>\n",
       "    <tr>\n",
       "      <td>United States</td>\n",
       "      <td>0.509</td>\n",
       "      <td>0.508</td>\n",
       "      <td>0.000</td>\n",
       "      <td>0.491</td>\n",
       "      <td>0.492</td>\n",
       "      <td>0.000</td>\n",
       "    </tr>\n",
       "  </tbody>\n",
       "</table>\n",
       "<p>74 rows × 6 columns</p>\n",
       "</div>"
      ],
      "text/plain": [
       "                  Female2000  Female2014-2018  FemaleMOE  Male2000  \\\n",
       "Location                                                             \n",
       "Algiers Point          0.520            0.503      0.049     0.480   \n",
       "Audubon                0.530            0.534      0.022     0.470   \n",
       "B.W. Cooper            0.604            0.515      0.048     0.396   \n",
       "Bayou St. John         0.532            0.525      0.030     0.468   \n",
       "Behrman                0.539            0.582      0.028     0.461   \n",
       "...                      ...              ...        ...       ...   \n",
       "West Lake Forest       0.551            0.537      0.023     0.449   \n",
       "West Riverside         0.535            0.518      0.029     0.465   \n",
       "Whitney                0.545            0.518      0.034     0.455   \n",
       "New Orleans            0.531            0.524      0.000     0.469   \n",
       "United States          0.509            0.508      0.000     0.491   \n",
       "\n",
       "                  Male2014-2018  MaleMOE  \n",
       "Location                                  \n",
       "Algiers Point             0.497    0.033  \n",
       "Audubon                   0.466    0.017  \n",
       "B.W. Cooper               0.485    0.063  \n",
       "Bayou St. John            0.475    0.041  \n",
       "Behrman                   0.418    0.036  \n",
       "...                         ...      ...  \n",
       "West Lake Forest          0.463    0.044  \n",
       "West Riverside            0.482    0.037  \n",
       "Whitney                   0.482    0.128  \n",
       "New Orleans               0.476    0.000  \n",
       "United States             0.492    0.000  \n",
       "\n",
       "[74 rows x 6 columns]"
      ]
     },
     "metadata": {},
     "output_type": "display_data"
    },
    {
     "data": {
      "text/plain": [
       "Female2000         float64\n",
       "Female2014-2018    float64\n",
       "FemaleMOE          float64\n",
       "Male2000           float64\n",
       "Male2014-2018      float64\n",
       "MaleMOE            float64\n",
       "dtype: object"
      ]
     },
     "metadata": {},
     "output_type": "display_data"
    }
   ],
   "source": [
    "display(gender_df)\n",
    "display(gender_df.dtypes)"
   ]
  },
  {
   "cell_type": "markdown",
   "metadata": {},
   "source": [
    "After cleaning up this dataset a little, we moved onto more data analysis. Our first analysis was a simple test to see if we could extract any useful information based on a subject's gender. Below is a simple pie chart that shows roughly how many men vs how many women were stopped by police in total."
   ]
  },
  {
   "cell_type": "code",
   "execution_count": 34,
   "metadata": {},
   "outputs": [
    {
     "data": {
      "text/plain": [
       "<matplotlib.axes._subplots.AxesSubplot at 0x1c887ea5c48>"
      ]
     },
     "execution_count": 34,
     "metadata": {},
     "output_type": "execute_result"
    },
    {
     "data": {
      "image/png": "[encoded data removed]",
      "text/plain": [
       "<Figure size 432x288 with 1 Axes>"
      ]
     },
     "metadata": {},
     "output_type": "display_data"
    }
   ],
   "source": [
    "df['SubjectGender'].value_counts().plot.pie(colors=['blue', 'pink', 'gray'])"
   ]
  },
  {
   "cell_type": "markdown",
   "metadata": {},
   "source": [
    "This pie chart compares the percentage of women and men located in the city of New Orleans."
   ]
  },
  {
   "cell_type": "code",
   "execution_count": 35,
   "metadata": {},
   "outputs": [
    {
     "data": {
      "text/plain": [
       "<matplotlib.axes._subplots.AxesSubplot at 0x1c887ec71c8>"
      ]
     },
     "metadata": {},
     "output_type": "display_data"
    },
    {
     "data": {
      "image/png": "[encoded data removed]",
      "text/plain": [
       "<Figure size 432x288 with 1 Axes>"
      ]
     },
     "metadata": {},
     "output_type": "display_data"
    }
   ],
   "source": [
    "NewOrleansGenders = gender_df[['Female2014-2018', 'Male2014-2018']]\n",
    "display(NewOrleansGenders.loc['New Orleans'].plot.pie(y='Gender in New Orleans, 2014-2018', colors=['pink', 'blue']))"
   ]
  },
  {
   "cell_type": "markdown",
   "metadata": {},
   "source": [
    "Although we can already see that males are disproportionately stopped compared to females (since if it were proportional there would be just as many, if not slightly more, females stopped by police as males), we would like to transform the data further to ensure we are comparing the two datasets fairly."
   ]
  },
  {
   "cell_type": "code",
   "execution_count": 74,
   "metadata": {},
   "outputs": [
    {
     "data": {
      "text/plain": [
       "<matplotlib.legend.Legend at 0x1c886f3cb48>"
      ]
     },
     "execution_count": 74,
     "metadata": {},
     "output_type": "execute_result"
    },
    {
     "data": {
      "image/png": "[encoded data removed]",
      "text/plain": [
       "<Figure size 432x288 with 1 Axes>"
      ]
     },
     "metadata": {
      "needs_background": "light"
     },
     "output_type": "display_data"
    }
   ],
   "source": [
    "import matplotlib.pyplot as plt\n",
    "new_noGenderDf = noGenderDf.drop('Unknown')\n",
    "no_actions_gender_compare = pd.concat([new_noGenderDf, NewOrleansGenders.loc['New Orleans']])\n",
    "ax = no_actions_gender_compare.plot.bar(color=[\"SkyBlue\",\"IndianRed\"], rot=0, title=\"Epic Graph\\nAnother Line! Whoa\")\n",
    "ax.legend([\"Percentage of Interactions Resulting in No Action Taken\", 'Percentage of Males and Females in New Orleans'])"
   ]
  },
  {
   "cell_type": "code",
   "execution_count": 41,
   "metadata": {},
   "outputs": [
    {
     "data": {
      "text/plain": [
       "<matplotlib.axes._subplots.AxesSubplot at 0x1c887ee0dc8>"
      ]
     },
     "execution_count": 41,
     "metadata": {},
     "output_type": "execute_result"
    },
    {
     "data": {
      "image/png": "[encoded data removed]",
      "text/plain": [
       "<Figure size 432x288 with 1 Axes>"
      ]
     },
     "metadata": {
      "needs_background": "light"
     },
     "output_type": "display_data"
    }
   ],
   "source": [
    "noRaceDf.plot.bar()"
   ]
  },
  {
   "cell_type": "code",
   "execution_count": null,
   "metadata": {},
   "outputs": [],
   "source": []
  },
  {
   "cell_type": "code",
   "execution_count": null,
   "metadata": {},
   "outputs": [],
   "source": []
  }
 ],
 "metadata": {
  "kernelspec": {
   "display_name": "Python 3",
   "language": "python",
   "name": "python3"
  },
  "language_info": {
   "codemirror_mode": {
    "name": "ipython",
    "version": 3
   },
   "file_extension": ".py",
   "mimetype": "text/x-python",
   "name": "python",
   "nbconvert_exporter": "python",
   "pygments_lexer": "ipython3",
   "version": "3.7.4"
  }
 },
 "nbformat": 4,
 "nbformat_minor": 2
}
