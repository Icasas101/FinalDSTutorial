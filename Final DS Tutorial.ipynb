{
 "cells": [
  {
   "cell_type": "markdown",
   "metadata": {},
   "source": [
    "https://icasas101.github.io/FinalDSTutorial/ <<<<< This is the link to our website!"
   ]
  },
  {
   "cell_type": "markdown",
   "metadata": {},
   "source": [
    "# Identifying Bias in the NOPD"
   ]
  },
  {
   "cell_type": "markdown",
   "metadata": {},
   "source": [
    "By Josh Kellner and Isabella Casas"
   ]
  },
  {
   "cell_type": "markdown",
   "metadata": {},
   "source": [
    "CMPS 3160 - Introduction to Data Science - Professor Mattei"
   ]
  },
  {
   "cell_type": "markdown",
   "metadata": {},
   "source": [
    "## Introduction"
   ]
  },
  {
   "cell_type": "markdown",
   "metadata": {},
   "source": [
    "### Background"
   ]
  },
  {
   "cell_type": "markdown",
   "metadata": {},
   "source": [
    "The issue of police brutality against black people in our country has, of course, been as widely discussed as ever over the last year because of the widespread abundance protests against it all over the country. This issue has by no means only been brought up around this time when many people are reckoning with it, but the ability of social media to spread information and set trends so quickly has given the issue a major spotlight. \n",
    "\n",
    "Some of the questions we would like to answer are as follows:\n",
    "1. Are police more likely to question, search, and/or take more severe actions against people of color?\n",
    "2. Could gender have an effect on how likely someone is to be questioned/searched?\n",
    "3. Could police be biased against people of certain classes?\n",
    "\n",
    "In an ideal situation, any unfair biases that are discovered by this project will be used to determine a change in or create policy that would correct these unethical discriminatory actions and prompt city officials to put that policy in place. At the moment, we are focusing on New Orleans but a possible expansion, given that the datasets would be accessible, could be to compare the conclusions that we draw to conclusions drawn from other cities’ data."
   ]
  },
  {
   "cell_type": "markdown",
   "metadata": {},
   "source": [
    "### About our dataset"
   ]
  },
  {
   "cell_type": "markdown",
   "metadata": {},
   "source": [
    "Link to dataset: https://data.nola.gov/Public-Safety-and-Preparedness/Stop-and-Search-Field-Interviews-/kitu-f4uy/data"
   ]
  },
  {
   "cell_type": "markdown",
   "metadata": {},
   "source": [
    "For our Final Tutorial, we have partnered up to analyze a dataset called “Stop and Search (Field Interviews).” It is filled with data regarding instances of people being questioned by the New Orleans Police Department. Some of the information about these interviews includes when and where it happened, the officer conducting the questioning and potential search, a description of the individual being searched including age, gender, race, height and weight, the reason the interview was conducted, actions taken, etc. We plan to analyze this information in such a way that one can use our analysis to learn about any biases that NOPD has, or a lack thereof, and how these biases manifest themselves. We expect to specifically look at relationships between frequencies of interviews and searches and descriptors of the subjects of these interviews and searches as well as the relationships between the severity of the actions taken by the police and the descriptors of the subjects. The dataset provides information about the car that the subject was driving, if they were driving one, which will be another variable that can shed light on biases."
   ]
  },
  {
   "cell_type": "markdown",
   "metadata": {},
   "source": [
    "### Collaboration plan"
   ]
  },
  {
   "cell_type": "markdown",
   "metadata": {},
   "source": [
    "In terms of a collaboration plan, we have a Github repository set up to keep track of our most up to date work as well as each update. Every two weeks we plan to meet on Zoom to divide specific chunks of work to be done. In these meetings we will review the work we have done since the last meeting and work through things that we couldn’t complete individually, together. "
   ]
  },
  {
   "cell_type": "markdown",
   "metadata": {},
   "source": [
    "## Data ETL"
   ]
  },
  {
   "cell_type": "markdown",
   "metadata": {},
   "source": [
    "### Extraction"
   ]
  },
  {
   "cell_type": "markdown",
   "metadata": {},
   "source": [
    "Our first step was to import our necessary libaries and then download the data file."
   ]
  },
  {
   "cell_type": "code",
   "execution_count": 1,
   "metadata": {},
   "outputs": [],
   "source": [
    "import pandas as pd"
   ]
  },
  {
   "cell_type": "code",
   "execution_count": 2,
   "metadata": {},
   "outputs": [
    {
     "name": "stderr",
     "output_type": "stream",
     "text": [
      "'head' is not recognized as an internal or external command,\n",
      "operable program or batch file.\n"
     ]
    }
   ],
   "source": [
    "!head ../FinalDSTutorial/Stop_and_Search__Field_Interviews_.csv"
   ]
  },
  {
   "cell_type": "markdown",
   "metadata": {},
   "source": [
    "### Load"
   ]
  },
  {
   "cell_type": "code",
   "execution_count": 3,
   "metadata": {},
   "outputs": [
    {
     "name": "stderr",
     "output_type": "stream",
     "text": [
      "C:\\Users\\Isabe\\Documents\\Anaconda3\\lib\\site-packages\\IPython\\core\\interactiveshell.py:3058: DtypeWarning: Columns (1,7,28) have mixed types. Specify dtype option on import or set low_memory=False.\n",
      "  interactivity=interactivity, compiler=compiler, result=result)\n"
     ]
    },
    {
     "data": {
      "text/html": [
       "<div>\n",
       "<style scoped>\n",
       "    .dataframe tbody tr th:only-of-type {\n",
       "        vertical-align: middle;\n",
       "    }\n",
       "\n",
       "    .dataframe tbody tr th {\n",
       "        vertical-align: top;\n",
       "    }\n",
       "\n",
       "    .dataframe thead th {\n",
       "        text-align: right;\n",
       "    }\n",
       "</style>\n",
       "<table border=\"1\" class=\"dataframe\">\n",
       "  <thead>\n",
       "    <tr style=\"text-align: right;\">\n",
       "      <th></th>\n",
       "      <th>FieldInterviewID</th>\n",
       "      <th>NOPD_Item</th>\n",
       "      <th>EventDate</th>\n",
       "      <th>District</th>\n",
       "      <th>Zone</th>\n",
       "      <th>OfficerAssignment</th>\n",
       "      <th>StopDescription</th>\n",
       "      <th>ActionsTaken</th>\n",
       "      <th>VehicleYear</th>\n",
       "      <th>VehicleMake</th>\n",
       "      <th>...</th>\n",
       "      <th>SubjectWeight</th>\n",
       "      <th>SubjectEyeColor</th>\n",
       "      <th>SubjectHairColor</th>\n",
       "      <th>SubjectDriverLicState</th>\n",
       "      <th>CreatedDateTime</th>\n",
       "      <th>LastModifiedDateTime</th>\n",
       "      <th>Longitude</th>\n",
       "      <th>Latitude</th>\n",
       "      <th>Zip</th>\n",
       "      <th>BlockAddress</th>\n",
       "    </tr>\n",
       "  </thead>\n",
       "  <tbody>\n",
       "    <tr>\n",
       "      <td>0</td>\n",
       "      <td>17415</td>\n",
       "      <td>NaN</td>\n",
       "      <td>01/01/2010 01:11:00 AM</td>\n",
       "      <td>6</td>\n",
       "      <td>E</td>\n",
       "      <td>6th  District</td>\n",
       "      <td>TRAFFIC VIOLATION</td>\n",
       "      <td>NaN</td>\n",
       "      <td>2005.0</td>\n",
       "      <td>DODGE</td>\n",
       "      <td>...</td>\n",
       "      <td>160.0</td>\n",
       "      <td>Brown</td>\n",
       "      <td>Black</td>\n",
       "      <td>LA</td>\n",
       "      <td>01/01/2010 01:26:26 AM</td>\n",
       "      <td>NaN</td>\n",
       "      <td>0.0</td>\n",
       "      <td>0.0</td>\n",
       "      <td>NaN</td>\n",
       "      <td>NaN</td>\n",
       "    </tr>\n",
       "    <tr>\n",
       "      <td>1</td>\n",
       "      <td>17416</td>\n",
       "      <td>NaN</td>\n",
       "      <td>01/01/2010 02:06:00 AM</td>\n",
       "      <td>5</td>\n",
       "      <td>D</td>\n",
       "      <td>5th  District</td>\n",
       "      <td>CALL FOR SERVICE</td>\n",
       "      <td>NaN</td>\n",
       "      <td>NaN</td>\n",
       "      <td>NaN</td>\n",
       "      <td>...</td>\n",
       "      <td>140.0</td>\n",
       "      <td>Brown</td>\n",
       "      <td>Black</td>\n",
       "      <td>NaN</td>\n",
       "      <td>01/01/2010 02:27:38 AM</td>\n",
       "      <td>NaN</td>\n",
       "      <td>0.0</td>\n",
       "      <td>0.0</td>\n",
       "      <td>NaN</td>\n",
       "      <td>NaN</td>\n",
       "    </tr>\n",
       "    <tr>\n",
       "      <td>2</td>\n",
       "      <td>17416</td>\n",
       "      <td>NaN</td>\n",
       "      <td>01/01/2010 02:06:00 AM</td>\n",
       "      <td>5</td>\n",
       "      <td>D</td>\n",
       "      <td>5th  District</td>\n",
       "      <td>CALL FOR SERVICE</td>\n",
       "      <td>NaN</td>\n",
       "      <td>NaN</td>\n",
       "      <td>NaN</td>\n",
       "      <td>...</td>\n",
       "      <td>145.0</td>\n",
       "      <td>Brown</td>\n",
       "      <td>Black</td>\n",
       "      <td>NaN</td>\n",
       "      <td>01/01/2010 02:27:38 AM</td>\n",
       "      <td>NaN</td>\n",
       "      <td>0.0</td>\n",
       "      <td>0.0</td>\n",
       "      <td>NaN</td>\n",
       "      <td>NaN</td>\n",
       "    </tr>\n",
       "    <tr>\n",
       "      <td>3</td>\n",
       "      <td>17416</td>\n",
       "      <td>NaN</td>\n",
       "      <td>01/01/2010 02:06:00 AM</td>\n",
       "      <td>5</td>\n",
       "      <td>D</td>\n",
       "      <td>5th  District</td>\n",
       "      <td>CALL FOR SERVICE</td>\n",
       "      <td>NaN</td>\n",
       "      <td>NaN</td>\n",
       "      <td>NaN</td>\n",
       "      <td>...</td>\n",
       "      <td>140.0</td>\n",
       "      <td>Brown</td>\n",
       "      <td>Black</td>\n",
       "      <td>NaN</td>\n",
       "      <td>01/01/2010 02:27:38 AM</td>\n",
       "      <td>NaN</td>\n",
       "      <td>0.0</td>\n",
       "      <td>0.0</td>\n",
       "      <td>NaN</td>\n",
       "      <td>NaN</td>\n",
       "    </tr>\n",
       "    <tr>\n",
       "      <td>4</td>\n",
       "      <td>17416</td>\n",
       "      <td>NaN</td>\n",
       "      <td>01/01/2010 02:06:00 AM</td>\n",
       "      <td>5</td>\n",
       "      <td>D</td>\n",
       "      <td>5th  District</td>\n",
       "      <td>CALL FOR SERVICE</td>\n",
       "      <td>NaN</td>\n",
       "      <td>NaN</td>\n",
       "      <td>NaN</td>\n",
       "      <td>...</td>\n",
       "      <td>140.0</td>\n",
       "      <td>Brown</td>\n",
       "      <td>Black</td>\n",
       "      <td>NaN</td>\n",
       "      <td>01/01/2010 02:27:38 AM</td>\n",
       "      <td>NaN</td>\n",
       "      <td>0.0</td>\n",
       "      <td>0.0</td>\n",
       "      <td>NaN</td>\n",
       "      <td>NaN</td>\n",
       "    </tr>\n",
       "  </tbody>\n",
       "</table>\n",
       "<p>5 rows × 29 columns</p>\n",
       "</div>"
      ],
      "text/plain": [
       "   FieldInterviewID NOPD_Item               EventDate  District Zone  \\\n",
       "0             17415       NaN  01/01/2010 01:11:00 AM         6    E   \n",
       "1             17416       NaN  01/01/2010 02:06:00 AM         5    D   \n",
       "2             17416       NaN  01/01/2010 02:06:00 AM         5    D   \n",
       "3             17416       NaN  01/01/2010 02:06:00 AM         5    D   \n",
       "4             17416       NaN  01/01/2010 02:06:00 AM         5    D   \n",
       "\n",
       "  OfficerAssignment    StopDescription ActionsTaken  VehicleYear VehicleMake  \\\n",
       "0     6th  District  TRAFFIC VIOLATION          NaN       2005.0       DODGE   \n",
       "1     5th  District   CALL FOR SERVICE          NaN          NaN         NaN   \n",
       "2     5th  District   CALL FOR SERVICE          NaN          NaN         NaN   \n",
       "3     5th  District   CALL FOR SERVICE          NaN          NaN         NaN   \n",
       "4     5th  District   CALL FOR SERVICE          NaN          NaN         NaN   \n",
       "\n",
       "   ... SubjectWeight SubjectEyeColor SubjectHairColor  SubjectDriverLicState  \\\n",
       "0  ...         160.0           Brown            Black                     LA   \n",
       "1  ...         140.0           Brown            Black                    NaN   \n",
       "2  ...         145.0           Brown            Black                    NaN   \n",
       "3  ...         140.0           Brown            Black                    NaN   \n",
       "4  ...         140.0           Brown            Black                    NaN   \n",
       "\n",
       "          CreatedDateTime LastModifiedDateTime  Longitude Latitude  Zip  \\\n",
       "0  01/01/2010 01:26:26 AM                  NaN        0.0      0.0  NaN   \n",
       "1  01/01/2010 02:27:38 AM                  NaN        0.0      0.0  NaN   \n",
       "2  01/01/2010 02:27:38 AM                  NaN        0.0      0.0  NaN   \n",
       "3  01/01/2010 02:27:38 AM                  NaN        0.0      0.0  NaN   \n",
       "4  01/01/2010 02:27:38 AM                  NaN        0.0      0.0  NaN   \n",
       "\n",
       "   BlockAddress  \n",
       "0           NaN  \n",
       "1           NaN  \n",
       "2           NaN  \n",
       "3           NaN  \n",
       "4           NaN  \n",
       "\n",
       "[5 rows x 29 columns]"
      ]
     },
     "execution_count": 3,
     "metadata": {},
     "output_type": "execute_result"
    }
   ],
   "source": [
    "df = pd.read_csv(\"../FinalDSTutorial/Stop_and_Search__Field_Interviews_.csv\")\n",
    "df.head()"
   ]
  },
  {
   "cell_type": "markdown",
   "metadata": {},
   "source": [
    "As you can see, our original dataframe had some messy information (for example, multiple entries for a single interviw"
   ]
  },
  {
   "cell_type": "code",
   "execution_count": null,
   "metadata": {},
   "outputs": [],
   "source": []
  }
 ],
 "metadata": {
  "kernelspec": {
   "display_name": "Python 3",
   "language": "python",
   "name": "python3"
  },
  "language_info": {
   "codemirror_mode": {
    "name": "ipython",
    "version": 3
   },
   "file_extension": ".py",
   "mimetype": "text/x-python",
   "name": "python",
   "nbconvert_exporter": "python",
   "pygments_lexer": "ipython3",
   "version": "3.7.4"
  }
 },
 "nbformat": 4,
 "nbformat_minor": 2
}
