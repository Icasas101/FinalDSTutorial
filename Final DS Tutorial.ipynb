{
 "cells": [
  {
   "cell_type": "markdown",
   "metadata": {},
   "source": [
    "https://icasas101.github.io/FinalDSTutorial/ <<<<< This is the link to our website!"
   ]
  },
  {
   "cell_type": "markdown",
   "metadata": {},
   "source": [
    "# Identifying Bias in the NOPD"
   ]
  },
  {
   "cell_type": "markdown",
   "metadata": {},
   "source": [
    "By Josh Kellner and Isabella Casas"
   ]
  },
  {
   "cell_type": "markdown",
   "metadata": {},
   "source": [
    "CMPS 3160 - Introduction to Data Science - Professor Mattei"
   ]
  },
  {
   "cell_type": "markdown",
   "metadata": {},
   "source": [
    "## Introduction"
   ]
  },
  {
   "cell_type": "markdown",
   "metadata": {},
   "source": [
    "### Background"
   ]
  },
  {
   "cell_type": "markdown",
   "metadata": {},
   "source": [
    "The issue of police brutality against black people in our country has, of course, been as widely discussed as ever over the last year because of the widespread abundance protests against it all over the country. This issue has by no means only been brought up around this time when many people are reckoning with it, but the ability of social media to spread information and set trends so quickly has given the issue a major spotlight. \n",
    "\n",
    "Some of the questions we would like to answer are as follows:\n",
    "1. Are police more likely to question, search, and/or take more severe actions against people of color?\n",
    "2. Could gender have an effect on how likely someone is to be questioned/searched?\n",
    "3. Could police be biased against people of certain classes?\n",
    "\n",
    "In an ideal situation, any unfair biases that are discovered by this project will be used to determine a change in or create policy that would correct these unethical discriminatory actions and prompt city officials to put that policy in place. At the moment, we are focusing on New Orleans but a possible expansion, given that the datasets would be accessible, could be to compare the conclusions that we draw to conclusions drawn from other cities’ data."
   ]
  },
  {
   "cell_type": "markdown",
   "metadata": {},
   "source": [
    "### About our dataset"
   ]
  },
  {
   "cell_type": "markdown",
   "metadata": {},
   "source": [
    "Link to dataset: https://data.nola.gov/Public-Safety-and-Preparedness/Stop-and-Search-Field-Interviews-/kitu-f4uy/data"
   ]
  },
  {
   "cell_type": "markdown",
   "metadata": {},
   "source": [
    "For our Final Tutorial, we have partnered up to analyze a dataset called “Stop and Search (Field Interviews).” It is filled with data regarding instances of people being questioned by the New Orleans Police Department. Some of the information about these interviews includes when and where it happened, the officer conducting the questioning and potential search, a description of the individual being searched including age, gender, race, height and weight, the reason the interview was conducted, actions taken, etc. We plan to analyze this information in such a way that one can use our analysis to learn about any biases that NOPD has, or a lack thereof, and how these biases manifest themselves. We expect to specifically look at relationships between frequencies of interviews and searches and descriptors of the subjects of these interviews and searches as well as the relationships between the severity of the actions taken by the police and the descriptors of the subjects. The dataset provides information about the car that the subject was driving, if they were driving one, which will be another variable that can shed light on biases."
   ]
  },
  {
   "cell_type": "markdown",
   "metadata": {},
   "source": [
    "### Collaboration plan"
   ]
  },
  {
   "cell_type": "markdown",
   "metadata": {},
   "source": [
    "In terms of a collaboration plan, we have a Github repository set up to keep track of our most up to date work as well as each update. Every two weeks we plan to meet on Zoom to divide specific chunks of work to be done. In these meetings we will review the work we have done since the last meeting and work through things that we couldn’t complete individually, together. "
   ]
  },
  {
   "cell_type": "markdown",
   "metadata": {},
   "source": [
    "## Data ETL"
   ]
  },
  {
   "cell_type": "markdown",
   "metadata": {},
   "source": [
    "### Extraction"
   ]
  },
  {
   "cell_type": "markdown",
   "metadata": {},
   "source": [
    "Our first step was to import our necessary libaries and then download the data files."
   ]
  },
  {
   "cell_type": "code",
   "execution_count": 66,
   "metadata": {},
   "outputs": [],
   "source": [
    "import pandas as pd\n",
    "import numpy as np"
   ]
  },
  {
   "cell_type": "code",
   "execution_count": 67,
   "metadata": {},
   "outputs": [
    {
     "name": "stderr",
     "output_type": "stream",
     "text": [
      "'head' is not recognized as an internal or external command,\n",
      "operable program or batch file.\n",
      "'head' is not recognized as an internal or external command,\n",
      "operable program or batch file.\n"
     ]
    }
   ],
   "source": [
    "!head ../FinalDSTutorial/Stop_and_Search__Field_Interviews_.csv\n",
    "!head ../FinalDSTutorial/Neighborhood profiles data tables.xlsx"
   ]
  },
  {
   "cell_type": "markdown",
   "metadata": {},
   "source": [
    "### Load"
   ]
  },
  {
   "cell_type": "markdown",
   "metadata": {},
   "source": [
    "This dataset will contain information regarding the genders of people living in New Orleans from 2000 and 2014-2018."
   ]
  },
  {
   "cell_type": "code",
   "execution_count": 68,
   "metadata": {},
   "outputs": [
    {
     "data": {
      "text/html": [
       "<div>\n",
       "<style scoped>\n",
       "    .dataframe tbody tr th:only-of-type {\n",
       "        vertical-align: middle;\n",
       "    }\n",
       "\n",
       "    .dataframe tbody tr th {\n",
       "        vertical-align: top;\n",
       "    }\n",
       "\n",
       "    .dataframe thead th {\n",
       "        text-align: right;\n",
       "    }\n",
       "</style>\n",
       "<table border=\"1\" class=\"dataframe\">\n",
       "  <thead>\n",
       "    <tr style=\"text-align: right;\">\n",
       "      <th></th>\n",
       "      <th>Female2000</th>\n",
       "      <th>Female2014-2018</th>\n",
       "      <th>FemaleMOE</th>\n",
       "      <th>Blank</th>\n",
       "      <th>Male2000</th>\n",
       "      <th>Male2014-2018</th>\n",
       "      <th>MaleMOE</th>\n",
       "    </tr>\n",
       "    <tr>\n",
       "      <th>Location</th>\n",
       "      <th></th>\n",
       "      <th></th>\n",
       "      <th></th>\n",
       "      <th></th>\n",
       "      <th></th>\n",
       "      <th></th>\n",
       "      <th></th>\n",
       "    </tr>\n",
       "  </thead>\n",
       "  <tbody>\n",
       "    <tr>\n",
       "      <td>Algiers Point</td>\n",
       "      <td>0.520</td>\n",
       "      <td>0.503</td>\n",
       "      <td>0.049</td>\n",
       "      <td>NaN</td>\n",
       "      <td>0.480</td>\n",
       "      <td>0.497</td>\n",
       "      <td>0.033</td>\n",
       "    </tr>\n",
       "    <tr>\n",
       "      <td>Audubon</td>\n",
       "      <td>0.530</td>\n",
       "      <td>0.534</td>\n",
       "      <td>0.022</td>\n",
       "      <td>NaN</td>\n",
       "      <td>0.470</td>\n",
       "      <td>0.466</td>\n",
       "      <td>0.017</td>\n",
       "    </tr>\n",
       "    <tr>\n",
       "      <td>B.W. Cooper</td>\n",
       "      <td>0.604</td>\n",
       "      <td>0.515</td>\n",
       "      <td>0.048</td>\n",
       "      <td>NaN</td>\n",
       "      <td>0.396</td>\n",
       "      <td>0.485</td>\n",
       "      <td>0.063</td>\n",
       "    </tr>\n",
       "    <tr>\n",
       "      <td>Bayou St. John</td>\n",
       "      <td>0.532</td>\n",
       "      <td>0.525</td>\n",
       "      <td>0.030</td>\n",
       "      <td>NaN</td>\n",
       "      <td>0.468</td>\n",
       "      <td>0.475</td>\n",
       "      <td>0.041</td>\n",
       "    </tr>\n",
       "    <tr>\n",
       "      <td>Behrman</td>\n",
       "      <td>0.539</td>\n",
       "      <td>0.582</td>\n",
       "      <td>0.028</td>\n",
       "      <td>NaN</td>\n",
       "      <td>0.461</td>\n",
       "      <td>0.418</td>\n",
       "      <td>0.036</td>\n",
       "    </tr>\n",
       "    <tr>\n",
       "      <td>...</td>\n",
       "      <td>...</td>\n",
       "      <td>...</td>\n",
       "      <td>...</td>\n",
       "      <td>...</td>\n",
       "      <td>...</td>\n",
       "      <td>...</td>\n",
       "      <td>...</td>\n",
       "    </tr>\n",
       "    <tr>\n",
       "      <td>West Lake Forest</td>\n",
       "      <td>0.551</td>\n",
       "      <td>0.537</td>\n",
       "      <td>0.023</td>\n",
       "      <td>NaN</td>\n",
       "      <td>0.449</td>\n",
       "      <td>0.463</td>\n",
       "      <td>0.044</td>\n",
       "    </tr>\n",
       "    <tr>\n",
       "      <td>West Riverside</td>\n",
       "      <td>0.535</td>\n",
       "      <td>0.518</td>\n",
       "      <td>0.029</td>\n",
       "      <td>NaN</td>\n",
       "      <td>0.465</td>\n",
       "      <td>0.482</td>\n",
       "      <td>0.037</td>\n",
       "    </tr>\n",
       "    <tr>\n",
       "      <td>Whitney</td>\n",
       "      <td>0.545</td>\n",
       "      <td>0.518</td>\n",
       "      <td>0.034</td>\n",
       "      <td>NaN</td>\n",
       "      <td>0.455</td>\n",
       "      <td>0.482</td>\n",
       "      <td>0.128</td>\n",
       "    </tr>\n",
       "    <tr>\n",
       "      <td>New Orleans</td>\n",
       "      <td>0.531</td>\n",
       "      <td>0.524</td>\n",
       "      <td>0.000</td>\n",
       "      <td>NaN</td>\n",
       "      <td>0.469</td>\n",
       "      <td>0.476</td>\n",
       "      <td>0.000</td>\n",
       "    </tr>\n",
       "    <tr>\n",
       "      <td>United States</td>\n",
       "      <td>0.509</td>\n",
       "      <td>0.508</td>\n",
       "      <td>0.000</td>\n",
       "      <td>NaN</td>\n",
       "      <td>0.491</td>\n",
       "      <td>0.492</td>\n",
       "      <td>0.000</td>\n",
       "    </tr>\n",
       "  </tbody>\n",
       "</table>\n",
       "<p>74 rows × 7 columns</p>\n",
       "</div>"
      ],
      "text/plain": [
       "                  Female2000  Female2014-2018  FemaleMOE  Blank  Male2000  \\\n",
       "Location                                                                    \n",
       "Algiers Point          0.520            0.503      0.049    NaN     0.480   \n",
       "Audubon                0.530            0.534      0.022    NaN     0.470   \n",
       "B.W. Cooper            0.604            0.515      0.048    NaN     0.396   \n",
       "Bayou St. John         0.532            0.525      0.030    NaN     0.468   \n",
       "Behrman                0.539            0.582      0.028    NaN     0.461   \n",
       "...                      ...              ...        ...    ...       ...   \n",
       "West Lake Forest       0.551            0.537      0.023    NaN     0.449   \n",
       "West Riverside         0.535            0.518      0.029    NaN     0.465   \n",
       "Whitney                0.545            0.518      0.034    NaN     0.455   \n",
       "New Orleans            0.531            0.524      0.000    NaN     0.469   \n",
       "United States          0.509            0.508      0.000    NaN     0.491   \n",
       "\n",
       "                  Male2014-2018  MaleMOE  \n",
       "Location                                  \n",
       "Algiers Point             0.497    0.033  \n",
       "Audubon                   0.466    0.017  \n",
       "B.W. Cooper               0.485    0.063  \n",
       "Bayou St. John            0.475    0.041  \n",
       "Behrman                   0.418    0.036  \n",
       "...                         ...      ...  \n",
       "West Lake Forest          0.463    0.044  \n",
       "West Riverside            0.482    0.037  \n",
       "Whitney                   0.482    0.128  \n",
       "New Orleans               0.476    0.000  \n",
       "United States             0.492    0.000  \n",
       "\n",
       "[74 rows x 7 columns]"
      ]
     },
     "metadata": {},
     "output_type": "display_data"
    },
    {
     "data": {
      "text/plain": [
       "Female2000         float64\n",
       "Female2014-2018    float64\n",
       "FemaleMOE          float64\n",
       "Blank              float64\n",
       "Male2000           float64\n",
       "Male2014-2018      float64\n",
       "MaleMOE            float64\n",
       "dtype: object"
      ]
     },
     "metadata": {},
     "output_type": "display_data"
    }
   ],
   "source": [
    "gender_df = pd.read_excel(\"../FinalDSTutorial/Neighborhood profiles data tables.xlsx\",\n",
    "                          sheet_name='Table 2',\n",
    "                          names=['Location', 'Female2000', 'Female2014-2018', 'FemaleMOE', 'Blank', 'Male2000', 'Male2014-2018', 'MaleMOE'],\n",
    "                          header=None)\n",
    "gender_df = gender_df.dropna(how='all')\n",
    "gender_df = gender_df.drop([6, 8, 10, 11])\n",
    "gender_df = gender_df.set_index('Location')\n",
    "gender_df = gender_df.replace('NaN%', np.nan)\n",
    "gender_df = gender_df.astype({'Female2000': 'float64', 'Female2014-2018': 'float64', 'FemaleMOE': 'float64'})\n",
    "display(gender_df)\n",
    "display(gender_df.dtypes)"
   ]
  },
  {
   "cell_type": "markdown",
   "metadata": {},
   "source": [
    "This dataset includes information regarding individuals who were stopped by the NOPD. "
   ]
  },
  {
   "cell_type": "code",
   "execution_count": 69,
   "metadata": {},
   "outputs": [
    {
     "name": "stderr",
     "output_type": "stream",
     "text": [
      "C:\\Users\\Isabe\\Documents\\Anaconda3\\lib\\site-packages\\IPython\\core\\interactiveshell.py:3058: DtypeWarning: Columns (1,7,28) have mixed types. Specify dtype option on import or set low_memory=False.\n",
      "  interactivity=interactivity, compiler=compiler, result=result)\n"
     ]
    },
    {
     "data": {
      "text/plain": [
       "FieldInterviewID           int32\n",
       "NOPD_Item                 object\n",
       "EventDate                 object\n",
       "District                   int64\n",
       "Zone                      object\n",
       "OfficerAssignment         object\n",
       "StopDescription           object\n",
       "ActionsTaken              object\n",
       "VehicleYear              float64\n",
       "VehicleMake               object\n",
       "VehicleModel              object\n",
       "VehicleStyle              object\n",
       "VehicleColor              object\n",
       "SubjectID                float64\n",
       "SubjectRace               object\n",
       "SubjectGender             object\n",
       "SubjectAge               float64\n",
       "SubjectHasPhotoID         object\n",
       "SubjectHeight            float64\n",
       "SubjectWeight            float64\n",
       "SubjectEyeColor           object\n",
       "SubjectHairColor          object\n",
       "SubjectDriverLicState     object\n",
       "CreatedDateTime           object\n",
       "LastModifiedDateTime      object\n",
       "Longitude                float64\n",
       "Latitude                 float64\n",
       "Zip                      float64\n",
       "BlockAddress              object\n",
       "dtype: object"
      ]
     },
     "metadata": {},
     "output_type": "display_data"
    }
   ],
   "source": [
    "df = pd.read_csv(\"../FinalDSTutorial/Stop_and_Search__Field_Interviews_.csv\", dtype={'FieldInterviewID': int})\n",
    "df.head()\n",
    "display(df.dtypes)"
   ]
  },
  {
   "cell_type": "markdown",
   "metadata": {},
   "source": [
    "### Transform"
   ]
  },
  {
   "cell_type": "markdown",
   "metadata": {},
   "source": [
    "As you can see, our original dataframe had some messy information, so our next step was to clean it up. First, we dropped any columns that were not necessary for our analysis."
   ]
  },
  {
   "cell_type": "code",
   "execution_count": 70,
   "metadata": {},
   "outputs": [
    {
     "data": {
      "text/html": [
       "<div>\n",
       "<style scoped>\n",
       "    .dataframe tbody tr th:only-of-type {\n",
       "        vertical-align: middle;\n",
       "    }\n",
       "\n",
       "    .dataframe tbody tr th {\n",
       "        vertical-align: top;\n",
       "    }\n",
       "\n",
       "    .dataframe thead th {\n",
       "        text-align: right;\n",
       "    }\n",
       "</style>\n",
       "<table border=\"1\" class=\"dataframe\">\n",
       "  <thead>\n",
       "    <tr style=\"text-align: right;\">\n",
       "      <th></th>\n",
       "      <th>FieldInterviewID</th>\n",
       "      <th>EventDate</th>\n",
       "      <th>District</th>\n",
       "      <th>Zone</th>\n",
       "      <th>OfficerAssignment</th>\n",
       "      <th>StopDescription</th>\n",
       "      <th>ActionsTaken</th>\n",
       "      <th>SubjectID</th>\n",
       "      <th>SubjectRace</th>\n",
       "      <th>SubjectGender</th>\n",
       "      <th>SubjectAge</th>\n",
       "      <th>SubjectHasPhotoID</th>\n",
       "      <th>SubjectDriverLicState</th>\n",
       "      <th>CreatedDateTime</th>\n",
       "      <th>LastModifiedDateTime</th>\n",
       "      <th>Longitude</th>\n",
       "      <th>Latitude</th>\n",
       "      <th>Zip</th>\n",
       "      <th>BlockAddress</th>\n",
       "    </tr>\n",
       "  </thead>\n",
       "  <tbody>\n",
       "    <tr>\n",
       "      <td>0</td>\n",
       "      <td>17415</td>\n",
       "      <td>01/01/2010 01:11:00 AM</td>\n",
       "      <td>6</td>\n",
       "      <td>E</td>\n",
       "      <td>6th  District</td>\n",
       "      <td>TRAFFIC VIOLATION</td>\n",
       "      <td>NaN</td>\n",
       "      <td>20465.0</td>\n",
       "      <td>BLACK</td>\n",
       "      <td>FEMALE</td>\n",
       "      <td>26.0</td>\n",
       "      <td>Yes</td>\n",
       "      <td>LA</td>\n",
       "      <td>01/01/2010 01:26:26 AM</td>\n",
       "      <td>NaN</td>\n",
       "      <td>0.0</td>\n",
       "      <td>0.0</td>\n",
       "      <td>NaN</td>\n",
       "      <td>NaN</td>\n",
       "    </tr>\n",
       "    <tr>\n",
       "      <td>1</td>\n",
       "      <td>17416</td>\n",
       "      <td>01/01/2010 02:06:00 AM</td>\n",
       "      <td>5</td>\n",
       "      <td>D</td>\n",
       "      <td>5th  District</td>\n",
       "      <td>CALL FOR SERVICE</td>\n",
       "      <td>NaN</td>\n",
       "      <td>20466.0</td>\n",
       "      <td>BLACK</td>\n",
       "      <td>MALE</td>\n",
       "      <td>17.0</td>\n",
       "      <td>No</td>\n",
       "      <td>NaN</td>\n",
       "      <td>01/01/2010 02:27:38 AM</td>\n",
       "      <td>NaN</td>\n",
       "      <td>0.0</td>\n",
       "      <td>0.0</td>\n",
       "      <td>NaN</td>\n",
       "      <td>NaN</td>\n",
       "    </tr>\n",
       "    <tr>\n",
       "      <td>2</td>\n",
       "      <td>17416</td>\n",
       "      <td>01/01/2010 02:06:00 AM</td>\n",
       "      <td>5</td>\n",
       "      <td>D</td>\n",
       "      <td>5th  District</td>\n",
       "      <td>CALL FOR SERVICE</td>\n",
       "      <td>NaN</td>\n",
       "      <td>20467.0</td>\n",
       "      <td>BLACK</td>\n",
       "      <td>MALE</td>\n",
       "      <td>18.0</td>\n",
       "      <td>No</td>\n",
       "      <td>NaN</td>\n",
       "      <td>01/01/2010 02:27:38 AM</td>\n",
       "      <td>NaN</td>\n",
       "      <td>0.0</td>\n",
       "      <td>0.0</td>\n",
       "      <td>NaN</td>\n",
       "      <td>NaN</td>\n",
       "    </tr>\n",
       "    <tr>\n",
       "      <td>3</td>\n",
       "      <td>17416</td>\n",
       "      <td>01/01/2010 02:06:00 AM</td>\n",
       "      <td>5</td>\n",
       "      <td>D</td>\n",
       "      <td>5th  District</td>\n",
       "      <td>CALL FOR SERVICE</td>\n",
       "      <td>NaN</td>\n",
       "      <td>20468.0</td>\n",
       "      <td>BLACK</td>\n",
       "      <td>MALE</td>\n",
       "      <td>18.0</td>\n",
       "      <td>No</td>\n",
       "      <td>NaN</td>\n",
       "      <td>01/01/2010 02:27:38 AM</td>\n",
       "      <td>NaN</td>\n",
       "      <td>0.0</td>\n",
       "      <td>0.0</td>\n",
       "      <td>NaN</td>\n",
       "      <td>NaN</td>\n",
       "    </tr>\n",
       "    <tr>\n",
       "      <td>4</td>\n",
       "      <td>17416</td>\n",
       "      <td>01/01/2010 02:06:00 AM</td>\n",
       "      <td>5</td>\n",
       "      <td>D</td>\n",
       "      <td>5th  District</td>\n",
       "      <td>CALL FOR SERVICE</td>\n",
       "      <td>NaN</td>\n",
       "      <td>20469.0</td>\n",
       "      <td>BLACK</td>\n",
       "      <td>MALE</td>\n",
       "      <td>30.0</td>\n",
       "      <td>No</td>\n",
       "      <td>NaN</td>\n",
       "      <td>01/01/2010 02:27:38 AM</td>\n",
       "      <td>NaN</td>\n",
       "      <td>0.0</td>\n",
       "      <td>0.0</td>\n",
       "      <td>NaN</td>\n",
       "      <td>NaN</td>\n",
       "    </tr>\n",
       "  </tbody>\n",
       "</table>\n",
       "</div>"
      ],
      "text/plain": [
       "   FieldInterviewID               EventDate  District Zone OfficerAssignment  \\\n",
       "0             17415  01/01/2010 01:11:00 AM         6    E     6th  District   \n",
       "1             17416  01/01/2010 02:06:00 AM         5    D     5th  District   \n",
       "2             17416  01/01/2010 02:06:00 AM         5    D     5th  District   \n",
       "3             17416  01/01/2010 02:06:00 AM         5    D     5th  District   \n",
       "4             17416  01/01/2010 02:06:00 AM         5    D     5th  District   \n",
       "\n",
       "     StopDescription ActionsTaken  SubjectID SubjectRace SubjectGender  \\\n",
       "0  TRAFFIC VIOLATION          NaN    20465.0       BLACK        FEMALE   \n",
       "1   CALL FOR SERVICE          NaN    20466.0       BLACK          MALE   \n",
       "2   CALL FOR SERVICE          NaN    20467.0       BLACK          MALE   \n",
       "3   CALL FOR SERVICE          NaN    20468.0       BLACK          MALE   \n",
       "4   CALL FOR SERVICE          NaN    20469.0       BLACK          MALE   \n",
       "\n",
       "   SubjectAge SubjectHasPhotoID SubjectDriverLicState         CreatedDateTime  \\\n",
       "0        26.0               Yes                    LA  01/01/2010 01:26:26 AM   \n",
       "1        17.0                No                   NaN  01/01/2010 02:27:38 AM   \n",
       "2        18.0                No                   NaN  01/01/2010 02:27:38 AM   \n",
       "3        18.0                No                   NaN  01/01/2010 02:27:38 AM   \n",
       "4        30.0                No                   NaN  01/01/2010 02:27:38 AM   \n",
       "\n",
       "  LastModifiedDateTime  Longitude  Latitude  Zip BlockAddress  \n",
       "0                  NaN        0.0       0.0  NaN          NaN  \n",
       "1                  NaN        0.0       0.0  NaN          NaN  \n",
       "2                  NaN        0.0       0.0  NaN          NaN  \n",
       "3                  NaN        0.0       0.0  NaN          NaN  \n",
       "4                  NaN        0.0       0.0  NaN          NaN  "
      ]
     },
     "execution_count": 70,
     "metadata": {},
     "output_type": "execute_result"
    }
   ],
   "source": [
    "# DELETE THIS COMMENT BEFORE TURNING IN: let me know if any of these columns SHOULD NOT be dropped.\n",
    "dropped_df = df.drop(columns=['NOPD_Item', 'VehicleYear', 'VehicleMake', 'VehicleModel', 'VehicleStyle', 'VehicleColor', 'SubjectWeight', 'SubjectHeight', 'SubjectEyeColor', 'SubjectHairColor'])\n",
    "dropped_df.head()"
   ]
  },
  {
   "cell_type": "markdown",
   "metadata": {},
   "source": [
    "Next, we changed our index to be both FieldInterviewID and SubjectID in order to not have multiple FieldInterview entries, but still be able to see how many individuals were involved in a single interview."
   ]
  },
  {
   "cell_type": "code",
   "execution_count": 71,
   "metadata": {},
   "outputs": [
    {
     "data": {
      "text/html": [
       "<div>\n",
       "<style scoped>\n",
       "    .dataframe tbody tr th:only-of-type {\n",
       "        vertical-align: middle;\n",
       "    }\n",
       "\n",
       "    .dataframe tbody tr th {\n",
       "        vertical-align: top;\n",
       "    }\n",
       "\n",
       "    .dataframe thead th {\n",
       "        text-align: right;\n",
       "    }\n",
       "</style>\n",
       "<table border=\"1\" class=\"dataframe\">\n",
       "  <thead>\n",
       "    <tr style=\"text-align: right;\">\n",
       "      <th></th>\n",
       "      <th></th>\n",
       "      <th>EventDate</th>\n",
       "      <th>District</th>\n",
       "      <th>Zone</th>\n",
       "      <th>OfficerAssignment</th>\n",
       "      <th>StopDescription</th>\n",
       "      <th>ActionsTaken</th>\n",
       "      <th>SubjectRace</th>\n",
       "      <th>SubjectGender</th>\n",
       "      <th>SubjectAge</th>\n",
       "      <th>SubjectHasPhotoID</th>\n",
       "      <th>SubjectDriverLicState</th>\n",
       "      <th>CreatedDateTime</th>\n",
       "      <th>LastModifiedDateTime</th>\n",
       "      <th>Longitude</th>\n",
       "      <th>Latitude</th>\n",
       "      <th>Zip</th>\n",
       "      <th>BlockAddress</th>\n",
       "    </tr>\n",
       "    <tr>\n",
       "      <th>FieldInterviewID</th>\n",
       "      <th>SubjectID</th>\n",
       "      <th></th>\n",
       "      <th></th>\n",
       "      <th></th>\n",
       "      <th></th>\n",
       "      <th></th>\n",
       "      <th></th>\n",
       "      <th></th>\n",
       "      <th></th>\n",
       "      <th></th>\n",
       "      <th></th>\n",
       "      <th></th>\n",
       "      <th></th>\n",
       "      <th></th>\n",
       "      <th></th>\n",
       "      <th></th>\n",
       "      <th></th>\n",
       "      <th></th>\n",
       "    </tr>\n",
       "  </thead>\n",
       "  <tbody>\n",
       "    <tr>\n",
       "      <td>17415</td>\n",
       "      <td>20465.0</td>\n",
       "      <td>01/01/2010 01:11:00 AM</td>\n",
       "      <td>6</td>\n",
       "      <td>E</td>\n",
       "      <td>6th  District</td>\n",
       "      <td>TRAFFIC VIOLATION</td>\n",
       "      <td>NaN</td>\n",
       "      <td>BLACK</td>\n",
       "      <td>FEMALE</td>\n",
       "      <td>26.0</td>\n",
       "      <td>Yes</td>\n",
       "      <td>LA</td>\n",
       "      <td>01/01/2010 01:26:26 AM</td>\n",
       "      <td>NaN</td>\n",
       "      <td>0.0</td>\n",
       "      <td>0.0</td>\n",
       "      <td>NaN</td>\n",
       "      <td>NaN</td>\n",
       "    </tr>\n",
       "    <tr>\n",
       "      <td rowspan=\"4\" valign=\"top\">17416</td>\n",
       "      <td>20466.0</td>\n",
       "      <td>01/01/2010 02:06:00 AM</td>\n",
       "      <td>5</td>\n",
       "      <td>D</td>\n",
       "      <td>5th  District</td>\n",
       "      <td>CALL FOR SERVICE</td>\n",
       "      <td>NaN</td>\n",
       "      <td>BLACK</td>\n",
       "      <td>MALE</td>\n",
       "      <td>17.0</td>\n",
       "      <td>No</td>\n",
       "      <td>NaN</td>\n",
       "      <td>01/01/2010 02:27:38 AM</td>\n",
       "      <td>NaN</td>\n",
       "      <td>0.0</td>\n",
       "      <td>0.0</td>\n",
       "      <td>NaN</td>\n",
       "      <td>NaN</td>\n",
       "    </tr>\n",
       "    <tr>\n",
       "      <td>20467.0</td>\n",
       "      <td>01/01/2010 02:06:00 AM</td>\n",
       "      <td>5</td>\n",
       "      <td>D</td>\n",
       "      <td>5th  District</td>\n",
       "      <td>CALL FOR SERVICE</td>\n",
       "      <td>NaN</td>\n",
       "      <td>BLACK</td>\n",
       "      <td>MALE</td>\n",
       "      <td>18.0</td>\n",
       "      <td>No</td>\n",
       "      <td>NaN</td>\n",
       "      <td>01/01/2010 02:27:38 AM</td>\n",
       "      <td>NaN</td>\n",
       "      <td>0.0</td>\n",
       "      <td>0.0</td>\n",
       "      <td>NaN</td>\n",
       "      <td>NaN</td>\n",
       "    </tr>\n",
       "    <tr>\n",
       "      <td>20468.0</td>\n",
       "      <td>01/01/2010 02:06:00 AM</td>\n",
       "      <td>5</td>\n",
       "      <td>D</td>\n",
       "      <td>5th  District</td>\n",
       "      <td>CALL FOR SERVICE</td>\n",
       "      <td>NaN</td>\n",
       "      <td>BLACK</td>\n",
       "      <td>MALE</td>\n",
       "      <td>18.0</td>\n",
       "      <td>No</td>\n",
       "      <td>NaN</td>\n",
       "      <td>01/01/2010 02:27:38 AM</td>\n",
       "      <td>NaN</td>\n",
       "      <td>0.0</td>\n",
       "      <td>0.0</td>\n",
       "      <td>NaN</td>\n",
       "      <td>NaN</td>\n",
       "    </tr>\n",
       "    <tr>\n",
       "      <td>20469.0</td>\n",
       "      <td>01/01/2010 02:06:00 AM</td>\n",
       "      <td>5</td>\n",
       "      <td>D</td>\n",
       "      <td>5th  District</td>\n",
       "      <td>CALL FOR SERVICE</td>\n",
       "      <td>NaN</td>\n",
       "      <td>BLACK</td>\n",
       "      <td>MALE</td>\n",
       "      <td>30.0</td>\n",
       "      <td>No</td>\n",
       "      <td>NaN</td>\n",
       "      <td>01/01/2010 02:27:38 AM</td>\n",
       "      <td>NaN</td>\n",
       "      <td>0.0</td>\n",
       "      <td>0.0</td>\n",
       "      <td>NaN</td>\n",
       "      <td>NaN</td>\n",
       "    </tr>\n",
       "  </tbody>\n",
       "</table>\n",
       "</div>"
      ],
      "text/plain": [
       "                                         EventDate  District Zone  \\\n",
       "FieldInterviewID SubjectID                                          \n",
       "17415            20465.0    01/01/2010 01:11:00 AM         6    E   \n",
       "17416            20466.0    01/01/2010 02:06:00 AM         5    D   \n",
       "                 20467.0    01/01/2010 02:06:00 AM         5    D   \n",
       "                 20468.0    01/01/2010 02:06:00 AM         5    D   \n",
       "                 20469.0    01/01/2010 02:06:00 AM         5    D   \n",
       "\n",
       "                           OfficerAssignment    StopDescription ActionsTaken  \\\n",
       "FieldInterviewID SubjectID                                                     \n",
       "17415            20465.0       6th  District  TRAFFIC VIOLATION          NaN   \n",
       "17416            20466.0       5th  District   CALL FOR SERVICE          NaN   \n",
       "                 20467.0       5th  District   CALL FOR SERVICE          NaN   \n",
       "                 20468.0       5th  District   CALL FOR SERVICE          NaN   \n",
       "                 20469.0       5th  District   CALL FOR SERVICE          NaN   \n",
       "\n",
       "                           SubjectRace SubjectGender  SubjectAge  \\\n",
       "FieldInterviewID SubjectID                                         \n",
       "17415            20465.0         BLACK        FEMALE        26.0   \n",
       "17416            20466.0         BLACK          MALE        17.0   \n",
       "                 20467.0         BLACK          MALE        18.0   \n",
       "                 20468.0         BLACK          MALE        18.0   \n",
       "                 20469.0         BLACK          MALE        30.0   \n",
       "\n",
       "                           SubjectHasPhotoID SubjectDriverLicState  \\\n",
       "FieldInterviewID SubjectID                                           \n",
       "17415            20465.0                 Yes                    LA   \n",
       "17416            20466.0                  No                   NaN   \n",
       "                 20467.0                  No                   NaN   \n",
       "                 20468.0                  No                   NaN   \n",
       "                 20469.0                  No                   NaN   \n",
       "\n",
       "                                   CreatedDateTime LastModifiedDateTime  \\\n",
       "FieldInterviewID SubjectID                                                \n",
       "17415            20465.0    01/01/2010 01:26:26 AM                  NaN   \n",
       "17416            20466.0    01/01/2010 02:27:38 AM                  NaN   \n",
       "                 20467.0    01/01/2010 02:27:38 AM                  NaN   \n",
       "                 20468.0    01/01/2010 02:27:38 AM                  NaN   \n",
       "                 20469.0    01/01/2010 02:27:38 AM                  NaN   \n",
       "\n",
       "                            Longitude  Latitude  Zip BlockAddress  \n",
       "FieldInterviewID SubjectID                                         \n",
       "17415            20465.0          0.0       0.0  NaN          NaN  \n",
       "17416            20466.0          0.0       0.0  NaN          NaN  \n",
       "                 20467.0          0.0       0.0  NaN          NaN  \n",
       "                 20468.0          0.0       0.0  NaN          NaN  \n",
       "                 20469.0          0.0       0.0  NaN          NaN  "
      ]
     },
     "execution_count": 71,
     "metadata": {},
     "output_type": "execute_result"
    }
   ],
   "source": [
    "df = dropped_df.set_index(['FieldInterviewID', 'SubjectID'])\n",
    "df.head()"
   ]
  },
  {
   "cell_type": "code",
   "execution_count": 72,
   "metadata": {},
   "outputs": [
    {
     "name": "stdout",
     "output_type": "stream",
     "text": [
      "[nan\n",
      " 'Stop Results: Physical Arrest;Subject Type: Passenger;Search Occurred: Yes;Search Types: Vehicle;Search Types: Pat-down;Search Types: Passenger(s);Legal Basises: Probable cause;Legal Basises: Plain view;Evidence Seized: Yes;Evidence Types: Weapon(s)'\n",
      " 'Stop Results: Citation Issued;Subject Type: Driver;Search Occurred: No;Legal Basises: Probable cause;Evidence Seized: No'\n",
      " ...\n",
      " 'Stop Results: No action taken;Subject Type: Driver;Search Occurred: Yes;Evidence Seized: No;Legal Basises: Incident to arrest;Legal Basises: Vehicle Exception;Consent To Search: No;Exit Vehicle: Yes;Search Type Pat Down: Yes;Consent Form Completed: No;StripBody Cavity Search: No'\n",
      " 'Stop Results: Summons Issued;Subject Type: Passenger;Search Occurred: Yes;Evidence Seized: Yes;Evidence Types: Other;Legal Basises: Incident to arrest;Legal Basises: Vehicle Exception;Consent To Search: No;Exit Vehicle: Yes;Search Type Pat Down: Yes;Consent Form Completed: No;StripBody Cavity Search: No'\n",
      " 'Stop Results: No action taken;Subject Type: Passenger;Search Occurred: Yes;Evidence Seized: No;Legal Basises: Incident to arrest;Legal Basises: Vehicle Exception;Consent To Search: No;Exit Vehicle: Yes;Search Type Pat Down: Yes;Consent Form Completed: No;StripBody Cavity Search: No']\n"
     ]
    }
   ],
   "source": [
    "actionsLst = df.ActionsTaken.unique()\n",
    "print(actionsLst)"
   ]
  },
  {
   "cell_type": "code",
   "execution_count": 73,
   "metadata": {},
   "outputs": [
    {
     "data": {
      "text/plain": [
       "BLACK         407406\n",
       "WHITE         147565\n",
       "HISPANIC       16009\n",
       "ASIAN           4336\n",
       "UNKNOWN         4116\n",
       "AMER. IND.       414\n",
       "Name: SubjectRace, dtype: int64"
      ]
     },
     "execution_count": 73,
     "metadata": {},
     "output_type": "execute_result"
    }
   ],
   "source": [
    "df['SubjectRace'].value_counts()"
   ]
  },
  {
   "cell_type": "code",
   "execution_count": 74,
   "metadata": {},
   "outputs": [],
   "source": [
    "#index_df[['StopResults', 'SubjectType', 'SearchOccurred', 'SearchTypes', 'LegalBasises', 'EvidenceSeized']] = index_df.ActionsTaken.str.split(';', expand=True)\n",
    "\n",
    "#I'm making sure the terms they use are uniform throughout. It seems like they are.\n",
    "count1 = 0\n",
    "count2 = 0\n",
    "count3 = 0\n",
    "count4 = 0\n",
    "\n",
    "for i in actionsLst:\n",
    "    if (type(i) is str):\n",
    "        if ('Stop Results: No action taken' in i):\n",
    "            count1 += 1\n",
    "        elif ('Stop Results: no action taken' in i):\n",
    "            count2 += 1\n",
    "        elif ('Stop Results: No Action Taken' in i):\n",
    "            count3 += 1\n",
    "        elif ('Stop Results: No Action taken' in i):\n",
    "            count4 += 1\n",
    "    \n",
    "        \n",
    "\n",
    "amerCount = df['SubjectRace'].value_counts()[\"AMER. IND.\"]\n",
    "asianCount = df['SubjectRace'].value_counts()[\"ASIAN\"]\n",
    "blackCount = df['SubjectRace'].value_counts()[\"BLACK\"]\n",
    "hispanicCount = df['SubjectRace'].value_counts()[\"HISPANIC\"]\n",
    "whiteCount = df['SubjectRace'].value_counts()[\"WHITE\"]\n",
    "\n",
    "noActionAmer = noActionAsian = noActionBlack = noActionHispanic = noActionWhite = 0\n",
    "\n",
    "nanActionAmer = nanActionAsian = nanActionBlack = nanActionHispanic = nanActionWhite = 0\n",
    "\n",
    "for index, row in df.iterrows():\n",
    "    if (type(row[\"ActionsTaken\"]) is str):\n",
    "        if ('Stop Results: No action taken' in row[\"ActionsTaken\"]):\n",
    "            if (row['SubjectRace'] == \"AMER. IND.\"):\n",
    "                noActionAmer += 1\n",
    "            elif (row['SubjectRace'] == \"ASIAN\"):\n",
    "                noActionAsian += 1\n",
    "            elif (row['SubjectRace'] == \"BLACK\"):\n",
    "                noActionBlack += 1\n",
    "            elif (row['SubjectRace'] == \"HISPANIC\"):\n",
    "                noActionHispanic += 1\n",
    "            elif (row['SubjectRace'] == \"WHITE\"):\n",
    "                noActionWhite += 1\n",
    "    if (type(row[\"ActionsTaken\"]) is float):\n",
    "        if (row['SubjectRace'] == \"AMER. IND.\"):\n",
    "            nanActionAmer += 1\n",
    "        elif (row['SubjectRace'] == \"ASIAN\"):\n",
    "            nanActionAsian += 1\n",
    "        elif (row['SubjectRace'] == \"BLACK\"):\n",
    "            nanActionBlack += 1\n",
    "        elif (row['SubjectRace'] == \"HISPANIC\"):\n",
    "            nanActionHispanic += 1\n",
    "        elif (row['SubjectRace'] == \"WHITE\"):\n",
    "            nanActionWhite += 1\n",
    "            \n",
    "noActionAmerPer = (noActionAmer / amerCount) * 100\n",
    "noActionAsianPer = (noActionAsian / asianCount) * 100\n",
    "noActionBlackPer = (noActionBlack / blackCount) * 100\n",
    "noActionHispanicPer = (noActionHispanic / hispanicCount) * 100\n",
    "noActionWhitePer = (noActionWhite / whiteCount) * 100\n",
    "\n",
    "nanActionAmerPer = (nanActionAmer / amerCount) * 100\n",
    "nanActionAsianPer = (nanActionAsian / asianCount) * 100\n",
    "nanActionBlackPer = (nanActionBlack / blackCount) * 100\n",
    "nanActionHispanicPer = (nanActionHispanic / hispanicCount) * 100\n",
    "nanActionWhitePer = (nanActionWhite / whiteCount) * 100\n",
    "\n",
    "\n"
   ]
  },
  {
   "cell_type": "code",
   "execution_count": 75,
   "metadata": {},
   "outputs": [
    {
     "data": {
      "text/plain": [
       "<matplotlib.axes._subplots.AxesSubplot at 0x1f7bc06db88>"
      ]
     },
     "execution_count": 75,
     "metadata": {},
     "output_type": "execute_result"
    },
    {
     "data": {
      "image/png": "[encoded data removed]",
      "text/plain": [
       "<Figure size 432x288 with 1 Axes>"
      ]
     },
     "metadata": {
      "needs_background": "light"
     },
     "output_type": "display_data"
    },
    {
     "data": {
      "image/png": "[encoded data removed]",
      "text/plain": [
       "<Figure size 432x288 with 1 Axes>"
      ]
     },
     "metadata": {
      "needs_background": "light"
     },
     "output_type": "display_data"
    }
   ],
   "source": [
    "raceLst = [\"Asian\", \"Black\", \"Hispanic\", \"Indigenous\", \"White\"]\n",
    "noActionPerDict = {\"Race\": [\"Asian\", \"Black\", \"Hispanic\", \"Indigenous\", \"White\"], \"No Action Count\": [noActionAsianPer, noActionBlackPer, noActionHispanicPer, noActionAmerPer, noActionWhitePer]}\n",
    "nanActionPerDict = {\"Race\": [\"Asian\", \"Black\", \"Hispanic\", \"Indigenous\", \"White\"], \"Action Not Specified\": [nanActionAsianPer, nanActionBlackPer, nanActionHispanicPer, nanActionAmerPer, nanActionWhitePer]}\n",
    "noActionDf = pd.DataFrame(noActionPerDict).set_index('Race')\n",
    "nanActionDf = pd.DataFrame(nanActionPerDict).set_index('Race')\n",
    "noActionDf.plot.bar()\n",
    "nanActionDf.plot.bar()"
   ]
  },
  {
   "cell_type": "markdown",
   "metadata": {},
   "source": [
    "We also had to do some cleanup on our gender dataset."
   ]
  },
  {
   "cell_type": "code",
   "execution_count": 76,
   "metadata": {},
   "outputs": [],
   "source": [
    "gender_df = gender_df.dropna(how='all')\n",
    "gender_df = gender_df.drop(columns=['Blank'])"
   ]
  },
  {
   "cell_type": "code",
   "execution_count": 77,
   "metadata": {},
   "outputs": [
    {
     "data": {
      "text/html": [
       "<div>\n",
       "<style scoped>\n",
       "    .dataframe tbody tr th:only-of-type {\n",
       "        vertical-align: middle;\n",
       "    }\n",
       "\n",
       "    .dataframe tbody tr th {\n",
       "        vertical-align: top;\n",
       "    }\n",
       "\n",
       "    .dataframe thead th {\n",
       "        text-align: right;\n",
       "    }\n",
       "</style>\n",
       "<table border=\"1\" class=\"dataframe\">\n",
       "  <thead>\n",
       "    <tr style=\"text-align: right;\">\n",
       "      <th></th>\n",
       "      <th>Female2000</th>\n",
       "      <th>Female2014-2018</th>\n",
       "      <th>FemaleMOE</th>\n",
       "      <th>Male2000</th>\n",
       "      <th>Male2014-2018</th>\n",
       "      <th>MaleMOE</th>\n",
       "    </tr>\n",
       "    <tr>\n",
       "      <th>Location</th>\n",
       "      <th></th>\n",
       "      <th></th>\n",
       "      <th></th>\n",
       "      <th></th>\n",
       "      <th></th>\n",
       "      <th></th>\n",
       "    </tr>\n",
       "  </thead>\n",
       "  <tbody>\n",
       "    <tr>\n",
       "      <td>Algiers Point</td>\n",
       "      <td>0.520</td>\n",
       "      <td>0.503</td>\n",
       "      <td>0.049</td>\n",
       "      <td>0.480</td>\n",
       "      <td>0.497</td>\n",
       "      <td>0.033</td>\n",
       "    </tr>\n",
       "    <tr>\n",
       "      <td>Audubon</td>\n",
       "      <td>0.530</td>\n",
       "      <td>0.534</td>\n",
       "      <td>0.022</td>\n",
       "      <td>0.470</td>\n",
       "      <td>0.466</td>\n",
       "      <td>0.017</td>\n",
       "    </tr>\n",
       "    <tr>\n",
       "      <td>B.W. Cooper</td>\n",
       "      <td>0.604</td>\n",
       "      <td>0.515</td>\n",
       "      <td>0.048</td>\n",
       "      <td>0.396</td>\n",
       "      <td>0.485</td>\n",
       "      <td>0.063</td>\n",
       "    </tr>\n",
       "    <tr>\n",
       "      <td>Bayou St. John</td>\n",
       "      <td>0.532</td>\n",
       "      <td>0.525</td>\n",
       "      <td>0.030</td>\n",
       "      <td>0.468</td>\n",
       "      <td>0.475</td>\n",
       "      <td>0.041</td>\n",
       "    </tr>\n",
       "    <tr>\n",
       "      <td>Behrman</td>\n",
       "      <td>0.539</td>\n",
       "      <td>0.582</td>\n",
       "      <td>0.028</td>\n",
       "      <td>0.461</td>\n",
       "      <td>0.418</td>\n",
       "      <td>0.036</td>\n",
       "    </tr>\n",
       "    <tr>\n",
       "      <td>...</td>\n",
       "      <td>...</td>\n",
       "      <td>...</td>\n",
       "      <td>...</td>\n",
       "      <td>...</td>\n",
       "      <td>...</td>\n",
       "      <td>...</td>\n",
       "    </tr>\n",
       "    <tr>\n",
       "      <td>West Lake Forest</td>\n",
       "      <td>0.551</td>\n",
       "      <td>0.537</td>\n",
       "      <td>0.023</td>\n",
       "      <td>0.449</td>\n",
       "      <td>0.463</td>\n",
       "      <td>0.044</td>\n",
       "    </tr>\n",
       "    <tr>\n",
       "      <td>West Riverside</td>\n",
       "      <td>0.535</td>\n",
       "      <td>0.518</td>\n",
       "      <td>0.029</td>\n",
       "      <td>0.465</td>\n",
       "      <td>0.482</td>\n",
       "      <td>0.037</td>\n",
       "    </tr>\n",
       "    <tr>\n",
       "      <td>Whitney</td>\n",
       "      <td>0.545</td>\n",
       "      <td>0.518</td>\n",
       "      <td>0.034</td>\n",
       "      <td>0.455</td>\n",
       "      <td>0.482</td>\n",
       "      <td>0.128</td>\n",
       "    </tr>\n",
       "    <tr>\n",
       "      <td>New Orleans</td>\n",
       "      <td>0.531</td>\n",
       "      <td>0.524</td>\n",
       "      <td>0.000</td>\n",
       "      <td>0.469</td>\n",
       "      <td>0.476</td>\n",
       "      <td>0.000</td>\n",
       "    </tr>\n",
       "    <tr>\n",
       "      <td>United States</td>\n",
       "      <td>0.509</td>\n",
       "      <td>0.508</td>\n",
       "      <td>0.000</td>\n",
       "      <td>0.491</td>\n",
       "      <td>0.492</td>\n",
       "      <td>0.000</td>\n",
       "    </tr>\n",
       "  </tbody>\n",
       "</table>\n",
       "<p>74 rows × 6 columns</p>\n",
       "</div>"
      ],
      "text/plain": [
       "                  Female2000  Female2014-2018  FemaleMOE  Male2000  \\\n",
       "Location                                                             \n",
       "Algiers Point          0.520            0.503      0.049     0.480   \n",
       "Audubon                0.530            0.534      0.022     0.470   \n",
       "B.W. Cooper            0.604            0.515      0.048     0.396   \n",
       "Bayou St. John         0.532            0.525      0.030     0.468   \n",
       "Behrman                0.539            0.582      0.028     0.461   \n",
       "...                      ...              ...        ...       ...   \n",
       "West Lake Forest       0.551            0.537      0.023     0.449   \n",
       "West Riverside         0.535            0.518      0.029     0.465   \n",
       "Whitney                0.545            0.518      0.034     0.455   \n",
       "New Orleans            0.531            0.524      0.000     0.469   \n",
       "United States          0.509            0.508      0.000     0.491   \n",
       "\n",
       "                  Male2014-2018  MaleMOE  \n",
       "Location                                  \n",
       "Algiers Point             0.497    0.033  \n",
       "Audubon                   0.466    0.017  \n",
       "B.W. Cooper               0.485    0.063  \n",
       "Bayou St. John            0.475    0.041  \n",
       "Behrman                   0.418    0.036  \n",
       "...                         ...      ...  \n",
       "West Lake Forest          0.463    0.044  \n",
       "West Riverside            0.482    0.037  \n",
       "Whitney                   0.482    0.128  \n",
       "New Orleans               0.476    0.000  \n",
       "United States             0.492    0.000  \n",
       "\n",
       "[74 rows x 6 columns]"
      ]
     },
     "metadata": {},
     "output_type": "display_data"
    },
    {
     "data": {
      "text/plain": [
       "Female2000         float64\n",
       "Female2014-2018    float64\n",
       "FemaleMOE          float64\n",
       "Male2000           float64\n",
       "Male2014-2018      float64\n",
       "MaleMOE            float64\n",
       "dtype: object"
      ]
     },
     "metadata": {},
     "output_type": "display_data"
    }
   ],
   "source": [
    "display(gender_df)\n",
    "display(gender_df.dtypes)"
   ]
  },
  {
   "cell_type": "markdown",
   "metadata": {},
   "source": [
    "After cleaning up these datasets, we moved onto some data analysis. Our first analysis was a simple test to see if we could extract any useful information based on a subject's gender. Below is a simple pie chart that shows roughly how many men vs how many women were stopped by police, as well as a bar graph that shows exact numbers."
   ]
  },
  {
   "cell_type": "code",
   "execution_count": 88,
   "metadata": {},
   "outputs": [
    {
     "data": {
      "text/plain": [
       "<matplotlib.axes._subplots.AxesSubplot at 0x1f79e21cb88>"
      ]
     },
     "metadata": {},
     "output_type": "display_data"
    },
    {
     "data": {
      "image/png": "[encoded data removed]",
      "text/plain": [
       "<Figure size 432x288 with 1 Axes>"
      ]
     },
     "metadata": {},
     "output_type": "display_data"
    }
   ],
   "source": [
    "df['SubjectGender'] = df['SubjectGender'].fillna('Unknown')\n",
    "display(df['SubjectGender'].value_counts().plot.pie(colors=['blue', 'pink', 'gray']))"
   ]
  },
  {
   "cell_type": "code",
   "execution_count": 87,
   "metadata": {},
   "outputs": [
    {
     "data": {
      "text/plain": [
       "<matplotlib.axes._subplots.AxesSubplot at 0x1f79e1c28c8>"
      ]
     },
     "metadata": {},
     "output_type": "display_data"
    },
    {
     "data": {
      "image/png": "[encoded data removed]",
      "text/plain": [
       "<Figure size 432x288 with 1 Axes>"
      ]
     },
     "metadata": {
      "needs_background": "light"
     },
     "output_type": "display_data"
    }
   ],
   "source": [
    "display(df['SubjectGender'].value_counts().plot.bar())"
   ]
  },
  {
   "cell_type": "markdown",
   "metadata": {},
   "source": [
    "This pie chart compares the percentage of women and men located in the city of New Orleans."
   ]
  },
  {
   "cell_type": "code",
   "execution_count": 79,
   "metadata": {},
   "outputs": [
    {
     "data": {
      "text/plain": [
       "<matplotlib.axes._subplots.AxesSubplot at 0x1f79db0f988>"
      ]
     },
     "metadata": {},
     "output_type": "display_data"
    },
    {
     "data": {
      "image/png": "[encoded data removed]",
      "text/plain": [
       "<Figure size 432x288 with 1 Axes>"
      ]
     },
     "metadata": {},
     "output_type": "display_data"
    }
   ],
   "source": [
    "NewOrleansGenders = gender_df[['Female2014-2018', 'Male2014-2018']]\n",
    "display(NewOrleansGenders.loc['New Orleans'].plot.pie(y='Gender in New Orleans, 2014-2018', colors=['pink', 'blue']))"
   ]
  },
  {
   "cell_type": "markdown",
   "metadata": {},
   "source": [
    "Although we can already see that males are disproportionately stopped compared to females (since if it were proportional there would be just as many, if not slightly more, females stopped by police as males), we would like to transform the data further to ensure we are comparing the two datasets fairly."
   ]
  },
  {
   "cell_type": "code",
   "execution_count": 80,
   "metadata": {},
   "outputs": [],
   "source": [
    "#REMOVE BEFORE TURNING IN: do more complicated analysis here??"
   ]
  },
  {
   "cell_type": "code",
   "execution_count": 89,
   "metadata": {},
   "outputs": [],
   "source": [
    "numRows = len(df.index)\n",
    "actionCategories = []\n",
    "temp = \"\"\n",
    "semiBool = True\n",
    "for i in actionsLst:\n",
    "    if (type(i) is str):\n",
    "        semiBool = True\n",
    "        for j in i:\n",
    "            \n",
    "            if (semiBool == True):\n",
    "                if(j != \":\"):\n",
    "                    temp += j\n",
    "                else:\n",
    "                    semiBool = False\n",
    "                    if (temp not in actionCategories):\n",
    "                        actionCategories.append(temp)\n",
    "                    temp = \"\"\n",
    "            elif (j == \";\"):\n",
    "                semiBool = True\n",
    "\n",
    "\n",
    "    "
   ]
  },
  {
   "cell_type": "code",
   "execution_count": 82,
   "metadata": {},
   "outputs": [],
   "source": [
    "temp1 = []\n",
    "\n",
    "for i in range(numRows):\n",
    "    temp1.append(0)\n",
    "\n",
    "stopResultsLst = []\n",
    "subjectTypeLst = []\n",
    "searchOccurredLst = []\n",
    "searchTypesLst = []\n",
    "legalBasisesLst = []\n",
    "evidenceSeizedLst = []\n",
    "evidenceTypesLst = []\n",
    "consentToSearchLst = []\n",
    "exitVehicleLst = []\n",
    "searchTypePatDownLst = []\n",
    "consentFormCompletedLst = []\n",
    "consentGivenLst = []\n",
    "stripBodyCavitySearchLst = []\n",
    "typeOfSearchLst = []\n",
    "typeOfSearchSupervisorApprovalLst = []\n",
    "\n",
    "emptyLst = [\"-\", \"-\", \"-\", \"-\", \"-\", \"-\", \"-\", \"-\", \"-\", \"-\", \"-\", \"-\", \"-\", \"-\", \"-\"]\n",
    "\n",
    "for index, row in df.iterrows():\n",
    "    tempLst = emptyLst\n",
    "    if (type(row[\"ActionsTaken\"]) is str):\n",
    "        list1 = row[\"ActionsTaken\"].split(':')\n",
    "\n",
    "        list2 = []\n",
    "\n",
    "        for i in list1:\n",
    "            temp = i.split(';')\n",
    "            for j in temp:\n",
    "                if (j[0] == ' '):\n",
    "                    list2.append(j[1:])\n",
    "                else:\n",
    "                    list2.append(j)\n",
    "        for i in (range(len(list2))):\n",
    "            if (list2[i] in actionCategories):\n",
    "                if (list2[i] == 'Stop Results'):\n",
    "                    tempLst[0] = list2[i + 1]\n",
    "                elif (list2[i] == 'Subject Type'):\n",
    "                    tempLst[1] = list2[i + 1]\n",
    "                elif (list2[i] == 'Search Occurred'):\n",
    "                    tempLst[2] = list2[i + 1]\n",
    "                elif (list2[i] == 'Search Types'):\n",
    "                    tempLst[3] = list2[i + 1]\n",
    "                elif (list2[i] == 'Legal Basises'):\n",
    "                    tempLst[4] = list2[i + 1]\n",
    "                elif (list2[i] == 'Evidence Seized'):\n",
    "                    tempLst[5] = list2[i + 1]\n",
    "                elif (list2[i] == 'Evidence Types'):\n",
    "                    tempLst[6] = list2[i + 1]\n",
    "                elif (list2[i] == 'Consent To Search'):\n",
    "                    tempLst[7] = list2[i + 1]\n",
    "                elif (list2[i] == 'Exit Vehicle'):\n",
    "                    tempLst[8] = list2[i + 1]\n",
    "                elif (list2[i] == 'Search Type Pat Down'):\n",
    "                    tempLst[9] = list2[i + 1]\n",
    "                elif (list2[i] == 'Consent Form Completed'):\n",
    "                    tempLst[10] = list2[i + 1]\n",
    "                elif (list2[i] == 'StripBody Cavity Search'):\n",
    "                    tempLst[11] = list2[i + 1]\n",
    "                elif (list2[i] == 'Consent Given'):\n",
    "                    tempLst[12] = list2[i + 1]\n",
    "                elif (list2[i] == 'Type of Search'):\n",
    "                    tempLst[13] = list2[i + 1]\n",
    "                elif (list2[i] == 'Type of Search Supervisor Approval'):\n",
    "                    tempLst[14] = list2[i + 1]\n",
    "\n",
    "                    \n",
    "                    \n",
    "    stopResultsLst.append(tempLst[0])\n",
    "    subjectTypeLst.append(tempLst[1])\n",
    "    searchOccurredLst.append(tempLst[2])\n",
    "    searchTypesLst.append(tempLst[3])\n",
    "    legalBasisesLst.append(tempLst[4])\n",
    "    evidenceSeizedLst.append(tempLst[5])\n",
    "    evidenceTypesLst.append(tempLst[6])\n",
    "    consentToSearchLst.append(tempLst[7])\n",
    "    exitVehicleLst.append(tempLst[8])\n",
    "    searchTypePatDownLst.append(tempLst[9])\n",
    "    consentFormCompletedLst.append(tempLst[10])\n",
    "    stripBodyCavitySearchLst.append(tempLst[11])\n",
    "    consentGivenLst.append(tempLst[12])\n",
    "    typeOfSearchLst.append(tempLst[13])\n",
    "    typeOfSearchSupervisorApprovalLst.append(tempLst[14])\n",
    "\n",
    "                \n",
    "df['StopResults'] = stopResultsLst\n",
    "df['SubjectType'] = subjectTypeLst\n",
    "df['SearchOccurred'] = searchOccurredLst\n",
    "df['SearchTypes'] = searchTypesLst\n",
    "df['LegalBasises'] = legalBasisesLst\n",
    "df['EvidenceSeized'] = evidenceSeizedLst\n",
    "df['EvidenceTypes'] = evidenceTypesLst\n",
    "df['ConsentToSearch'] = consentToSearchLst\n",
    "df['ExitVehicle'] = exitVehicleLst\n",
    "df['SearchTypePatDown'] = searchTypePatDownLst\n",
    "df['ConsentFormCompleted'] = consentFormCompletedLst\n",
    "df['StripBodyCavitySearch'] = stripBodyCavitySearchLst\n",
    "df['ConsentGiven'] = consentGivenLst\n",
    "df['TypeOfSearch'] = typeOfSearchLst\n",
    "df['TypeOfSearchSupervisorApproval'] = typeOfSearchSupervisorApprovalLst"
   ]
  },
  {
   "cell_type": "code",
   "execution_count": 83,
   "metadata": {},
   "outputs": [
    {
     "data": {
      "text/plain": [
       "<matplotlib.axes._subplots.AxesSubplot at 0x1f79dbacc48>"
      ]
     },
     "execution_count": 83,
     "metadata": {},
     "output_type": "execute_result"
    },
    {
     "data": {
      "image/png": "[encoded data removed]",
      "text/plain": [
       "<Figure size 432x288 with 1 Axes>"
      ]
     },
     "metadata": {
      "needs_background": "light"
     },
     "output_type": "display_data"
    },
    {
     "data": {
      "image/png": "[encoded data removed]",
      "text/plain": [
       "<Figure size 432x288 with 1 Axes>"
      ]
     },
     "metadata": {
      "needs_background": "light"
     },
     "output_type": "display_data"
    }
   ],
   "source": [
    "verbalWarningAmer = verbalWarningAsian = verbalWarningBlack = verbalWarningHispanic = verbalWarningWhite = verbalWarningFemale = verbalWarningMale = verbalWarningUnknown = 0\n",
    "\n",
    "for index, row in df.iterrows():\n",
    "    if (row[\"StopResults\"] == \"Verbal Warning\"):\n",
    "        if (row['SubjectRace'] == \"AMER. IND.\"):\n",
    "            verbalWarningAmer += 1\n",
    "        elif (row['SubjectRace'] == \"ASIAN\"):\n",
    "            verbalWarningAsian += 1\n",
    "        elif (row['SubjectRace'] == \"BLACK\"):\n",
    "            verbalWarningBlack += 1\n",
    "        elif (row['SubjectRace'] == \"HISPANIC\"):\n",
    "            verbalWarningHispanic += 1\n",
    "        elif (row['SubjectRace'] == \"WHITE\"):\n",
    "            verbalWarningWhite += 1\n",
    "        if (row['SubjectGender'] == \"FEMALE\"):\n",
    "            verbalWarningFemale += 1\n",
    "        if (row['SubjectGender'] == \"MALE\"):\n",
    "            verbalWarningMale += 1\n",
    "        if (row['SubjectGender'] == \"Unknown\"):\n",
    "            verbalWarningUnknown += 1\n",
    "            \n",
    "verbalWarningAmerPer = (verbalWarningAmer / amerCount) * 100\n",
    "verbalWarningAsianPer = (verbalWarningAsian / asianCount) * 100\n",
    "verbalWarningBlackPer = (verbalWarningBlack / blackCount) * 100\n",
    "verbalWarningHispanicPer = (verbalWarningHispanic / hispanicCount) * 100\n",
    "verbalWarningWhitePer = (verbalWarningWhite / whiteCount) * 100\n",
    "\n",
    "verbalWarningFemalePer = (verbalWarningFemale / df['SubjectGender'].value_counts()[\"FEMALE\"]) * 100\n",
    "verbalWarningMalePer = (verbalWarningMale / df['SubjectGender'].value_counts()[\"MALE\"]) * 100\n",
    "verbalWarningUnknownPer = (verbalWarningUnknown / df['SubjectGender'].value_counts()[\"Unknown\"]) * 100\n",
    "\n",
    "verbalWarningPerDict = {\"Race\": [\"Asian\", \"Black\", \"Hispanic\", \"Indigenous\", \"White\"], \"Percentage of Interactions Resulting in Verbal Warnings\": [verbalWarningAsianPer, verbalWarningBlackPer, verbalWarningHispanicPer, verbalWarningAmerPer, verbalWarningWhitePer]}\n",
    "verbalWarningPerDictGender = {\"Gender\": [\"Female\", \"Male\", \"Unknown\"], \"Percentage of Interactions Resulting in Verbal Warnings\": [verbalWarningFemalePer, verbalWarningMalePer, verbalWarningUnknownPer]}\n",
    "\n",
    "verbalWarningRaceDf = pd.DataFrame(verbalWarningPerDict).set_index('Race')\n",
    "verbalWarningGenderDf = pd.DataFrame(verbalWarningPerDictGender).set_index('Gender')\n",
    "\n",
    "\n",
    "verbalWarningRaceDf.plot.bar()\n",
    "verbalWarningGenderDf.plot.bar()"
   ]
  },
  {
   "cell_type": "code",
   "execution_count": null,
   "metadata": {},
   "outputs": [],
   "source": []
  },
  {
   "cell_type": "code",
   "execution_count": null,
   "metadata": {},
   "outputs": [],
   "source": []
  }
 ],
 "metadata": {
  "kernelspec": {
   "display_name": "Python 3",
   "language": "python",
   "name": "python3"
  },
  "language_info": {
   "codemirror_mode": {
    "name": "ipython",
    "version": 3
   },
   "file_extension": ".py",
   "mimetype": "text/x-python",
   "name": "python",
   "nbconvert_exporter": "python",
   "pygments_lexer": "ipython3",
   "version": "3.7.4"
  }
 },
 "nbformat": 4,
 "nbformat_minor": 2
}
