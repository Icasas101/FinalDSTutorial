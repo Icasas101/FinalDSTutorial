{
 "cells": [
  {
<<<<<<< HEAD
   "cell_type": "code",
   "execution_count": 1,
   "metadata": {},
   "outputs": [],
   "source": [
    "import pandas"
=======
   "cell_type": "markdown",
   "metadata": {},
   "source": [
    "https://icasas101.github.io/FinalDSTutorial/"
>>>>>>> b9787168a2086fa64bfda41e9f6e7314a97e17e8
   ]
  },
  {
   "cell_type": "code",
<<<<<<< HEAD
   "execution_count": 2,
   "metadata": {},
   "outputs": [
    {
     "name": "stdout",
     "output_type": "stream",
     "text": [
      "hello\n"
     ]
    }
   ],
   "source": [
    "print(\"hello\")"
=======
   "execution_count": 1,
   "metadata": {},
   "outputs": [],
   "source": [
    "import pandas"
>>>>>>> b9787168a2086fa64bfda41e9f6e7314a97e17e8
   ]
  },
  {
   "cell_type": "code",
   "execution_count": 2,
   "metadata": {},
   "outputs": [
    {
     "name": "stdout",
     "output_type": "stream",
     "text": [
<<<<<<< HEAD
      "hi\n"
=======
      "hello\n"
>>>>>>> b9787168a2086fa64bfda41e9f6e7314a97e17e8
     ]
    }
   ],
   "source": [
<<<<<<< HEAD
    "print(\"hi\")"
=======
    "print(\"hello\")"
>>>>>>> b9787168a2086fa64bfda41e9f6e7314a97e17e8
   ]
  },
  {
   "cell_type": "code",
   "execution_count": null,
   "metadata": {},
   "outputs": [],
   "source": []
  }
 ],
 "metadata": {
  "kernelspec": {
   "display_name": "Python 3",
   "language": "python",
   "name": "python3"
  },
  "language_info": {
   "codemirror_mode": {
    "name": "ipython",
    "version": 3
   },
   "file_extension": ".py",
   "mimetype": "text/x-python",
   "name": "python",
   "nbconvert_exporter": "python",
   "pygments_lexer": "ipython3",
<<<<<<< HEAD
   "version": "3.8.3"
=======
   "version": "3.7.4"
>>>>>>> b9787168a2086fa64bfda41e9f6e7314a97e17e8
  }
 },
 "nbformat": 4,
 "nbformat_minor": 2
}
